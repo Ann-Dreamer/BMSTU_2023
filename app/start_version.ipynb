{
 "cells": [
  {
   "cell_type": "code",
   "execution_count": null,
   "id": "e2b170b5",
   "metadata": {},
   "outputs": [],
   "source": [
    "#импорты\n",
    "import numpy as np\n",
    "import pandas as pd\n",
    "import sklearn\n",
    "import matplotlib.pyplot as plt\n",
    "import seaborn as sns\n",
    "%matplotlib inline"
   ]
  },
  {
   "cell_type": "code",
   "execution_count": null,
   "id": "7e9bb7c3",
   "metadata": {},
   "outputs": [],
   "source": [
    "#приложение"
   ]
  },
  {
   "cell_type": "code",
   "execution_count": null,
   "id": "365cf9e4",
   "metadata": {},
   "outputs": [],
   "source": [
    "#2.5.\tРазработка приложения\n",
    "#Описать функционал приложения и краткую инструкцию использования.\n"
   ]
  },
  {
   "cell_type": "code",
   "execution_count": null,
   "id": "8b6f5840",
   "metadata": {},
   "outputs": [],
   "source": [
    "#2.6.\tСоздание удаленного репозитория и загрузка результатов работы на него.\n",
    "#Указывается страница слушателя, созданный репозиторий, коммиты в репозитории.\n"
   ]
  }
 ],
 "metadata": {
  "kernelspec": {
   "display_name": "Python 3 (ipykernel)",
   "language": "python",
   "name": "python3"
  },
  "language_info": {
   "codemirror_mode": {
    "name": "ipython",
    "version": 3
   },
   "file_extension": ".py",
   "mimetype": "text/x-python",
   "name": "python",
   "nbconvert_exporter": "python",
   "pygments_lexer": "ipython3",
   "version": "3.9.13"
  }
 },
 "nbformat": 4,
 "nbformat_minor": 5
}
