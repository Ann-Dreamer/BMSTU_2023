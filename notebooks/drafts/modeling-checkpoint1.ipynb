{
 "cells": [
  {
   "cell_type": "markdown",
   "id": "b271aee3",
   "metadata": {},
   "source": [
    "# СОЗДАНИЕ МОДЕЛЕЙ "
   ]
  },
  {
   "cell_type": "code",
   "execution_count": 11,
   "id": "4df1aa79",
   "metadata": {},
   "outputs": [],
   "source": [
    "# импорт библиотек\n",
    "import pandas as pd\n",
    "import numpy as np\n",
    "import matplotlib.pyplot as plt\n",
    "from matplotlib.cbook import boxplot_stats \n",
    "import seaborn as sns\n",
    "\n",
    "import sklearn\n",
    "from sklearn.base import BaseEstimator\n",
    "from sklearn.compose import ColumnTransformer\n",
    "from sklearn import datasets\n",
    "from sklearn.dummy import DummyRegressor\n",
    "from sklearn.ensemble import GradientBoostingRegressor, AdaBoostRegressor, RandomForestRegressor\n",
    "from sklearn import linear_model\n",
    "from sklearn.linear_model import LinearRegression, LogisticRegression, BayesianRidge, SGDRegressor, ARDRegression, Ridge, Lasso, ElasticNet\n",
    "from sklearn import metrics\n",
    "from sklearn.metrics import mean_absolute_error, mean_squared_error, max_error, r2_score, accuracy_score, roc_auc_score, roc_curve, plot_roc_curve, ConfusionMatrixDisplay\n",
    "from sklearn.metrics import mean_absolute_percentage_error as MAPE\n",
    "from sklearn.model_selection import train_test_split, cross_val_score, cross_validate, KFold, GridSearchCV, RandomizedSearchCV\n",
    "from sklearn import neighbors\n",
    "from sklearn.neighbors import KNeighborsRegressor, KNeighborsClassifier\n",
    "from sklearn.neural_network import MLPRegressor\n",
    "from sklearn.pipeline import make_pipeline\n",
    "from sklearn import preprocessing\n",
    "from sklearn.preprocessing import MinMaxScaler, StandardScaler, LabelEncoder, Normalizer, OrdinalEncoder, PolynomialFeatures\n",
    "from sklearn.svm import SVC, LinearSVC, SVR\n",
    "from sklearn.tree import DecisionTreeRegressor\n",
    "\n",
    "import tensorflow as tf\n",
    "from tensorflow import keras\n",
    "from tensorflow.keras import layers\n",
    "from tensorflow.keras import Sequential\n",
    "from tensorflow.keras.layers import Dense, BatchNormalization, LeakyReLU, Activation, Dropout, LSTM\n",
    "from keras.callbacks import EarlyStopping, ModelCheckpoint\n",
    "from keras.models import load_model\n",
    "\n",
    "import plotly.express as px\n",
    "from scipy import stats\n",
    "from scipy.stats import ttest_ind\n",
    "import pickle\n",
    "import io\n",
    "\n",
    "%matplotlib inline"
   ]
  },
  {
   "cell_type": "code",
   "execution_count": 13,
   "id": "82ad0699",
   "metadata": {},
   "outputs": [
    {
     "data": {
      "text/html": [
       "<div>\n",
       "<style scoped>\n",
       "    .dataframe tbody tr th:only-of-type {\n",
       "        vertical-align: middle;\n",
       "    }\n",
       "\n",
       "    .dataframe tbody tr th {\n",
       "        vertical-align: top;\n",
       "    }\n",
       "\n",
       "    .dataframe thead th {\n",
       "        text-align: right;\n",
       "    }\n",
       "</style>\n",
       "<table border=\"1\" class=\"dataframe\">\n",
       "  <thead>\n",
       "    <tr style=\"text-align: right;\">\n",
       "      <th></th>\n",
       "      <th>Соотношение матрица-наполнитель</th>\n",
       "      <th>Плотность, кг/м3</th>\n",
       "      <th>модуль упругости, ГПа</th>\n",
       "      <th>Количество отвердителя, м.%</th>\n",
       "      <th>Содержание эпоксидных групп,%_2</th>\n",
       "      <th>Температура вспышки, С_2</th>\n",
       "      <th>Поверхностная плотность, г/м2</th>\n",
       "      <th>Модуль упругости при растяжении, ГПа</th>\n",
       "      <th>Прочность при растяжении, МПа</th>\n",
       "      <th>Потребление смолы, г/м2</th>\n",
       "      <th>Угол нашивки, град</th>\n",
       "      <th>Шаг нашивки</th>\n",
       "      <th>Плотность нашивки</th>\n",
       "    </tr>\n",
       "  </thead>\n",
       "  <tbody>\n",
       "    <tr>\n",
       "      <th>0</th>\n",
       "      <td>0.274768</td>\n",
       "      <td>0.651097</td>\n",
       "      <td>0.452951</td>\n",
       "      <td>0.079153</td>\n",
       "      <td>0.607435</td>\n",
       "      <td>0.509164</td>\n",
       "      <td>0.162230</td>\n",
       "      <td>0.272962</td>\n",
       "      <td>0.727777</td>\n",
       "      <td>0.514688</td>\n",
       "      <td>0</td>\n",
       "      <td>0.289334</td>\n",
       "      <td>0.546433</td>\n",
       "    </tr>\n",
       "    <tr>\n",
       "      <th>1</th>\n",
       "      <td>0.274768</td>\n",
       "      <td>0.651097</td>\n",
       "      <td>0.452951</td>\n",
       "      <td>0.630983</td>\n",
       "      <td>0.418887</td>\n",
       "      <td>0.583596</td>\n",
       "      <td>0.162230</td>\n",
       "      <td>0.272962</td>\n",
       "      <td>0.727777</td>\n",
       "      <td>0.514688</td>\n",
       "      <td>0</td>\n",
       "      <td>0.362355</td>\n",
       "      <td>0.319758</td>\n",
       "    </tr>\n",
       "    <tr>\n",
       "      <th>2</th>\n",
       "      <td>0.466552</td>\n",
       "      <td>0.651097</td>\n",
       "      <td>0.461725</td>\n",
       "      <td>0.511257</td>\n",
       "      <td>0.495653</td>\n",
       "      <td>0.509164</td>\n",
       "      <td>0.162230</td>\n",
       "      <td>0.272962</td>\n",
       "      <td>0.727777</td>\n",
       "      <td>0.514688</td>\n",
       "      <td>0</td>\n",
       "      <td>0.362355</td>\n",
       "      <td>0.494123</td>\n",
       "    </tr>\n",
       "    <tr>\n",
       "      <th>3</th>\n",
       "      <td>0.465836</td>\n",
       "      <td>0.571539</td>\n",
       "      <td>0.458649</td>\n",
       "      <td>0.511257</td>\n",
       "      <td>0.495653</td>\n",
       "      <td>0.509164</td>\n",
       "      <td>0.162230</td>\n",
       "      <td>0.272962</td>\n",
       "      <td>0.727777</td>\n",
       "      <td>0.514688</td>\n",
       "      <td>0</td>\n",
       "      <td>0.362355</td>\n",
       "      <td>0.546433</td>\n",
       "    </tr>\n",
       "    <tr>\n",
       "      <th>4</th>\n",
       "      <td>0.424236</td>\n",
       "      <td>0.332865</td>\n",
       "      <td>0.494944</td>\n",
       "      <td>0.511257</td>\n",
       "      <td>0.495653</td>\n",
       "      <td>0.509164</td>\n",
       "      <td>0.162230</td>\n",
       "      <td>0.272962</td>\n",
       "      <td>0.727777</td>\n",
       "      <td>0.514688</td>\n",
       "      <td>0</td>\n",
       "      <td>0.362355</td>\n",
       "      <td>0.720799</td>\n",
       "    </tr>\n",
       "    <tr>\n",
       "      <th>...</th>\n",
       "      <td>...</td>\n",
       "      <td>...</td>\n",
       "      <td>...</td>\n",
       "      <td>...</td>\n",
       "      <td>...</td>\n",
       "      <td>...</td>\n",
       "      <td>...</td>\n",
       "      <td>...</td>\n",
       "      <td>...</td>\n",
       "      <td>...</td>\n",
       "      <td>...</td>\n",
       "      <td>...</td>\n",
       "      <td>...</td>\n",
       "    </tr>\n",
       "    <tr>\n",
       "      <th>917</th>\n",
       "      <td>0.361662</td>\n",
       "      <td>0.444480</td>\n",
       "      <td>0.560064</td>\n",
       "      <td>0.337550</td>\n",
       "      <td>0.333908</td>\n",
       "      <td>0.703458</td>\n",
       "      <td>0.161609</td>\n",
       "      <td>0.473553</td>\n",
       "      <td>0.472912</td>\n",
       "      <td>0.183151</td>\n",
       "      <td>1</td>\n",
       "      <td>0.660014</td>\n",
       "      <td>0.320103</td>\n",
       "    </tr>\n",
       "    <tr>\n",
       "      <th>918</th>\n",
       "      <td>0.607674</td>\n",
       "      <td>0.704373</td>\n",
       "      <td>0.272088</td>\n",
       "      <td>0.749605</td>\n",
       "      <td>0.294428</td>\n",
       "      <td>0.362087</td>\n",
       "      <td>0.271207</td>\n",
       "      <td>0.462512</td>\n",
       "      <td>0.461722</td>\n",
       "      <td>0.157752</td>\n",
       "      <td>1</td>\n",
       "      <td>0.768759</td>\n",
       "      <td>0.437468</td>\n",
       "    </tr>\n",
       "    <tr>\n",
       "      <th>919</th>\n",
       "      <td>0.573391</td>\n",
       "      <td>0.498274</td>\n",
       "      <td>0.254927</td>\n",
       "      <td>0.501991</td>\n",
       "      <td>0.623085</td>\n",
       "      <td>0.334063</td>\n",
       "      <td>0.572959</td>\n",
       "      <td>0.580201</td>\n",
       "      <td>0.587558</td>\n",
       "      <td>0.572648</td>\n",
       "      <td>1</td>\n",
       "      <td>0.301102</td>\n",
       "      <td>0.679468</td>\n",
       "    </tr>\n",
       "    <tr>\n",
       "      <th>920</th>\n",
       "      <td>0.662497</td>\n",
       "      <td>0.748688</td>\n",
       "      <td>0.454635</td>\n",
       "      <td>0.717585</td>\n",
       "      <td>0.267818</td>\n",
       "      <td>0.466417</td>\n",
       "      <td>0.496511</td>\n",
       "      <td>0.535317</td>\n",
       "      <td>0.341643</td>\n",
       "      <td>0.434855</td>\n",
       "      <td>1</td>\n",
       "      <td>0.458245</td>\n",
       "      <td>0.516112</td>\n",
       "    </tr>\n",
       "    <tr>\n",
       "      <th>921</th>\n",
       "      <td>0.684036</td>\n",
       "      <td>0.280923</td>\n",
       "      <td>0.255222</td>\n",
       "      <td>0.632264</td>\n",
       "      <td>0.888354</td>\n",
       "      <td>0.588206</td>\n",
       "      <td>0.587373</td>\n",
       "      <td>0.552644</td>\n",
       "      <td>0.668015</td>\n",
       "      <td>0.426577</td>\n",
       "      <td>1</td>\n",
       "      <td>0.441137</td>\n",
       "      <td>0.850430</td>\n",
       "    </tr>\n",
       "  </tbody>\n",
       "</table>\n",
       "<p>922 rows × 13 columns</p>\n",
       "</div>"
      ],
      "text/plain": [
       "     Соотношение матрица-наполнитель  Плотность, кг/м3  модуль упругости, ГПа  \\\n",
       "0                           0.274768          0.651097               0.452951   \n",
       "1                           0.274768          0.651097               0.452951   \n",
       "2                           0.466552          0.651097               0.461725   \n",
       "3                           0.465836          0.571539               0.458649   \n",
       "4                           0.424236          0.332865               0.494944   \n",
       "..                               ...               ...                    ...   \n",
       "917                         0.361662          0.444480               0.560064   \n",
       "918                         0.607674          0.704373               0.272088   \n",
       "919                         0.573391          0.498274               0.254927   \n",
       "920                         0.662497          0.748688               0.454635   \n",
       "921                         0.684036          0.280923               0.255222   \n",
       "\n",
       "     Количество отвердителя, м.%  Содержание эпоксидных групп,%_2  \\\n",
       "0                       0.079153                         0.607435   \n",
       "1                       0.630983                         0.418887   \n",
       "2                       0.511257                         0.495653   \n",
       "3                       0.511257                         0.495653   \n",
       "4                       0.511257                         0.495653   \n",
       "..                           ...                              ...   \n",
       "917                     0.337550                         0.333908   \n",
       "918                     0.749605                         0.294428   \n",
       "919                     0.501991                         0.623085   \n",
       "920                     0.717585                         0.267818   \n",
       "921                     0.632264                         0.888354   \n",
       "\n",
       "     Температура вспышки, С_2  Поверхностная плотность, г/м2  \\\n",
       "0                    0.509164                       0.162230   \n",
       "1                    0.583596                       0.162230   \n",
       "2                    0.509164                       0.162230   \n",
       "3                    0.509164                       0.162230   \n",
       "4                    0.509164                       0.162230   \n",
       "..                        ...                            ...   \n",
       "917                  0.703458                       0.161609   \n",
       "918                  0.362087                       0.271207   \n",
       "919                  0.334063                       0.572959   \n",
       "920                  0.466417                       0.496511   \n",
       "921                  0.588206                       0.587373   \n",
       "\n",
       "     Модуль упругости при растяжении, ГПа  Прочность при растяжении, МПа  \\\n",
       "0                                0.272962                       0.727777   \n",
       "1                                0.272962                       0.727777   \n",
       "2                                0.272962                       0.727777   \n",
       "3                                0.272962                       0.727777   \n",
       "4                                0.272962                       0.727777   \n",
       "..                                    ...                            ...   \n",
       "917                              0.473553                       0.472912   \n",
       "918                              0.462512                       0.461722   \n",
       "919                              0.580201                       0.587558   \n",
       "920                              0.535317                       0.341643   \n",
       "921                              0.552644                       0.668015   \n",
       "\n",
       "     Потребление смолы, г/м2  Угол нашивки, град  Шаг нашивки  \\\n",
       "0                   0.514688                   0     0.289334   \n",
       "1                   0.514688                   0     0.362355   \n",
       "2                   0.514688                   0     0.362355   \n",
       "3                   0.514688                   0     0.362355   \n",
       "4                   0.514688                   0     0.362355   \n",
       "..                       ...                 ...          ...   \n",
       "917                 0.183151                   1     0.660014   \n",
       "918                 0.157752                   1     0.768759   \n",
       "919                 0.572648                   1     0.301102   \n",
       "920                 0.434855                   1     0.458245   \n",
       "921                 0.426577                   1     0.441137   \n",
       "\n",
       "     Плотность нашивки  \n",
       "0             0.546433  \n",
       "1             0.319758  \n",
       "2             0.494123  \n",
       "3             0.546433  \n",
       "4             0.720799  \n",
       "..                 ...  \n",
       "917           0.320103  \n",
       "918           0.437468  \n",
       "919           0.679468  \n",
       "920           0.516112  \n",
       "921           0.850430  \n",
       "\n",
       "[922 rows x 13 columns]"
      ]
     },
     "execution_count": 13,
     "metadata": {},
     "output_type": "execute_result"
    }
   ],
   "source": [
    "# загрузка и просмотр датасета\n",
    "df = pd.read_excel('../data/processed/df_prep.xlsx', index_col=0)\n",
    "df"
   ]
  },
  {
   "cell_type": "code",
   "execution_count": 14,
   "id": "dc77d9f1",
   "metadata": {},
   "outputs": [
    {
     "name": "stdout",
     "output_type": "stream",
     "text": [
      "<class 'pandas.core.frame.DataFrame'>\n",
      "Int64Index: 922 entries, 0 to 921\n",
      "Data columns (total 13 columns):\n",
      " #   Column                                Non-Null Count  Dtype  \n",
      "---  ------                                --------------  -----  \n",
      " 0   Соотношение матрица-наполнитель       922 non-null    float64\n",
      " 1   Плотность, кг/м3                      922 non-null    float64\n",
      " 2   модуль упругости, ГПа                 922 non-null    float64\n",
      " 3   Количество отвердителя, м.%           922 non-null    float64\n",
      " 4   Содержание эпоксидных групп,%_2       922 non-null    float64\n",
      " 5   Температура вспышки, С_2              922 non-null    float64\n",
      " 6   Поверхностная плотность, г/м2         922 non-null    float64\n",
      " 7   Модуль упругости при растяжении, ГПа  922 non-null    float64\n",
      " 8   Прочность при растяжении, МПа         922 non-null    float64\n",
      " 9   Потребление смолы, г/м2               922 non-null    float64\n",
      " 10  Угол нашивки, град                    922 non-null    int64  \n",
      " 11  Шаг нашивки                           922 non-null    float64\n",
      " 12  Плотность нашивки                     922 non-null    float64\n",
      "dtypes: float64(12), int64(1)\n",
      "memory usage: 100.8 KB\n"
     ]
    }
   ],
   "source": [
    "df.info()"
   ]
  },
  {
   "cell_type": "code",
   "execution_count": 30,
   "id": "71b2e14b",
   "metadata": {},
   "outputs": [
    {
     "data": {
      "image/png": "[encoded data removed]",
      "text/plain": [
       "<Figure size 847.125x500 with 1 Axes>"
      ]
     },
     "metadata": {},
     "output_type": "display_data"
    }
   ],
   "source": [
    "fig = sns.displot(df, kde=True)"
   ]
  },
  {
   "cell_type": "markdown",
   "id": "687045ee",
   "metadata": {},
   "source": [
    "# Модуль упругости при растяжении и Прочность при растяжении"
   ]
  },
  {
   "cell_type": "code",
   "execution_count": 60,
   "id": "be4a710c",
   "metadata": {},
   "outputs": [],
   "source": [
    "# Выделение целевых переменных и разделение на тренировочную и тестовую части\n",
    "X_Emod = df.drop(['Модуль упругости при растяжении, ГПа'], axis=1)\n",
    "y_Emod = df['Модуль упругости при растяжении, ГПа']\n",
    "\n",
    "X_Rm = df.drop(['Прочность при растяжении, МПа'], axis=1)\n",
    "y_Rm = df['Прочность при растяжении, МПа']"
   ]
  },
  {
   "cell_type": "code",
   "execution_count": 61,
   "id": "fd81fc63",
   "metadata": {},
   "outputs": [
    {
     "name": "stdout",
     "output_type": "stream",
     "text": [
      "(645, 12) (277, 12)\n",
      "(645,) (277,)\n",
      "(645, 12) (277, 12)\n",
      "(645,) (277,)\n"
     ]
    }
   ],
   "source": [
    "X_Emod_train, X_Emod_test, y_Emod_train, y_Emod_test = train_test_split(X_Emod, y_Emod, test_size = 0.3, random_state=42)\n",
    "print(X_Emod_train.shape, X_Emod_test.shape)\n",
    "print(y_Emod_train.shape, y_Emod_test.shape)\n",
    "\n",
    "X_Rm_train, X_Rm_test, y_Rm_train, y_Rm_test = train_test_split(X_Rm, y_Rm, test_size = 0.3, random_state=42)\n",
    "print(X_Rm_train.shape, X_Rm_test.shape)\n",
    "print(y_Rm_train.shape, y_Rm_test.shape)\n"
   ]
  },
  {
   "cell_type": "code",
   "execution_count": null,
   "id": "06676ae7",
   "metadata": {},
   "outputs": [],
   "source": []
  },
  {
   "cell_type": "code",
   "execution_count": null,
   "id": "ea69e9ab",
   "metadata": {},
   "outputs": [],
   "source": []
  },
  {
   "cell_type": "code",
   "execution_count": null,
   "id": "6142833b",
   "metadata": {},
   "outputs": [],
   "source": []
  },
  {
   "cell_type": "code",
   "execution_count": null,
   "id": "fdff19ad",
   "metadata": {},
   "outputs": [],
   "source": []
  },
  {
   "cell_type": "code",
   "execution_count": null,
   "id": "072e28f0",
   "metadata": {},
   "outputs": [],
   "source": [
    "#Описание используемых методов\n",
    "#В данном разделе приводится краткое описание методов (не более 1 страницы на каждый), \n",
    "#которые предполагается использовать для решения поставленной задачи. \n",
    "#Необходимо обратить особое внимание на достоинства, недостатки и области применения каждого из методов. \n",
    "#Кроме того, желательно составление итоговой сравнительной таблицы с указанием среди прочего \n",
    "#априорных предпосылок к работоспособности каждого метода.\n",
    "\n",
    "#Обучить алгоритм машинного обучения, который будет определять значения:\n",
    "#-\tМодуль упругости при растяжении, ГПа\n",
    "#-\tПрочность при растяжении, МПа\n",
    "#4)\tОбучить нескольких моделей для прогноза модуля упругости при растяжении и прочности при растяжении. \n",
    "#При построении модели необходимо 30% данных оставить на тестирование модели, на остальных происходит обучение моделей. \n",
    "#При построении моделей провести поиск гиперпараметров модели с помощью поиска по сетке с перекрестной проверкой, \n",
    "#количество блоков равно 10.\n",
    "\n",
    "#Линейная регрессия\n",
    "#Логистическая регрессия\n",
    "#SVM (метод опорных векторов)\n",
    "#KNN (метод k-ближайших соседей)\n",
    "#Метод k-средних\n",
    "#Дерево решений\n",
    "#Random Forest\n",
    "#Наивный байесовский классификатор\n",
    "#AdaBoost, или адаптивный бустинг\n",
    "#Gradient Boost и XGBoost\n",
    "#LightGBM\n",
    "#Алгоритмы сокращения размеров\n",
    "#Алгоритмы усиления градиента\n",
    "#Нейросетевая регрессия\n",
    "#Регрессия LASSO\n",
    "#Гребневая регрессия (ридж-регрессия)\n",
    "#Регрессия ElasticNet\n",
    "\n"
   ]
  },
  {
   "cell_type": "code",
   "execution_count": null,
   "id": "9b7fa583",
   "metadata": {},
   "outputs": [],
   "source": []
  },
  {
   "cell_type": "code",
   "execution_count": null,
   "id": "8c21a47f",
   "metadata": {},
   "outputs": [],
   "source": [
    "# Поиск лучших гиперпараметров модели с помощью поиска по сетке с перекрестной проверкой, количество блоков равно 10\n",
    "n_estimators = [3,5,9,11]\n",
    "max_depth = [1,2,3,4,5]\n",
    "min_samples_split = [10,20,30]\n",
    "min_samples_leaf = [2,4,6]\n",
    "bootstrap = [True]\n",
    "param_grid = {'n_estimators': n_estimators,\n",
    "               'max_depth': max_depth,\n",
    "               'min_samples_split': min_samples_split,\n",
    "               'min_samples_leaf': min_samples_leaf,\n",
    "               'bootstrap': bootstrap}\n",
    "gs = GridSearchCV(rfr, param_grid, cv = 10, verbose = 1, n_jobs=1)\n",
    "gs.fit(X_train, y_train)\n",
    "gs.best_params_\n",
    "\n",
    "\n",
    "\n",
    "parameters = {\n",
    "    'n_estimators': [50, 100, 150],\n",
    "    'max_depth': [4, 8, 12],\n",
    "    'min_samples_split': [2, 6, 10],\n",
    "}\n",
    "roc_auc_ovr = make_scorer(roc_auc_score, multi_class='ovr')\n",
    "\n",
    "clf = GridSearchCV(\n",
    "    RandomForestClassifier(), parameters, cv=5, scoring=roc_auc_ovr\n",
    ")\n",
    "\n",
    "clf.fit(x_train, y_train)\n",
    "\n",
    "print(f'Лучшие параметры: {clf.best_params_}')\n",
    "\n",
    "best_r_tree = clf.best_estimator_"
   ]
  },
  {
   "cell_type": "code",
   "execution_count": 4,
   "id": "6a9849f6",
   "metadata": {},
   "outputs": [],
   "source": [
    "#Какую модель использовать? Нужно попробовать разные. Для сравнения моделей использую несколько метрик. Для статистической устойчивости результатов использую кросс-валидацию. Оформлю запуск моделей, кросс-валидацию и получение метрик в виде вспомогательной функции.\n",
    "#\n",
    "\n",
    "# запуск разных моделей и оценка метрик\n",
    "def run_models(models, x, y):\n",
    "    stat = pd.DataFrame()\n",
    "    cv = KFold(10, shuffle=True, random_state=RANDOM_STATE)\n",
    "    scoring = ['r2', \n",
    "                'max_error', \n",
    "                'neg_root_mean_squared_error', \n",
    "                'neg_mean_absolute_error', \n",
    "                'neg_mean_absolute_percentage_error']\n",
    "    for model_name, model in models.items():\n",
    "        scores = cross_validate(model, x, y, cv=cv, scoring=scoring)\n",
    "        stat.loc[model_name, 'R2'] = scores['test_r2'].mean()\n",
    "        stat.loc[model_name, 'RMSE'] = scores['test_neg_root_mean_squared_error'].mean()\n",
    "        stat.loc[model_name, 'MAE'] = scores['test_neg_mean_absolute_error'].mean()\n",
    "        stat.loc[model_name, 'MAPE'] = scores['test_neg_mean_absolute_percentage_error'].mean()\n",
    "        stat.loc[model_name, 'max_error'] = scores['test_max_error'].mean()\n",
    "    return stat\n",
    "\n",
    "#Для поиска параметров по сетке тоже сделаю вспомогательную функцию, чтобы везде использовалась одинаковые параметры и одинаково выводился результат.\n",
    "#\n",
    "def run_grid_search(model, params, x, y):\n",
    "    pd.options.display.max_colwidth = 200\n",
    "    stat = pd.DataFrame()\n",
    "    cv = KFold(10, shuffle=True, random_state=RANDOM_STATE)\n",
    "    # scoring = 'neg_root_mean_squared_error'\n",
    "    scoring = 'neg_mean_absolute_error'\n",
    "    searcher = GridSearchCV(model, params, cv=cv, scoring=scoring)\n",
    "    searcher.fit(x, y)\n",
    "    stat.loc[:, 'params'] = searcher.cv_results_['params']\n",
    "    stat.loc[:, 'MAE'] = searcher.cv_results_['mean_test_score']\n",
    "    stat.loc[:, 'rank'] = searcher.cv_results_['rank_test_score']\n",
    "    return stat, searcher.best_estimator_\n",
    "\n",
    "#И еще одна вспомогательная функция для получения метрик предсказания.\n",
    "#\n",
    "def get_metrics(model_name, y, y_pred):\n",
    "    stat = pd.DataFrame()\n",
    "    stat.loc[model_name, 'R2'] = metrics.r2_score(y, y_pred)\n",
    "    stat.loc[model_name, 'RMSE'] = metrics.mean_squared_error(y, y_pred, squared=False) * -1\n",
    "    stat.loc[model_name, 'MAE'] = metrics.mean_absolute_error(y, y_pred) * -1\n",
    "    stat.loc[model_name, 'MAPE'] = metrics.mean_absolute_percentage_error(y, y_pred) * -1\n",
    "    stat.loc[model_name, 'max_error'] = metrics.max_error(y, y_pred) * -1\n",
    "    return stat\n",
    "\n",
    "#Чтобы определить нижнюю границу качества модели, использую базовую модель, возвращающую среднее значение целевого признака. Рабочая модель по своим характеристикам должна быть лучше базовой. Можно для этой цели создать класс, унаследованный от BaseEstimator. А можно использовать DummyRegressor из sklearn.\n",
    "#"
   ]
  },
  {
   "cell_type": "code",
   "execution_count": null,
   "id": "2fbacd38",
   "metadata": {},
   "outputs": [],
   "source": []
  },
  {
   "cell_type": "code",
   "execution_count": null,
   "id": "6ec5d252",
   "metadata": {},
   "outputs": [],
   "source": []
  },
  {
   "cell_type": "code",
   "execution_count": null,
   "id": "db1bf41b",
   "metadata": {},
   "outputs": [],
   "source": [
    "#Линейная регрессия\n",
    "LinearRegression\n"
   ]
  },
  {
   "cell_type": "code",
   "execution_count": 62,
   "id": "b6fdb6dc",
   "metadata": {},
   "outputs": [],
   "source": [
    "model_LR = LinearRegression()"
   ]
  },
  {
   "cell_type": "code",
   "execution_count": 63,
   "id": "7d3229b1",
   "metadata": {},
   "outputs": [
    {
     "data": {
      "text/plain": [
       "LinearRegression()"
      ]
     },
     "execution_count": 63,
     "metadata": {},
     "output_type": "execute_result"
    }
   ],
   "source": [
    "model_LR.fit(X_Emod_train, y_Emod_train)"
   ]
  },
  {
   "cell_type": "code",
   "execution_count": 64,
   "id": "0a95cafe",
   "metadata": {},
   "outputs": [
    {
     "data": {
      "text/plain": [
       "array([-0.04403678, -0.01794799,  0.04301215, -0.03630388,  0.01051656,\n",
       "        0.02825537,  0.00404045, -0.02451794,  0.0701979 ,  0.02376272,\n",
       "       -0.03872236,  0.03310265])"
      ]
     },
     "execution_count": 64,
     "metadata": {},
     "output_type": "execute_result"
    }
   ],
   "source": [
    "model_LR.coef_"
   ]
  },
  {
   "cell_type": "code",
   "execution_count": 65,
   "id": "c8726106",
   "metadata": {},
   "outputs": [
    {
     "data": {
      "text/html": [
       "<div>\n",
       "<style scoped>\n",
       "    .dataframe tbody tr th:only-of-type {\n",
       "        vertical-align: middle;\n",
       "    }\n",
       "\n",
       "    .dataframe tbody tr th {\n",
       "        vertical-align: top;\n",
       "    }\n",
       "\n",
       "    .dataframe thead th {\n",
       "        text-align: right;\n",
       "    }\n",
       "</style>\n",
       "<table border=\"1\" class=\"dataframe\">\n",
       "  <thead>\n",
       "    <tr style=\"text-align: right;\">\n",
       "      <th></th>\n",
       "      <th>0</th>\n",
       "    </tr>\n",
       "  </thead>\n",
       "  <tbody>\n",
       "    <tr>\n",
       "      <th>Соотношение матрица-наполнитель</th>\n",
       "      <td>-0.044037</td>\n",
       "    </tr>\n",
       "    <tr>\n",
       "      <th>Плотность, кг/м3</th>\n",
       "      <td>-0.017948</td>\n",
       "    </tr>\n",
       "    <tr>\n",
       "      <th>модуль упругости, ГПа</th>\n",
       "      <td>0.043012</td>\n",
       "    </tr>\n",
       "    <tr>\n",
       "      <th>Количество отвердителя, м.%</th>\n",
       "      <td>-0.036304</td>\n",
       "    </tr>\n",
       "    <tr>\n",
       "      <th>Содержание эпоксидных групп,%_2</th>\n",
       "      <td>0.010517</td>\n",
       "    </tr>\n",
       "    <tr>\n",
       "      <th>Температура вспышки, С_2</th>\n",
       "      <td>0.028255</td>\n",
       "    </tr>\n",
       "    <tr>\n",
       "      <th>Поверхностная плотность, г/м2</th>\n",
       "      <td>0.004040</td>\n",
       "    </tr>\n",
       "    <tr>\n",
       "      <th>Прочность при растяжении, МПа</th>\n",
       "      <td>-0.024518</td>\n",
       "    </tr>\n",
       "    <tr>\n",
       "      <th>Потребление смолы, г/м2</th>\n",
       "      <td>0.070198</td>\n",
       "    </tr>\n",
       "    <tr>\n",
       "      <th>Угол нашивки, град</th>\n",
       "      <td>0.023763</td>\n",
       "    </tr>\n",
       "    <tr>\n",
       "      <th>Шаг нашивки</th>\n",
       "      <td>-0.038722</td>\n",
       "    </tr>\n",
       "    <tr>\n",
       "      <th>Плотность нашивки</th>\n",
       "      <td>0.033103</td>\n",
       "    </tr>\n",
       "  </tbody>\n",
       "</table>\n",
       "</div>"
      ],
      "text/plain": [
       "                                        0\n",
       "Соотношение матрица-наполнитель -0.044037\n",
       "Плотность, кг/м3                -0.017948\n",
       "модуль упругости, ГПа            0.043012\n",
       "Количество отвердителя, м.%     -0.036304\n",
       "Содержание эпоксидных групп,%_2  0.010517\n",
       "Температура вспышки, С_2         0.028255\n",
       "Поверхностная плотность, г/м2    0.004040\n",
       "Прочность при растяжении, МПа   -0.024518\n",
       "Потребление смолы, г/м2          0.070198\n",
       "Угол нашивки, град               0.023763\n",
       "Шаг нашивки                     -0.038722\n",
       "Плотность нашивки                0.033103"
      ]
     },
     "execution_count": 65,
     "metadata": {},
     "output_type": "execute_result"
    }
   ],
   "source": [
    "pd.DataFrame(model_LR.coef_, X_Emod_train.columns)"
   ]
  },
  {
   "cell_type": "code",
   "execution_count": 66,
   "id": "45df4662",
   "metadata": {},
   "outputs": [],
   "source": [
    "y_Emod_pred = model_LR.predict(X_Emod_test)"
   ]
  },
  {
   "cell_type": "code",
   "execution_count": 67,
   "id": "9b886e85",
   "metadata": {},
   "outputs": [],
   "source": [
    "MAE = metrics.mean_absolute_error(y_Emod_test, y_Emod_pred)\n",
    "MSE = metrics.mean_squared_error(y_Emod_test, y_Emod_pred)"
   ]
  },
  {
   "cell_type": "code",
   "execution_count": 68,
   "id": "92f56541",
   "metadata": {},
   "outputs": [
    {
     "data": {
      "text/plain": [
       "0.16952044227222318"
      ]
     },
     "execution_count": 68,
     "metadata": {},
     "output_type": "execute_result"
    }
   ],
   "source": [
    "MAE"
   ]
  },
  {
   "cell_type": "code",
   "execution_count": 69,
   "id": "1ad8d45f",
   "metadata": {},
   "outputs": [
    {
     "data": {
      "text/plain": [
       "0.04283254231933288"
      ]
     },
     "execution_count": 69,
     "metadata": {},
     "output_type": "execute_result"
    }
   ],
   "source": [
    "MSE"
   ]
  },
  {
   "cell_type": "code",
   "execution_count": 70,
   "id": "d0f552f0",
   "metadata": {},
   "outputs": [
    {
     "data": {
      "text/plain": [
       "0.3528745842505205"
      ]
     },
     "execution_count": 70,
     "metadata": {},
     "output_type": "execute_result"
    }
   ],
   "source": [
    "MAE / y_Emod_pred.mean()"
   ]
  },
  {
   "cell_type": "code",
   "execution_count": 71,
   "id": "0773905d",
   "metadata": {},
   "outputs": [
    {
     "data": {
      "text/plain": [
       "array([0.47519142, 0.45536885, 0.46363912, 0.44942538, 0.49262366,\n",
       "       0.46481645, 0.47562715, 0.50832731, 0.49084282, 0.49142966,\n",
       "       0.47628387, 0.52502365, 0.46251146, 0.50387353, 0.53913245,\n",
       "       0.45414549, 0.48331066, 0.45115937, 0.46448758, 0.48900021,\n",
       "       0.46729745, 0.50945521, 0.49688869, 0.47767864, 0.4777866 ,\n",
       "       0.4707271 , 0.45353862, 0.44546291, 0.50815919, 0.44605814,\n",
       "       0.43980047, 0.46915414, 0.44356189, 0.48787941, 0.4579061 ,\n",
       "       0.45703046, 0.4606977 , 0.459133  , 0.50010169, 0.45012356,\n",
       "       0.50282136, 0.45726276, 0.51699329, 0.48975044, 0.4934754 ,\n",
       "       0.49802613, 0.47713065, 0.50964255, 0.45465811, 0.43848804,\n",
       "       0.47752654, 0.46665325, 0.49772894, 0.48367204, 0.52451894,\n",
       "       0.48483743, 0.46921403, 0.50361451, 0.43522208, 0.49451871,\n",
       "       0.48813279, 0.48707374, 0.50829625, 0.47371089, 0.48271191,\n",
       "       0.4712969 , 0.48795204, 0.49923987, 0.52184681, 0.52591511,\n",
       "       0.4734664 , 0.46060284, 0.49761686, 0.46204948, 0.46243621,\n",
       "       0.47005894, 0.46411   , 0.45650083, 0.44379531, 0.46551137,\n",
       "       0.53389839, 0.49105356, 0.45635664, 0.49454088, 0.50429353,\n",
       "       0.51155521, 0.45461055, 0.47732484, 0.44826765, 0.47743697,\n",
       "       0.49373426, 0.49377381, 0.50599421, 0.4712077 , 0.49445324,\n",
       "       0.50005637, 0.45551383, 0.4746164 , 0.4697248 , 0.48336718,\n",
       "       0.45686559, 0.43392887, 0.41219326, 0.51278776, 0.46342911,\n",
       "       0.4440112 , 0.48509221, 0.47933398, 0.4784732 , 0.48352327,\n",
       "       0.46086281, 0.486818  , 0.47119654, 0.46764638, 0.46506373,\n",
       "       0.4637971 , 0.4826894 , 0.44839027, 0.48172126, 0.45591973,\n",
       "       0.47892873, 0.51676762, 0.45861853, 0.46699057, 0.51299242,\n",
       "       0.5075665 , 0.49819602, 0.47251042, 0.47077833, 0.4858325 ,\n",
       "       0.46084183, 0.43605157, 0.4716766 , 0.47588367, 0.50546524,\n",
       "       0.46223229, 0.41379246, 0.49851822, 0.45390026, 0.47302726,\n",
       "       0.43930358, 0.49912949, 0.50393432, 0.49718988, 0.46680097,\n",
       "       0.49894446, 0.47319473, 0.52217718, 0.47245787, 0.49143617,\n",
       "       0.50869225, 0.51877061, 0.48698571, 0.47946502, 0.47134194,\n",
       "       0.44231083, 0.50776085, 0.50840091, 0.48862379, 0.45472827,\n",
       "       0.47606095, 0.51019798, 0.47167755, 0.46046872, 0.50798379,\n",
       "       0.52807674, 0.46602595, 0.4618249 , 0.45927256, 0.50370637,\n",
       "       0.44846815, 0.47734614, 0.50494193, 0.48133301, 0.4464341 ,\n",
       "       0.4987859 , 0.50020324, 0.49956969, 0.50387418, 0.50524512,\n",
       "       0.43203675, 0.51525909, 0.47188939, 0.50241317, 0.52530318,\n",
       "       0.48412059, 0.49931079, 0.4917588 , 0.47191205, 0.475842  ,\n",
       "       0.47650883, 0.52143248, 0.51917915, 0.48648954, 0.4669248 ,\n",
       "       0.45762544, 0.48331147, 0.42149768, 0.49700838, 0.4508384 ,\n",
       "       0.47144418, 0.51731145, 0.48716201, 0.50359448, 0.49121076,\n",
       "       0.4441564 , 0.45363486, 0.48879945, 0.50343484, 0.49081311,\n",
       "       0.53248866, 0.50933248, 0.49247496, 0.47734492, 0.5008896 ,\n",
       "       0.47591006, 0.4543303 , 0.47786431, 0.52436668, 0.46849582,\n",
       "       0.50786774, 0.50283708, 0.46721754, 0.49772429, 0.41502744,\n",
       "       0.49116369, 0.51508587, 0.43082418, 0.51160567, 0.52087642,\n",
       "       0.50540891, 0.46577741, 0.49987431, 0.47746117, 0.45042971,\n",
       "       0.51537292, 0.47434154, 0.48200059, 0.4405754 , 0.4957708 ,\n",
       "       0.49699132, 0.45323807, 0.45071994, 0.45133675, 0.44520601,\n",
       "       0.47106257, 0.46480365, 0.4672326 , 0.51766577, 0.52388449,\n",
       "       0.39336638, 0.45750463, 0.44988664, 0.51368558, 0.48332314,\n",
       "       0.52593235, 0.47814211, 0.500896  , 0.46741764, 0.47491923,\n",
       "       0.43756253, 0.49471222, 0.4850961 , 0.51109941, 0.46922182,\n",
       "       0.5064833 , 0.49239722, 0.43792685, 0.50473965, 0.49765104,\n",
       "       0.47564379, 0.51419362, 0.47266268, 0.50135015, 0.48499092,\n",
       "       0.49584956, 0.45666017])"
      ]
     },
     "execution_count": 71,
     "metadata": {},
     "output_type": "execute_result"
    }
   ],
   "source": []
  },
  {
   "cell_type": "code",
   "execution_count": null,
   "id": "5b99fcc6",
   "metadata": {},
   "outputs": [],
   "source": []
  },
  {
   "cell_type": "code",
   "execution_count": null,
   "id": "cfee0d8c",
   "metadata": {},
   "outputs": [],
   "source": []
  },
  {
   "cell_type": "code",
   "execution_count": null,
   "id": "66ab1670",
   "metadata": {},
   "outputs": [],
   "source": []
  },
  {
   "cell_type": "code",
   "execution_count": null,
   "id": "d5b96bb8",
   "metadata": {},
   "outputs": [],
   "source": []
  },
  {
   "cell_type": "code",
   "execution_count": null,
   "id": "48692c75",
   "metadata": {},
   "outputs": [],
   "source": []
  },
  {
   "cell_type": "code",
   "execution_count": null,
   "id": "17dac9b0",
   "metadata": {},
   "outputs": [],
   "source": [
    "X_Emod_train, X_Emod_test, y_Emod_train, y_Emod_test = train_test_split(X_Emod, y_Emod, test_size = 0.3, random_state=42)\n",
    "print(X_Emod_train.shape, X_Emod_test.shape)\n",
    "print(y_Emod_train.shape, y_Emod_test.shape)\n",
    "\n",
    "X_Rm_train, X_Rm_test, y_Rm_train, y_Rm_test = train_test_split(X_Rm, y_Rm, test_size = 0.3, random_state=42)\n",
    "print(X_Rm_train.shape, X_Rm_test.shape)\n",
    "print(y_Rm_train.shape, y_Rm_test.shape)\n"
   ]
  },
  {
   "cell_type": "code",
   "execution_count": null,
   "id": "9548bb0b",
   "metadata": {},
   "outputs": [],
   "source": []
  },
  {
   "cell_type": "code",
   "execution_count": null,
   "id": "44717551",
   "metadata": {},
   "outputs": [],
   "source": []
  },
  {
   "cell_type": "code",
   "execution_count": null,
   "id": "6b0eae3f",
   "metadata": {},
   "outputs": [],
   "source": [
    "#SVM (метод опорных векторов)\n",
    "LinearSVR\n",
    "SVR"
   ]
  },
  {
   "cell_type": "code",
   "execution_count": null,
   "id": "70670683",
   "metadata": {},
   "outputs": [],
   "source": []
  },
  {
   "cell_type": "code",
   "execution_count": null,
   "id": "92bd8587",
   "metadata": {},
   "outputs": [],
   "source": []
  },
  {
   "cell_type": "code",
   "execution_count": null,
   "id": "cc6824b5",
   "metadata": {},
   "outputs": [],
   "source": [
    "#KNN (метод k-ближайших соседей)\n",
    "KNeighborsRegressor"
   ]
  },
  {
   "cell_type": "code",
   "execution_count": null,
   "id": "987a11be",
   "metadata": {},
   "outputs": [],
   "source": [
    "knn = KNeighborsRegressor()\n",
    "param_grid = {\n",
    "   'n_neighbors': [1, 2, 5, 10, 20]\n",
    "}\n",
    "GSCV = GridSearchCV(estimator=knn, param_grid=param_grid, cv=10, verbose=2)\n",
    "GSCV.fit(X_train, y_train)\n",
    "GSCV.best_params_ "
   ]
  },
  {
   "cell_type": "code",
   "execution_count": null,
   "id": "81c14930",
   "metadata": {},
   "outputs": [],
   "source": [
    "knn.fit(X_train, y_train)\n",
    "prediction=knn.predict(X_test)\n",
    "np.mean((y_test - prediction)*(y_test - prediction))"
   ]
  },
  {
   "cell_type": "code",
   "execution_count": null,
   "id": "d754125a",
   "metadata": {},
   "outputs": [],
   "source": []
  },
  {
   "cell_type": "code",
   "execution_count": null,
   "id": "d10bd69f",
   "metadata": {},
   "outputs": [],
   "source": []
  },
  {
   "cell_type": "code",
   "execution_count": null,
   "id": "6ab39d0b",
   "metadata": {},
   "outputs": [],
   "source": []
  },
  {
   "cell_type": "code",
   "execution_count": null,
   "id": "20e1a052",
   "metadata": {},
   "outputs": [],
   "source": [
    "#Дерево решений\n",
    "DecisionTreeRegressor"
   ]
  },
  {
   "cell_type": "code",
   "execution_count": null,
   "id": "40d7e43f",
   "metadata": {},
   "outputs": [],
   "source": []
  },
  {
   "cell_type": "code",
   "execution_count": null,
   "id": "00241957",
   "metadata": {},
   "outputs": [],
   "source": []
  },
  {
   "cell_type": "code",
   "execution_count": null,
   "id": "e07d72cb",
   "metadata": {},
   "outputs": [],
   "source": [
    "#Random Forest\n",
    "RandomForestRegressor"
   ]
  },
  {
   "cell_type": "code",
   "execution_count": null,
   "id": "a3ffbb30",
   "metadata": {},
   "outputs": [],
   "source": [
    "random_forest_tuning = RandomForestRegressor(random_state = 42)\n",
    "param_grid = {\n",
    "   'n_estimators': [100, 200, 500],\n",
    "   'max_features': ['auto', 'sqrt', 'log2'],\n",
    "   'max_depth' : [4,5,6],\n",
    "   'criterion' :['squared_error']\n",
    "}\n",
    "GSCV = GridSearchCV(estimator=random_forest_tuning, param_grid=param_grid, cv=5, verbose=2)\n",
    "GSCV.fit(X_train, y_train)\n",
    "GSCV.best_params_ "
   ]
  },
  {
   "cell_type": "code",
   "execution_count": null,
   "id": "a5e1b958",
   "metadata": {},
   "outputs": [],
   "source": [
    "rf = GSCV.best_estimator_\n",
    "rf"
   ]
  },
  {
   "cell_type": "code",
   "execution_count": null,
   "id": "bf7b91bd",
   "metadata": {},
   "outputs": [],
   "source": [
    "rf = RandomForestRegressor(GSCV.best_params_)\n",
    "rf"
   ]
  },
  {
   "cell_type": "code",
   "execution_count": null,
   "id": "c75137a7",
   "metadata": {},
   "outputs": [],
   "source": [
    "rf = RandomForestRegressor(criterion='squared_error', max_depth=6, \n",
    "                           max_features='auto', n_estimators=500)"
   ]
  },
  {
   "cell_type": "code",
   "execution_count": null,
   "id": "c8258332",
   "metadata": {},
   "outputs": [],
   "source": [
    "rf.fit(X_train, y_train)"
   ]
  },
  {
   "cell_type": "code",
   "execution_count": null,
   "id": "9c2eebd1",
   "metadata": {},
   "outputs": [],
   "source": [
    "test_predictions = rf.predict(X_test)\n",
    "\n",
    "a = plt.axes(aspect='equal')\n",
    "plt.scatter(y_test, test_predictions)\n",
    "plt.xlabel('True Values [MPG]')\n",
    "plt.ylabel('Predictions [MPG]')\n",
    "lims = [0, 50]\n",
    "plt.xlim(lims)\n",
    "plt.ylim(lims)\n",
    "_ = plt.plot(lims, lims)"
   ]
  },
  {
   "cell_type": "code",
   "execution_count": null,
   "id": "8e258616",
   "metadata": {},
   "outputs": [],
   "source": [
    "rf.score(X_test, y_test)"
   ]
  },
  {
   "cell_type": "code",
   "execution_count": null,
   "id": "ef25e24b",
   "metadata": {},
   "outputs": [],
   "source": [
    "rf.predict(X_test)"
   ]
  },
  {
   "cell_type": "code",
   "execution_count": null,
   "id": "ed7207f7",
   "metadata": {},
   "outputs": [],
   "source": [
    "np.mean((y_test - np.mean(y_test))*(y_test - np.mean(y_test)))"
   ]
  },
  {
   "cell_type": "code",
   "execution_count": null,
   "id": "f2ff5b11",
   "metadata": {},
   "outputs": [],
   "source": [
    "prediction=rf.predict(X_test)"
   ]
  },
  {
   "cell_type": "code",
   "execution_count": null,
   "id": "99cee004",
   "metadata": {},
   "outputs": [],
   "source": [
    "np.mean((y_test - prediction)*(y_test - prediction))"
   ]
  },
  {
   "cell_type": "code",
   "execution_count": null,
   "id": "090c5a40",
   "metadata": {},
   "outputs": [],
   "source": [
    "pd.DataFrame(GSCV.cv_results_)"
   ]
  },
  {
   "cell_type": "code",
   "execution_count": null,
   "id": "fc1800ce",
   "metadata": {},
   "outputs": [],
   "source": [
    "plt.hist(pd.DataFrame(GSCV.cv_results_)['mean_test_score'])"
   ]
  },
  {
   "cell_type": "code",
   "execution_count": null,
   "id": "1adafcb2",
   "metadata": {},
   "outputs": [],
   "source": []
  },
  {
   "cell_type": "code",
   "execution_count": null,
   "id": "f56243fb",
   "metadata": {},
   "outputs": [],
   "source": []
  },
  {
   "cell_type": "code",
   "execution_count": null,
   "id": "194fecf6",
   "metadata": {},
   "outputs": [],
   "source": []
  },
  {
   "cell_type": "code",
   "execution_count": null,
   "id": "f7528083",
   "metadata": {},
   "outputs": [],
   "source": [
    "#AdaBoost, или адаптивный бустинг\n",
    "AdaBoostRegressor"
   ]
  },
  {
   "cell_type": "code",
   "execution_count": null,
   "id": "50caf5ae",
   "metadata": {},
   "outputs": [],
   "source": []
  },
  {
   "cell_type": "code",
   "execution_count": null,
   "id": "c9577cd7",
   "metadata": {},
   "outputs": [],
   "source": []
  },
  {
   "cell_type": "code",
   "execution_count": null,
   "id": "33b27da8",
   "metadata": {},
   "outputs": [],
   "source": [
    "#Gradient Boost и XGBoost\n",
    "GradientBoostingRegressor"
   ]
  },
  {
   "cell_type": "code",
   "execution_count": null,
   "id": "90301a6b",
   "metadata": {},
   "outputs": [],
   "source": []
  },
  {
   "cell_type": "code",
   "execution_count": null,
   "id": "add0ae41",
   "metadata": {},
   "outputs": [],
   "source": []
  },
  {
   "cell_type": "code",
   "execution_count": null,
   "id": "95a33dc9",
   "metadata": {},
   "outputs": [],
   "source": [
    "#Алгоритмы усиления градиента\n",
    "SGDRegressor"
   ]
  },
  {
   "cell_type": "code",
   "execution_count": null,
   "id": "8fdbad6e",
   "metadata": {},
   "outputs": [],
   "source": []
  },
  {
   "cell_type": "code",
   "execution_count": null,
   "id": "54e665b2",
   "metadata": {},
   "outputs": [],
   "source": []
  },
  {
   "cell_type": "code",
   "execution_count": null,
   "id": "d8284d9f",
   "metadata": {},
   "outputs": [],
   "source": [
    "#Нейросетевая регрессия\n",
    "MLPRegressor"
   ]
  },
  {
   "cell_type": "code",
   "execution_count": null,
   "id": "8a8a0963",
   "metadata": {},
   "outputs": [],
   "source": []
  },
  {
   "cell_type": "code",
   "execution_count": null,
   "id": "6931e701",
   "metadata": {},
   "outputs": [],
   "source": []
  },
  {
   "cell_type": "code",
   "execution_count": null,
   "id": "daf69e51",
   "metadata": {},
   "outputs": [],
   "source": [
    "#Регрессия LASSO\n",
    "Lasso"
   ]
  },
  {
   "cell_type": "code",
   "execution_count": null,
   "id": "c3347489",
   "metadata": {},
   "outputs": [],
   "source": [
    "lassso = Lasso(random_state = 42)\n",
    "param_grid = {\n",
    "   'alpha': np.linspace(0, 1, 100)\n",
    "}\n",
    "GSCV = GridSearchCV(estimator=lassso, param_grid=param_grid, cv=10, verbose=2)\n",
    "GSCV.fit(X_train, y_train)\n",
    "GSCV.best_params_ "
   ]
  },
  {
   "cell_type": "code",
   "execution_count": null,
   "id": "1d1c610e",
   "metadata": {},
   "outputs": [],
   "source": [
    "model=GSCV.best_estimator_"
   ]
  },
  {
   "cell_type": "code",
   "execution_count": null,
   "id": "6ef763af",
   "metadata": {},
   "outputs": [],
   "source": [
    "model.fit(X_train, y_train)\n",
    "model.score(X_test, y_test)"
   ]
  },
  {
   "cell_type": "code",
   "execution_count": null,
   "id": "d8774bcf",
   "metadata": {},
   "outputs": [],
   "source": [
    "prediction=model.predict(X_test)\n",
    "np.mean((y_test - prediction)*(y_test - prediction))"
   ]
  },
  {
   "cell_type": "code",
   "execution_count": null,
   "id": "5ba28757",
   "metadata": {},
   "outputs": [],
   "source": []
  },
  {
   "cell_type": "code",
   "execution_count": null,
   "id": "8a9bf0de",
   "metadata": {},
   "outputs": [],
   "source": []
  },
  {
   "cell_type": "code",
   "execution_count": null,
   "id": "0c3b50fe",
   "metadata": {},
   "outputs": [],
   "source": []
  },
  {
   "cell_type": "code",
   "execution_count": null,
   "id": "fc263d21",
   "metadata": {},
   "outputs": [],
   "source": []
  },
  {
   "cell_type": "code",
   "execution_count": null,
   "id": "184e6cfe",
   "metadata": {},
   "outputs": [],
   "source": []
  },
  {
   "cell_type": "code",
   "execution_count": null,
   "id": "cfc5a0d8",
   "metadata": {},
   "outputs": [],
   "source": []
  },
  {
   "cell_type": "code",
   "execution_count": null,
   "id": "d1c586ea",
   "metadata": {},
   "outputs": [],
   "source": [
    "#Гребневая регрессия (ридж-регрессия)\n",
    "BayesianRidge\n",
    "Ridge"
   ]
  },
  {
   "cell_type": "code",
   "execution_count": null,
   "id": "e31e7a72",
   "metadata": {},
   "outputs": [],
   "source": []
  },
  {
   "cell_type": "code",
   "execution_count": null,
   "id": "b1b37719",
   "metadata": {},
   "outputs": [],
   "source": []
  },
  {
   "cell_type": "code",
   "execution_count": null,
   "id": "a39e9768",
   "metadata": {},
   "outputs": [],
   "source": [
    "#Регрессия ElasticNet\n",
    "ElasticNet"
   ]
  },
  {
   "cell_type": "code",
   "execution_count": null,
   "id": "71f45a56",
   "metadata": {},
   "outputs": [],
   "source": []
  },
  {
   "cell_type": "code",
   "execution_count": null,
   "id": "17fc42d1",
   "metadata": {},
   "outputs": [],
   "source": []
  },
  {
   "cell_type": "code",
   "execution_count": null,
   "id": "9a0b15d1",
   "metadata": {},
   "outputs": [],
   "source": []
  },
  {
   "cell_type": "code",
   "execution_count": null,
   "id": "30cbf7ef",
   "metadata": {},
   "outputs": [],
   "source": []
  },
  {
   "cell_type": "code",
   "execution_count": null,
   "id": "99adef5f",
   "metadata": {},
   "outputs": [],
   "source": []
  },
  {
   "cell_type": "code",
   "execution_count": null,
   "id": "de40463a",
   "metadata": {},
   "outputs": [],
   "source": []
  },
  {
   "cell_type": "code",
   "execution_count": null,
   "id": "81a6baf7",
   "metadata": {},
   "outputs": [],
   "source": [
    "#2.3.\tТестирование модели\n",
    "#В данном разделе показывается ошибка каждой модели на тренировочной и тестирующей части выборки. \n",
    "#Обосновывается выбор модели."
   ]
  },
  {
   "cell_type": "code",
   "execution_count": null,
   "id": "323dfb2f",
   "metadata": {},
   "outputs": [],
   "source": []
  },
  {
   "cell_type": "code",
   "execution_count": null,
   "id": "f0e2ef7d",
   "metadata": {},
   "outputs": [],
   "source": []
  },
  {
   "cell_type": "code",
   "execution_count": null,
   "id": "39520eab",
   "metadata": {},
   "outputs": [],
   "source": []
  },
  {
   "cell_type": "markdown",
   "id": "4fcabfab",
   "metadata": {},
   "source": [
    "# ИНС для Соотношения матрица-наполнитель"
   ]
  },
  {
   "cell_type": "code",
   "execution_count": 72,
   "id": "66921807",
   "metadata": {},
   "outputs": [
    {
     "name": "stdout",
     "output_type": "stream",
     "text": [
      "(645, 12) (277, 12)\n",
      "(645,) (277,)\n"
     ]
    }
   ],
   "source": [
    "# Выделение целевой переменной и разделение на тренировочную и тестовую части\n",
    "X = df.drop(['Соотношение матрица-наполнитель'], axis=1)\n",
    "y = df['Соотношение матрица-наполнитель']\n",
    "\n",
    "X_train, X_test, y_train, y_test = train_test_split(X, y, test_size = 0.3, random_state=42)\n",
    "print(X_train.shape, X_test.shape)\n",
    "print(y_train.shape, y_test.shape)"
   ]
  },
  {
   "cell_type": "code",
   "execution_count": null,
   "id": "9552ac16",
   "metadata": {},
   "outputs": [],
   "source": []
  },
  {
   "cell_type": "code",
   "execution_count": null,
   "id": "68834d13",
   "metadata": {},
   "outputs": [],
   "source": []
  },
  {
   "cell_type": "code",
   "execution_count": null,
   "id": "fc49f7a3",
   "metadata": {},
   "outputs": [],
   "source": []
  },
  {
   "cell_type": "code",
   "execution_count": null,
   "id": "764a9b36",
   "metadata": {},
   "outputs": [],
   "source": [
    "ANN = "
   ]
  },
  {
   "cell_type": "code",
   "execution_count": null,
   "id": "89b1d3c5",
   "metadata": {},
   "outputs": [],
   "source": []
  },
  {
   "cell_type": "code",
   "execution_count": null,
   "id": "bd2c6882",
   "metadata": {},
   "outputs": [],
   "source": []
  },
  {
   "cell_type": "code",
   "execution_count": null,
   "id": "01bcb150",
   "metadata": {},
   "outputs": [],
   "source": []
  },
  {
   "cell_type": "code",
   "execution_count": null,
   "id": "1464138c",
   "metadata": {},
   "outputs": [],
   "source": []
  },
  {
   "cell_type": "code",
   "execution_count": null,
   "id": "1061b384",
   "metadata": {},
   "outputs": [],
   "source": []
  },
  {
   "cell_type": "code",
   "execution_count": null,
   "id": "f35e3c23",
   "metadata": {},
   "outputs": [],
   "source": []
  },
  {
   "cell_type": "code",
   "execution_count": null,
   "id": "8ce51f43",
   "metadata": {},
   "outputs": [],
   "source": []
  },
  {
   "cell_type": "code",
   "execution_count": null,
   "id": "b0dafd1b",
   "metadata": {},
   "outputs": [],
   "source": []
  },
  {
   "cell_type": "code",
   "execution_count": null,
   "id": "6450720f",
   "metadata": {},
   "outputs": [],
   "source": []
  },
  {
   "cell_type": "code",
   "execution_count": null,
   "id": "578940ae",
   "metadata": {},
   "outputs": [],
   "source": []
  },
  {
   "cell_type": "code",
   "execution_count": null,
   "id": "a089fea1",
   "metadata": {},
   "outputs": [],
   "source": []
  },
  {
   "cell_type": "code",
   "execution_count": null,
   "id": "5681f65d",
   "metadata": {},
   "outputs": [],
   "source": []
  },
  {
   "cell_type": "code",
   "execution_count": null,
   "id": "4db15e3b",
   "metadata": {},
   "outputs": [],
   "source": []
  },
  {
   "cell_type": "code",
   "execution_count": null,
   "id": "fc8212ba",
   "metadata": {},
   "outputs": [],
   "source": []
  },
  {
   "cell_type": "code",
   "execution_count": null,
   "id": "1e2e7376",
   "metadata": {},
   "outputs": [],
   "source": []
  },
  {
   "cell_type": "code",
   "execution_count": null,
   "id": "6f001bcc",
   "metadata": {},
   "outputs": [],
   "source": []
  },
  {
   "cell_type": "code",
   "execution_count": null,
   "id": "ec4db12d",
   "metadata": {},
   "outputs": [],
   "source": []
  },
  {
   "cell_type": "code",
   "execution_count": null,
   "id": "3e3fab39",
   "metadata": {},
   "outputs": [],
   "source": []
  },
  {
   "cell_type": "code",
   "execution_count": null,
   "id": "f33099d0",
   "metadata": {},
   "outputs": [],
   "source": []
  },
  {
   "cell_type": "code",
   "execution_count": null,
   "id": "6d4e393e",
   "metadata": {},
   "outputs": [],
   "source": []
  },
  {
   "cell_type": "code",
   "execution_count": null,
   "id": "ca114606",
   "metadata": {},
   "outputs": [],
   "source": []
  },
  {
   "cell_type": "code",
   "execution_count": null,
   "id": "1580c5cf",
   "metadata": {},
   "outputs": [],
   "source": []
  },
  {
   "cell_type": "code",
   "execution_count": null,
   "id": "7976d7c1",
   "metadata": {},
   "outputs": [],
   "source": []
  },
  {
   "cell_type": "code",
   "execution_count": null,
   "id": "0ec9db0d",
   "metadata": {},
   "outputs": [],
   "source": []
  },
  {
   "cell_type": "code",
   "execution_count": null,
   "id": "e2891792",
   "metadata": {},
   "outputs": [],
   "source": []
  },
  {
   "cell_type": "code",
   "execution_count": null,
   "id": "36c7904e",
   "metadata": {},
   "outputs": [],
   "source": [
    "from sklearn.neighbors import KNeighborsClassifier\n",
    "from sklearn.linear_model import LogisticRegression\n",
    "from sklearn.svm import SVC, LinearSVC\n",
    "from sklearn.metrics import roc_auc_score, roc_curve\n",
    "\n",
    "# метод для рисования ROC-AUC графика\n",
    "from sklearn.metrics import plot_roc_curve, ConfusionMatrixDisplay\n",
    "\n",
    "knn_baseline = KNeighborsClassifier()\n",
    "knn_baseline.fit(x_train, y_train)\n",
    "\n",
    "y_train_predicted_knn = knn_baseline.predict_proba(x_train)[:, 1]\n",
    "y_val_predicted_knn = knn_baseline.predict_proba(x_val)[:, 1]\n",
    "\n",
    "roc_knn_train = roc_auc_score(ya_train, y_train_predicted_knn)\n",
    "roc_knn_val = roc_auc_score(y_val, y_val_predicted_knn)\n",
    "\n",
    "\n",
    "####\n",
    "print(f\"ROC AUC на обучающей {roc_knn_train}\")\n",
    "print(f\"ROC AUC на тестовой {roc_knn_val}\")\n",
    "\n",
    "\n",
    "display = ConfusionMatrixDisplay.from_estimator(\n",
    "    knn_baseline,\n",
    "    x_train,\n",
    "    y_train,\n",
    "    cmap=plt.cm.Blues,\n",
    ")\n",
    "display.ax_.set_title('Матрица ошибок для обучающей выборки')\n",
    "display.ax_.set_ylabel('Истинные значения')\n",
    "display.ax_.set_xlabel('Предсказанные значения')\n",
    "\n",
    "####\n",
    "display = ConfusionMatrixDisplay.from_estimator(\n",
    "    knn_baseline,\n",
    "    x_val,\n",
    "    y_val,\n",
    "    cmap=plt.cm.Blues,\n",
    "    normalize='true',\n",
    ")\n",
    "display.ax_.set_title('Матрица ошибок для валидационной выборки')\n",
    "display.ax_.set_ylabel('Истинные значения')\n",
    "display.ax_.set_xlabel('Предсказанные значения')\n"
   ]
  },
  {
   "cell_type": "code",
   "execution_count": null,
   "id": "fa5750d6",
   "metadata": {},
   "outputs": [],
   "source": [
    "from sklearn.tree import DecisionTreeClassifier, plot_tree, export_text\n",
    "\n",
    "from sklearn.metrics import roc_auc_score\n",
    "from sklearn.metrics import ConfusionMatrixDisplay\n",
    "\n",
    "####\n",
    "tree_baseline = DecisionTreeClassifier()\n",
    "tree_baseline.fit(x_train, y_train)\n",
    "\n",
    "y_train_predicted_tree = tree_baseline.predict_proba(x_train)\n",
    "y_val_predicted_tree = tree_baseline.predict_proba(x_val)\n",
    "\n",
    "roc_tree_train = roc_auc_score(y_train, y_train_predicted_tree, multi_class='ovr')\n",
    "roc_tree_val = roc_auc_score(y_val, y_val_predicted_tree, multi_class='ovr')\n",
    "\n",
    "print(f\"ROC AUC на обучающей {roc_tree_train}\")\n",
    "print(f\"ROC AUC на тестовой {roc_tree_val}\")\n",
    "\n",
    "####\n",
    "roc_tree_train = roc_auc_score(y_train, y_train_predicted_tree, multi_class='ovo')\n",
    "roc_tree_val = roc_auc_score(y_val, y_val_predicted_tree, multi_class='ovo')\n",
    "\n",
    "print(f\"ROC AUC на обучающей {roc_tree_train}\")\n",
    "print(f\"ROC AUC на тестовой {roc_tree_val}\")\n",
    "\n",
    "####\n",
    "display = ConfusionMatrixDisplay.from_estimator(\n",
    "    tree_baseline,\n",
    "    x_train,\n",
    "    y_train,\n",
    "    cmap=plt.cm.Blues,\n",
    ")\n",
    "display.ax_.set_title('Матрица ошибок для обучающей выборки')\n",
    "display.ax_.set_ylabel('Истинные значения')\n",
    "display.ax_.set_xlabel('Предсказанные значения')"
   ]
  },
  {
   "cell_type": "code",
   "execution_count": null,
   "id": "18a70d20",
   "metadata": {},
   "outputs": [],
   "source": []
  },
  {
   "cell_type": "code",
   "execution_count": null,
   "id": "1e856d8e",
   "metadata": {},
   "outputs": [],
   "source": []
  },
  {
   "cell_type": "code",
   "execution_count": null,
   "id": "1264a470",
   "metadata": {},
   "outputs": [],
   "source": []
  },
  {
   "cell_type": "code",
   "execution_count": 29,
   "id": "44fc9493",
   "metadata": {},
   "outputs": [
    {
     "data": {
      "image/png": "[encoded data removed]",
      "text/plain": [
       "<Figure size 847.125x500 with 1 Axes>"
      ]
     },
     "metadata": {},
     "output_type": "display_data"
    }
   ],
   "source": []
  },
  {
   "cell_type": "code",
   "execution_count": null,
   "id": "f40a14da",
   "metadata": {},
   "outputs": [],
   "source": []
  },
  {
   "cell_type": "code",
   "execution_count": null,
   "id": "f26b1c45",
   "metadata": {},
   "outputs": [],
   "source": []
  },
  {
   "cell_type": "code",
   "execution_count": null,
   "id": "cd240578",
   "metadata": {},
   "outputs": [],
   "source": []
  },
  {
   "cell_type": "code",
   "execution_count": null,
   "id": "416c093b",
   "metadata": {},
   "outputs": [],
   "source": [
    "# pipeline\n",
    "# Формулирование проблемы (определение цели, оценка текущей ситуации, подготовка плана)\n",
    "# Сбор данных (сбор, описание, изучение, проверка качества данных)\n",
    "# Предобработка данных (выборка, очистка, генерация, интеграция, форматирование)\n",
    "# Проектирование (выбор алгоритмов), разработка, обучение, тестирование (оценка качества модели) - циклично\n",
    "# Постобработка результатов (оценка результатов, процесса, определение следующих шагов)\n",
    "# Введение в эксплуатацию (внедрение, планирование мониторинга и поддержки, подготовка отчета, ревью проекта)\n",
    "# Решение проблемы"
   ]
  },
  {
   "cell_type": "code",
   "execution_count": null,
   "id": "25a9887e",
   "metadata": {},
   "outputs": [],
   "source": [
    "#Структура базового проекта\n",
    "\n",
    "#README.md файл с инструкцией для запуска и любой важной информацией\n",
    "#requirements.txt файл, в котором перечислены все необходимые зависимости\n",
    "#файлы *. py модули программы\n",
    "\n",
    "#data папка с наборами данных, включающая в себя папки (можно разбить эти папки на train и test):\n",
    "    # raw сырые данные, то есть данные в том виде, в котором были получены\n",
    "    # processed данные после различных преобразований (удаление выбросов, заполнение пропусков и т.д.)\n",
    "    \n",
    "#models папка с моделями и их параметрами Внутри может быть создана папка logs с логами обучения\n",
    "\n",
    "#notebooks папка с «тетрадками»:\n",
    "    #eda [Exploratory Data Analysis (Data Exploration )]исследование данных.\n",
    "    #poc [Proof of Concept] проверка концепции. Разработка некоторого прототипа или его частей, которые отражают\n",
    "                            #основную идею. Проверка осуществимости и применимости различных методов\n",
    "    #modeling построение модели и ее обучение\n",
    "    #evaluation оценка качества модели\n",
    "\n",
    "#src (source code) папка с исходным кодом программы, которая может делиться на следующие подпапки:\n",
    "    #preparation подготовка данных (выгрузка из базы данных, чтение из файла...). Все, что нужно сделать перед обработкой\n",
    "    #processing обработка данных: чистка, трансформации, преобразования\n",
    "    #modeling построение модели\n",
    "            #В данной структуре удобно создавать файлы utils py (для всяких вспомогательных функций), \n",
    "                                                    #  train py (для обучения модели),\n",
    "                                                    #  predict py (для получения предсказаний)\n",
    "\n",
    "#test папка с тестами (для кода программы, а не модели!)"
   ]
  },
  {
   "cell_type": "code",
   "execution_count": null,
   "id": "e8ff1828",
   "metadata": {},
   "outputs": [],
   "source": []
  },
  {
   "cell_type": "code",
   "execution_count": null,
   "id": "ccac8947",
   "metadata": {},
   "outputs": [],
   "source": []
  },
  {
   "cell_type": "code",
   "execution_count": null,
   "id": "5457a46c",
   "metadata": {},
   "outputs": [],
   "source": [
    "# функция для построения графика обучения\n",
    "def plot_loss(history):\n",
    "    fig = plt.figure(figsize=(15,5))\n",
    "    plt.subplot(121)\n",
    "    plt.plot(history.history['accuracy'], label='accuracy')\n",
    "    plt.plot(history.history['val_accuracy'], label='val_accuracy')\n",
    "    plt.xlabel('Эпоха')\n",
    "    plt.ylabel('Точность')\n",
    "    plt.legend()\n",
    "    plt.grid(True)\n",
    "    plt.subplot(122)\n",
    "    plt.plot(history.history['loss'], label='loss')\n",
    "    plt.plot(history.history['val_loss'], label='val_loss')\n",
    "    plt.xlabel('Эпоха')\n",
    "    plt.ylabel('Потери')\n",
    "    plt.legend()\n",
    "    plt.grid(True)"
   ]
  },
  {
   "cell_type": "code",
   "execution_count": null,
   "id": "e1cb9532",
   "metadata": {},
   "outputs": [],
   "source": [
    "# создаем модель нейросети по заданным условиям, смотрим количество оптимизируемых параметров\n",
    "model = Sequential()\n",
    "model.add(Dense(128, input_dim = 784, activation=\"relu\"))\n",
    "model.add(Dense(128, input_dim = 784, activation=\"relu\"))\n",
    "model.add(Dense(10, activation=\"softmax\"))\n",
    "model.compile(loss=\"categorical_crossentropy\", optimizer=\"adam\", metrics=[\"accuracy\"])\n",
    "print(model.summary())"
   ]
  },
  {
   "cell_type": "code",
   "execution_count": null,
   "id": "89ae4cbd",
   "metadata": {},
   "outputs": [],
   "source": [
    "# итого параметров 100480+16512+1290 = 118282\n",
    "\n",
    "# обучение инс 20 эпох (увеличение числа эпох дает очень мало дальнейшего снижения потерь)\n",
    "history = model.fit(X_train, y_train, batch_size=128, epochs=20, verbose=1, validation_split = 0.2)\n",
    "plot_loss(history)"
   ]
  },
  {
   "cell_type": "code",
   "execution_count": null,
   "id": "21dd7b1a",
   "metadata": {},
   "outputs": [],
   "source": []
  },
  {
   "cell_type": "code",
   "execution_count": null,
   "id": "bb37d8c3",
   "metadata": {},
   "outputs": [],
   "source": []
  },
  {
   "cell_type": "code",
   "execution_count": null,
   "id": "2ee4e56f",
   "metadata": {},
   "outputs": [],
   "source": [
    "pip freeze > requirements.txt\n"
   ]
  },
  {
   "cell_type": "code",
   "execution_count": null,
   "id": "e82940be",
   "metadata": {},
   "outputs": [],
   "source": []
  },
  {
   "cell_type": "code",
   "execution_count": null,
   "id": "dca54ff7",
   "metadata": {},
   "outputs": [],
   "source": []
  },
  {
   "cell_type": "code",
   "execution_count": null,
   "id": "8b6f5840",
   "metadata": {},
   "outputs": [],
   "source": []
  }
 ],
 "metadata": {
  "kernelspec": {
   "display_name": "Python 3 (ipykernel)",
   "language": "python",
   "name": "python3"
  },
  "language_info": {
   "codemirror_mode": {
    "name": "ipython",
    "version": 3
   },
   "file_extension": ".py",
   "mimetype": "text/x-python",
   "name": "python",
   "nbconvert_exporter": "python",
   "pygments_lexer": "ipython3",
   "version": "3.9.13"
  }
 },
 "nbformat": 4,
 "nbformat_minor": 5
}
