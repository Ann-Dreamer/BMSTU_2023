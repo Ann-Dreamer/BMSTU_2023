{
 "cells": [
  {
   "cell_type": "markdown",
   "id": "b271aee3",
   "metadata": {},
   "source": [
    "# СОЗДАНИЕ МОДЕЛЕЙ "
   ]
  },
  {
   "cell_type": "code",
   "execution_count": 1,
   "id": "4df1aa79",
   "metadata": {},
   "outputs": [],
   "source": [
    "# импорт библиотек\n",
    "import pandas as pd\n",
    "import numpy as np\n",
    "import matplotlib.pyplot as plt\n",
    "import seaborn as sns\n",
    "\n",
    "import sklearn\n",
    "from sklearn.ensemble import GradientBoostingRegressor, AdaBoostRegressor, RandomForestRegressor\n",
    "from sklearn.linear_model import LinearRegression, Ridge, Lasso, ElasticNet\n",
    "from sklearn.metrics import mean_absolute_error, mean_squared_error, r2_score\n",
    "from sklearn.model_selection import train_test_split, KFold, GridSearchCV\n",
    "from sklearn.neighbors import KNeighborsRegressor\n",
    "from sklearn.preprocessing import MinMaxScaler\n",
    "from sklearn.tree import DecisionTreeRegressor\n",
    "\n",
    "import tensorflow as tf\n",
    "from tensorflow import keras\n",
    "from tensorflow.keras import Sequential\n",
    "from tensorflow.keras.layers import Dense, LeakyReLU, Activation, Dropout\n",
    "from keras.models import load_model\n",
    "\n",
    "%matplotlib inline"
   ]
  },
  {
   "cell_type": "raw",
   "id": "d163cd16",
   "metadata": {},
   "source": [
    "Обучить нескольких моделей для прогноза модуля упругости при растяжении и прочности при растяжении. \n",
    "При построении модели необходимо 30% данных оставить на тестирование модели, на остальных происходит обучение моделей. \n",
    "При построении моделей провести поиск гиперпараметров модели с помощью поиска по сетке с перекрестной проверкой, \n",
    "количество блоков равно 10."
   ]
  },
  {
   "cell_type": "code",
   "execution_count": 2,
   "id": "82ad0699",
   "metadata": {},
   "outputs": [
    {
     "data": {
      "text/html": [
       "<div>\n",
       "<style scoped>\n",
       "    .dataframe tbody tr th:only-of-type {\n",
       "        vertical-align: middle;\n",
       "    }\n",
       "\n",
       "    .dataframe tbody tr th {\n",
       "        vertical-align: top;\n",
       "    }\n",
       "\n",
       "    .dataframe thead th {\n",
       "        text-align: right;\n",
       "    }\n",
       "</style>\n",
       "<table border=\"1\" class=\"dataframe\">\n",
       "  <thead>\n",
       "    <tr style=\"text-align: right;\">\n",
       "      <th></th>\n",
       "      <th>Соотношение матрица-наполнитель</th>\n",
       "      <th>Плотность, кг/м3</th>\n",
       "      <th>модуль упругости, ГПа</th>\n",
       "      <th>Количество отвердителя, м.%</th>\n",
       "      <th>Содержание эпоксидных групп,%_2</th>\n",
       "      <th>Температура вспышки, С_2</th>\n",
       "      <th>Поверхностная плотность, г/м2</th>\n",
       "      <th>Модуль упругости при растяжении, ГПа</th>\n",
       "      <th>Прочность при растяжении, МПа</th>\n",
       "      <th>Потребление смолы, г/м2</th>\n",
       "      <th>Угол нашивки, град</th>\n",
       "      <th>Шаг нашивки</th>\n",
       "      <th>Плотность нашивки</th>\n",
       "    </tr>\n",
       "  </thead>\n",
       "  <tbody>\n",
       "    <tr>\n",
       "      <th>1</th>\n",
       "      <td>1.857143</td>\n",
       "      <td>2030.000000</td>\n",
       "      <td>738.736842</td>\n",
       "      <td>50.000000</td>\n",
       "      <td>23.750000</td>\n",
       "      <td>284.615385</td>\n",
       "      <td>210.000000</td>\n",
       "      <td>70.000000</td>\n",
       "      <td>3000.000000</td>\n",
       "      <td>220.000000</td>\n",
       "      <td>0</td>\n",
       "      <td>4.000000</td>\n",
       "      <td>60.000000</td>\n",
       "    </tr>\n",
       "    <tr>\n",
       "      <th>3</th>\n",
       "      <td>1.857143</td>\n",
       "      <td>2030.000000</td>\n",
       "      <td>738.736842</td>\n",
       "      <td>129.000000</td>\n",
       "      <td>21.250000</td>\n",
       "      <td>300.000000</td>\n",
       "      <td>210.000000</td>\n",
       "      <td>70.000000</td>\n",
       "      <td>3000.000000</td>\n",
       "      <td>220.000000</td>\n",
       "      <td>0</td>\n",
       "      <td>5.000000</td>\n",
       "      <td>47.000000</td>\n",
       "    </tr>\n",
       "    <tr>\n",
       "      <th>4</th>\n",
       "      <td>2.771331</td>\n",
       "      <td>2030.000000</td>\n",
       "      <td>753.000000</td>\n",
       "      <td>111.860000</td>\n",
       "      <td>22.267857</td>\n",
       "      <td>284.615385</td>\n",
       "      <td>210.000000</td>\n",
       "      <td>70.000000</td>\n",
       "      <td>3000.000000</td>\n",
       "      <td>220.000000</td>\n",
       "      <td>0</td>\n",
       "      <td>5.000000</td>\n",
       "      <td>57.000000</td>\n",
       "    </tr>\n",
       "    <tr>\n",
       "      <th>5</th>\n",
       "      <td>2.767918</td>\n",
       "      <td>2000.000000</td>\n",
       "      <td>748.000000</td>\n",
       "      <td>111.860000</td>\n",
       "      <td>22.267857</td>\n",
       "      <td>284.615385</td>\n",
       "      <td>210.000000</td>\n",
       "      <td>70.000000</td>\n",
       "      <td>3000.000000</td>\n",
       "      <td>220.000000</td>\n",
       "      <td>0</td>\n",
       "      <td>5.000000</td>\n",
       "      <td>60.000000</td>\n",
       "    </tr>\n",
       "    <tr>\n",
       "      <th>6</th>\n",
       "      <td>2.569620</td>\n",
       "      <td>1910.000000</td>\n",
       "      <td>807.000000</td>\n",
       "      <td>111.860000</td>\n",
       "      <td>22.267857</td>\n",
       "      <td>284.615385</td>\n",
       "      <td>210.000000</td>\n",
       "      <td>70.000000</td>\n",
       "      <td>3000.000000</td>\n",
       "      <td>220.000000</td>\n",
       "      <td>0</td>\n",
       "      <td>5.000000</td>\n",
       "      <td>70.000000</td>\n",
       "    </tr>\n",
       "    <tr>\n",
       "      <th>...</th>\n",
       "      <td>...</td>\n",
       "      <td>...</td>\n",
       "      <td>...</td>\n",
       "      <td>...</td>\n",
       "      <td>...</td>\n",
       "      <td>...</td>\n",
       "      <td>...</td>\n",
       "      <td>...</td>\n",
       "      <td>...</td>\n",
       "      <td>...</td>\n",
       "      <td>...</td>\n",
       "      <td>...</td>\n",
       "      <td>...</td>\n",
       "    </tr>\n",
       "    <tr>\n",
       "      <th>1018</th>\n",
       "      <td>2.271346</td>\n",
       "      <td>1952.087902</td>\n",
       "      <td>912.855545</td>\n",
       "      <td>86.992183</td>\n",
       "      <td>20.123249</td>\n",
       "      <td>324.774576</td>\n",
       "      <td>209.198700</td>\n",
       "      <td>73.090961</td>\n",
       "      <td>2387.292495</td>\n",
       "      <td>125.007669</td>\n",
       "      <td>90</td>\n",
       "      <td>9.076380</td>\n",
       "      <td>47.019770</td>\n",
       "    </tr>\n",
       "    <tr>\n",
       "      <th>1019</th>\n",
       "      <td>3.444022</td>\n",
       "      <td>2050.089171</td>\n",
       "      <td>444.732634</td>\n",
       "      <td>145.981978</td>\n",
       "      <td>19.599769</td>\n",
       "      <td>254.215401</td>\n",
       "      <td>350.660830</td>\n",
       "      <td>72.920827</td>\n",
       "      <td>2360.392784</td>\n",
       "      <td>117.730099</td>\n",
       "      <td>90</td>\n",
       "      <td>10.565614</td>\n",
       "      <td>53.750790</td>\n",
       "    </tr>\n",
       "    <tr>\n",
       "      <th>1020</th>\n",
       "      <td>3.280604</td>\n",
       "      <td>1972.372865</td>\n",
       "      <td>416.836524</td>\n",
       "      <td>110.533477</td>\n",
       "      <td>23.957502</td>\n",
       "      <td>248.423047</td>\n",
       "      <td>740.142791</td>\n",
       "      <td>74.734344</td>\n",
       "      <td>2662.906040</td>\n",
       "      <td>236.606764</td>\n",
       "      <td>90</td>\n",
       "      <td>4.161154</td>\n",
       "      <td>67.629684</td>\n",
       "    </tr>\n",
       "    <tr>\n",
       "      <th>1021</th>\n",
       "      <td>3.705351</td>\n",
       "      <td>2066.799773</td>\n",
       "      <td>741.475517</td>\n",
       "      <td>141.397963</td>\n",
       "      <td>19.246945</td>\n",
       "      <td>275.779840</td>\n",
       "      <td>641.468152</td>\n",
       "      <td>74.042708</td>\n",
       "      <td>2071.715856</td>\n",
       "      <td>197.126067</td>\n",
       "      <td>90</td>\n",
       "      <td>6.313201</td>\n",
       "      <td>58.261074</td>\n",
       "    </tr>\n",
       "    <tr>\n",
       "      <th>1022</th>\n",
       "      <td>3.808020</td>\n",
       "      <td>1890.413468</td>\n",
       "      <td>417.316232</td>\n",
       "      <td>129.183416</td>\n",
       "      <td>27.474763</td>\n",
       "      <td>300.952708</td>\n",
       "      <td>758.747882</td>\n",
       "      <td>74.309704</td>\n",
       "      <td>2856.328932</td>\n",
       "      <td>194.754342</td>\n",
       "      <td>90</td>\n",
       "      <td>6.078902</td>\n",
       "      <td>77.434468</td>\n",
       "    </tr>\n",
       "  </tbody>\n",
       "</table>\n",
       "<p>922 rows × 13 columns</p>\n",
       "</div>"
      ],
      "text/plain": [
       "      Соотношение матрица-наполнитель  Плотность, кг/м3  \\\n",
       "1                            1.857143       2030.000000   \n",
       "3                            1.857143       2030.000000   \n",
       "4                            2.771331       2030.000000   \n",
       "5                            2.767918       2000.000000   \n",
       "6                            2.569620       1910.000000   \n",
       "...                               ...               ...   \n",
       "1018                         2.271346       1952.087902   \n",
       "1019                         3.444022       2050.089171   \n",
       "1020                         3.280604       1972.372865   \n",
       "1021                         3.705351       2066.799773   \n",
       "1022                         3.808020       1890.413468   \n",
       "\n",
       "      модуль упругости, ГПа  Количество отвердителя, м.%  \\\n",
       "1                738.736842                    50.000000   \n",
       "3                738.736842                   129.000000   \n",
       "4                753.000000                   111.860000   \n",
       "5                748.000000                   111.860000   \n",
       "6                807.000000                   111.860000   \n",
       "...                     ...                          ...   \n",
       "1018             912.855545                    86.992183   \n",
       "1019             444.732634                   145.981978   \n",
       "1020             416.836524                   110.533477   \n",
       "1021             741.475517                   141.397963   \n",
       "1022             417.316232                   129.183416   \n",
       "\n",
       "      Содержание эпоксидных групп,%_2  Температура вспышки, С_2  \\\n",
       "1                           23.750000                284.615385   \n",
       "3                           21.250000                300.000000   \n",
       "4                           22.267857                284.615385   \n",
       "5                           22.267857                284.615385   \n",
       "6                           22.267857                284.615385   \n",
       "...                               ...                       ...   \n",
       "1018                        20.123249                324.774576   \n",
       "1019                        19.599769                254.215401   \n",
       "1020                        23.957502                248.423047   \n",
       "1021                        19.246945                275.779840   \n",
       "1022                        27.474763                300.952708   \n",
       "\n",
       "      Поверхностная плотность, г/м2  Модуль упругости при растяжении, ГПа  \\\n",
       "1                        210.000000                             70.000000   \n",
       "3                        210.000000                             70.000000   \n",
       "4                        210.000000                             70.000000   \n",
       "5                        210.000000                             70.000000   \n",
       "6                        210.000000                             70.000000   \n",
       "...                             ...                                   ...   \n",
       "1018                     209.198700                             73.090961   \n",
       "1019                     350.660830                             72.920827   \n",
       "1020                     740.142791                             74.734344   \n",
       "1021                     641.468152                             74.042708   \n",
       "1022                     758.747882                             74.309704   \n",
       "\n",
       "      Прочность при растяжении, МПа  Потребление смолы, г/м2  \\\n",
       "1                       3000.000000               220.000000   \n",
       "3                       3000.000000               220.000000   \n",
       "4                       3000.000000               220.000000   \n",
       "5                       3000.000000               220.000000   \n",
       "6                       3000.000000               220.000000   \n",
       "...                             ...                      ...   \n",
       "1018                    2387.292495               125.007669   \n",
       "1019                    2360.392784               117.730099   \n",
       "1020                    2662.906040               236.606764   \n",
       "1021                    2071.715856               197.126067   \n",
       "1022                    2856.328932               194.754342   \n",
       "\n",
       "      Угол нашивки, град  Шаг нашивки  Плотность нашивки  \n",
       "1                      0     4.000000          60.000000  \n",
       "3                      0     5.000000          47.000000  \n",
       "4                      0     5.000000          57.000000  \n",
       "5                      0     5.000000          60.000000  \n",
       "6                      0     5.000000          70.000000  \n",
       "...                  ...          ...                ...  \n",
       "1018                  90     9.076380          47.019770  \n",
       "1019                  90    10.565614          53.750790  \n",
       "1020                  90     4.161154          67.629684  \n",
       "1021                  90     6.313201          58.261074  \n",
       "1022                  90     6.078902          77.434468  \n",
       "\n",
       "[922 rows x 13 columns]"
      ]
     },
     "execution_count": 2,
     "metadata": {},
     "output_type": "execute_result"
    }
   ],
   "source": [
    "# загрузка и просмотр датасета\n",
    "df = pd.read_excel('../data/processed/df_clean.xlsx', index_col=0)\n",
    "df"
   ]
  },
  {
   "cell_type": "markdown",
   "id": "687045ee",
   "metadata": {},
   "source": [
    "# Модуль упругости при растяжении и Прочность при растяжении"
   ]
  },
  {
   "cell_type": "code",
   "execution_count": 3,
   "id": "498eb62c",
   "metadata": {},
   "outputs": [],
   "source": [
    "# хранение оценок моделей\n",
    "MAE_Emod=[] # средняя абсолютная ошибка - Модуль упругости при растяжении\n",
    "MSE_Emod=[] # среднеквадратическая ошибка - Модуль упругости при растяжении\n",
    "R2_Emod=[] # коэффициент детерминации - Модуль упругости при растяжении\n",
    "\n",
    "MAE_Rm=[] # средняя абсолютная ошибка - Прочность при растяжении\n",
    "MSE_Rm=[] # среднеквадратическая ошибка - Прочность при растяжении\n",
    "R2_Rm=[] # коэффициент детерминации - Прочность при растяжении"
   ]
  },
  {
   "cell_type": "code",
   "execution_count": 4,
   "id": "8a22db1e",
   "metadata": {},
   "outputs": [
    {
     "data": {
      "text/html": [
       "<div>\n",
       "<style scoped>\n",
       "    .dataframe tbody tr th:only-of-type {\n",
       "        vertical-align: middle;\n",
       "    }\n",
       "\n",
       "    .dataframe tbody tr th {\n",
       "        vertical-align: top;\n",
       "    }\n",
       "\n",
       "    .dataframe thead th {\n",
       "        text-align: right;\n",
       "    }\n",
       "</style>\n",
       "<table border=\"1\" class=\"dataframe\">\n",
       "  <thead>\n",
       "    <tr style=\"text-align: right;\">\n",
       "      <th></th>\n",
       "      <th>Модуль упругости при растяжении, ГПа</th>\n",
       "      <th>Прочность при растяжении, МПа</th>\n",
       "    </tr>\n",
       "  </thead>\n",
       "  <tbody>\n",
       "    <tr>\n",
       "      <th>1</th>\n",
       "      <td>70.0</td>\n",
       "      <td>3000.0</td>\n",
       "    </tr>\n",
       "    <tr>\n",
       "      <th>3</th>\n",
       "      <td>70.0</td>\n",
       "      <td>3000.0</td>\n",
       "    </tr>\n",
       "    <tr>\n",
       "      <th>4</th>\n",
       "      <td>70.0</td>\n",
       "      <td>3000.0</td>\n",
       "    </tr>\n",
       "    <tr>\n",
       "      <th>5</th>\n",
       "      <td>70.0</td>\n",
       "      <td>3000.0</td>\n",
       "    </tr>\n",
       "    <tr>\n",
       "      <th>6</th>\n",
       "      <td>70.0</td>\n",
       "      <td>3000.0</td>\n",
       "    </tr>\n",
       "  </tbody>\n",
       "</table>\n",
       "</div>"
      ],
      "text/plain": [
       "   Модуль упругости при растяжении, ГПа  Прочность при растяжении, МПа\n",
       "1                                  70.0                         3000.0\n",
       "3                                  70.0                         3000.0\n",
       "4                                  70.0                         3000.0\n",
       "5                                  70.0                         3000.0\n",
       "6                                  70.0                         3000.0"
      ]
     },
     "execution_count": 4,
     "metadata": {},
     "output_type": "execute_result"
    }
   ],
   "source": [
    "# выделение целевых переменных\n",
    "y = df[['Модуль упругости при растяжении, ГПа','Прочность при растяжении, МПа']]\n",
    "y_Emod = df[['Модуль упругости при растяжении, ГПа']]\n",
    "y_Rm = df[['Прочность при растяжении, МПа']]\n",
    "y.head()"
   ]
  },
  {
   "cell_type": "code",
   "execution_count": 5,
   "id": "bfb7c94d",
   "metadata": {},
   "outputs": [
    {
     "data": {
      "text/html": [
       "<div>\n",
       "<style scoped>\n",
       "    .dataframe tbody tr th:only-of-type {\n",
       "        vertical-align: middle;\n",
       "    }\n",
       "\n",
       "    .dataframe tbody tr th {\n",
       "        vertical-align: top;\n",
       "    }\n",
       "\n",
       "    .dataframe thead th {\n",
       "        text-align: right;\n",
       "    }\n",
       "</style>\n",
       "<table border=\"1\" class=\"dataframe\">\n",
       "  <thead>\n",
       "    <tr style=\"text-align: right;\">\n",
       "      <th></th>\n",
       "      <th>Соотношение матрица-наполнитель</th>\n",
       "      <th>Плотность, кг/м3</th>\n",
       "      <th>модуль упругости, ГПа</th>\n",
       "      <th>Количество отвердителя, м.%</th>\n",
       "      <th>Содержание эпоксидных групп,%_2</th>\n",
       "      <th>Температура вспышки, С_2</th>\n",
       "      <th>Поверхностная плотность, г/м2</th>\n",
       "      <th>Потребление смолы, г/м2</th>\n",
       "      <th>Угол нашивки, град</th>\n",
       "      <th>Шаг нашивки</th>\n",
       "      <th>Плотность нашивки</th>\n",
       "    </tr>\n",
       "  </thead>\n",
       "  <tbody>\n",
       "    <tr>\n",
       "      <th>1</th>\n",
       "      <td>1.857143</td>\n",
       "      <td>2030.0</td>\n",
       "      <td>738.736842</td>\n",
       "      <td>50.00</td>\n",
       "      <td>23.750000</td>\n",
       "      <td>284.615385</td>\n",
       "      <td>210.0</td>\n",
       "      <td>220.0</td>\n",
       "      <td>0</td>\n",
       "      <td>4.0</td>\n",
       "      <td>60.0</td>\n",
       "    </tr>\n",
       "    <tr>\n",
       "      <th>3</th>\n",
       "      <td>1.857143</td>\n",
       "      <td>2030.0</td>\n",
       "      <td>738.736842</td>\n",
       "      <td>129.00</td>\n",
       "      <td>21.250000</td>\n",
       "      <td>300.000000</td>\n",
       "      <td>210.0</td>\n",
       "      <td>220.0</td>\n",
       "      <td>0</td>\n",
       "      <td>5.0</td>\n",
       "      <td>47.0</td>\n",
       "    </tr>\n",
       "    <tr>\n",
       "      <th>4</th>\n",
       "      <td>2.771331</td>\n",
       "      <td>2030.0</td>\n",
       "      <td>753.000000</td>\n",
       "      <td>111.86</td>\n",
       "      <td>22.267857</td>\n",
       "      <td>284.615385</td>\n",
       "      <td>210.0</td>\n",
       "      <td>220.0</td>\n",
       "      <td>0</td>\n",
       "      <td>5.0</td>\n",
       "      <td>57.0</td>\n",
       "    </tr>\n",
       "    <tr>\n",
       "      <th>5</th>\n",
       "      <td>2.767918</td>\n",
       "      <td>2000.0</td>\n",
       "      <td>748.000000</td>\n",
       "      <td>111.86</td>\n",
       "      <td>22.267857</td>\n",
       "      <td>284.615385</td>\n",
       "      <td>210.0</td>\n",
       "      <td>220.0</td>\n",
       "      <td>0</td>\n",
       "      <td>5.0</td>\n",
       "      <td>60.0</td>\n",
       "    </tr>\n",
       "    <tr>\n",
       "      <th>6</th>\n",
       "      <td>2.569620</td>\n",
       "      <td>1910.0</td>\n",
       "      <td>807.000000</td>\n",
       "      <td>111.86</td>\n",
       "      <td>22.267857</td>\n",
       "      <td>284.615385</td>\n",
       "      <td>210.0</td>\n",
       "      <td>220.0</td>\n",
       "      <td>0</td>\n",
       "      <td>5.0</td>\n",
       "      <td>70.0</td>\n",
       "    </tr>\n",
       "  </tbody>\n",
       "</table>\n",
       "</div>"
      ],
      "text/plain": [
       "   Соотношение матрица-наполнитель  Плотность, кг/м3  модуль упругости, ГПа  \\\n",
       "1                         1.857143            2030.0             738.736842   \n",
       "3                         1.857143            2030.0             738.736842   \n",
       "4                         2.771331            2030.0             753.000000   \n",
       "5                         2.767918            2000.0             748.000000   \n",
       "6                         2.569620            1910.0             807.000000   \n",
       "\n",
       "   Количество отвердителя, м.%  Содержание эпоксидных групп,%_2  \\\n",
       "1                        50.00                        23.750000   \n",
       "3                       129.00                        21.250000   \n",
       "4                       111.86                        22.267857   \n",
       "5                       111.86                        22.267857   \n",
       "6                       111.86                        22.267857   \n",
       "\n",
       "   Температура вспышки, С_2  Поверхностная плотность, г/м2  \\\n",
       "1                284.615385                          210.0   \n",
       "3                300.000000                          210.0   \n",
       "4                284.615385                          210.0   \n",
       "5                284.615385                          210.0   \n",
       "6                284.615385                          210.0   \n",
       "\n",
       "   Потребление смолы, г/м2  Угол нашивки, град  Шаг нашивки  Плотность нашивки  \n",
       "1                    220.0                   0          4.0               60.0  \n",
       "3                    220.0                   0          5.0               47.0  \n",
       "4                    220.0                   0          5.0               57.0  \n",
       "5                    220.0                   0          5.0               60.0  \n",
       "6                    220.0                   0          5.0               70.0  "
      ]
     },
     "execution_count": 5,
     "metadata": {},
     "output_type": "execute_result"
    }
   ],
   "source": [
    "X = df.drop(['Модуль упругости при растяжении, ГПа', 'Прочность при растяжении, МПа'], axis=1)\n",
    "X.head()"
   ]
  },
  {
   "cell_type": "code",
   "execution_count": 6,
   "id": "d2299ff7",
   "metadata": {},
   "outputs": [],
   "source": [
    "# разбиение данных на тренировочную и тестовую части\n",
    "X_train, X_test, y_train, y_test = train_test_split(X,y, test_size=0.3, random_state=42, shuffle=True)"
   ]
  },
  {
   "cell_type": "code",
   "execution_count": 7,
   "id": "23b7f7e6",
   "metadata": {},
   "outputs": [],
   "source": [
    "# нормализация  данных\n",
    "scaler_norm = MinMaxScaler()\n",
    "scaler_norm.fit(X)\n",
    "X_norm = pd.DataFrame (data =scaler_norm.transform(X), columns=X.columns)\n",
    "scaler_norm_y = MinMaxScaler()\n",
    "scaler_norm_y.fit(y)\n",
    "y_norm = pd.DataFrame (data = scaler_norm_y.transform(y), columns=y.columns)"
   ]
  },
  {
   "cell_type": "code",
   "execution_count": 8,
   "id": "9b3587bd",
   "metadata": {},
   "outputs": [],
   "source": [
    "# разбиение нормализованных данных на тестовую и тренировочную часть\n",
    "X_train_norm, X_test_norm, y_train_norm, y_test_norm = train_test_split(X_norm, y_norm, \n",
    "                                                                        test_size=0.3, random_state=42, shuffle=True)"
   ]
  },
  {
   "cell_type": "code",
   "execution_count": 9,
   "id": "d40a0953",
   "metadata": {},
   "outputs": [
    {
     "name": "stdout",
     "output_type": "stream",
     "text": [
      "(645, 11)\n",
      "(277, 11)\n",
      "(645, 2)\n",
      "(277, 2)\n"
     ]
    }
   ],
   "source": [
    "print(X_train_norm.shape)\n",
    "print(X_test_norm.shape)\n",
    "print(y_train_norm.shape)\n",
    "print(y_test_norm.shape)"
   ]
  },
  {
   "cell_type": "markdown",
   "id": "3cb36c43",
   "metadata": {},
   "source": [
    "Linear Regression"
   ]
  },
  {
   "cell_type": "code",
   "execution_count": 10,
   "id": "5296b0e3",
   "metadata": {},
   "outputs": [
    {
     "name": "stdout",
     "output_type": "stream",
     "text": [
      "2.6109355505901184\n",
      "372.05238450611114\n",
      "-0.024476898005094228\n",
      "-0.003529768950333745\n"
     ]
    }
   ],
   "source": [
    "modelLinear = LinearRegression()\n",
    "modelLinear.fit(X_train_norm,y_train_norm)\n",
    "y_pred =  scaler_norm_y.inverse_transform (modelLinear.predict(X_test_norm))\n",
    "MAE_Linear_Emod = mean_absolute_error(y_test.iloc[:,0],y_pred[:,0])\n",
    "MAE_Linear_Rm = mean_squared_error(y_test.iloc[:,1],y_pred[:,1])\n",
    "MSE_Linear_Emod = mean_squared_error(y_test.iloc[:,0],y_pred[:,0])\n",
    "MSE_Linear_Rm = mean_absolute_error(y_test.iloc[:,1],y_pred[:,1])\n",
    "R2_Linear_Emod = r2_score(y_test.iloc[:,0],y_pred[:,0])\n",
    "R2_Linear_Rm = r2_score(y_test.iloc[:,1],y_pred[:,1])\n",
    "print (MAE_Linear_Emod)\n",
    "print (MAE_Linear_Rm)\n",
    "print (MSE_Linear_Emod)\n",
    "print (MSE_Linear_Rm)\n",
    "print (R2_Linear_Emod)\n",
    "print (R2_Linear_Rm)"
   ]
  },
  {
   "cell_type": "code",
   "execution_count": 11,
   "id": "818ada0e",
   "metadata": {},
   "outputs": [],
   "source": [
    "# записываем данные об ошибках в итоговую таблицу\n",
    "MAE_Emod.append(['Linear',MAE_Linear_Emod])\n",
    "MAE_Rm.append(['Linear',MAE_Linear_Rm])\n",
    "MSE_Emod.append(['Linear',MSE_Linear_Emod])\n",
    "MSE_Rm.append(['Linear',MSE_Linear_Rm])\n",
    "R2_Emod.append(['Linear',R2_Linear_Emod])\n",
    "R2_Rm.append(['Linear',R2_Linear_Rm])"
   ]
  },
  {
   "cell_type": "markdown",
   "id": "2f32213b",
   "metadata": {},
   "source": [
    "Ridge regression"
   ]
  },
  {
   "cell_type": "code",
   "execution_count": 12,
   "id": "1637ea37",
   "metadata": {},
   "outputs": [],
   "source": [
    "# Гиперпараметры для поиска по сетке\n",
    "params = [{'alpha': [20, 10, 1, 0.1, 0.01, 0.0001],\n",
    "           \"solver\": ['svd', 'cholesky', 'lsqr', 'sparse_cg', 'sag', 'saga']}]"
   ]
  },
  {
   "cell_type": "code",
   "execution_count": 13,
   "id": "e754bfcd",
   "metadata": {},
   "outputs": [
    {
     "data": {
      "text/plain": [
       "GridSearchCV(cv=KFold(n_splits=10, random_state=1, shuffle=True),\n",
       "             estimator=Ridge(), n_jobs=-1,\n",
       "             param_grid=[{'alpha': [20, 10, 1, 0.1, 0.01, 0.0001],\n",
       "                          'solver': ['svd', 'cholesky', 'lsqr', 'sparse_cg',\n",
       "                                     'sag', 'saga']}],\n",
       "             return_train_score=True, scoring='neg_root_mean_squared_error')"
      ]
     },
     "execution_count": 13,
     "metadata": {},
     "output_type": "execute_result"
    }
   ],
   "source": [
    "# Поиск по сетке с перекрестной проверкой\n",
    "modelRidge = Ridge()\n",
    "cv_scheme = KFold(n_splits=10, shuffle=True, random_state=1)\n",
    "cv = GridSearchCV(estimator=modelRidge, param_grid=params,\n",
    "                  scoring='neg_root_mean_squared_error', cv=cv_scheme, return_train_score=True, n_jobs=-1)\n",
    "cv.fit(X_train_norm,y_train_norm)"
   ]
  },
  {
   "cell_type": "code",
   "execution_count": 14,
   "id": "6360f145",
   "metadata": {},
   "outputs": [
    {
     "name": "stdout",
     "output_type": "stream",
     "text": [
      "Лучший параметр для гребневой регрессии:\n",
      "{'alpha': 20, 'solver': 'saga'}\n",
      "Лучший средний балл перекрестной проверки:\n",
      "-0.18973637716633557\n"
     ]
    }
   ],
   "source": [
    "print(\"Лучший параметр для гребневой регрессии:\")\n",
    "print(cv.best_params_)\n",
    "print(\"Лучший средний балл перекрестной проверки:\")\n",
    "print(cv.best_score_)"
   ]
  },
  {
   "cell_type": "code",
   "execution_count": 15,
   "id": "ec0a5634",
   "metadata": {},
   "outputs": [
    {
     "name": "stdout",
     "output_type": "stream",
     "text": [
      "2.5998224772212875\n",
      "369.88575849459477\n",
      "-0.017619777856030527\n",
      "0.00041319486233071245\n"
     ]
    }
   ],
   "source": [
    "# Модель линейной регрессии Ridge\n",
    "alpha = cv.best_params_['alpha']\n",
    "solver = cv.best_params_['solver']\n",
    "\n",
    "modelRidge = Ridge(alpha=alpha, solver=solver)\n",
    "modelRidge.fit(X_train_norm,y_train_norm)\n",
    "y_pred =  scaler_norm_y.inverse_transform (modelRidge.predict(X_test_norm))\n",
    "MAE_Ridge_Emod = mean_absolute_error(y_test.iloc[:,0],y_pred[:,0])\n",
    "MAE_Ridge_Rm = mean_absolute_error(y_test.iloc[:,1],y_pred[:,1])\n",
    "R2_Ridge_Emod = r2_score(y_test.iloc[:,0],y_pred[:,0])\n",
    "R2_Ridge_Rm = r2_score(y_test.iloc[:,1],y_pred[:,1])\n",
    "print (MAE_Ridge_Emod)\n",
    "print (MAE_Ridge_Rm)\n",
    "print (R2_Ridge_Emod)\n",
    "print (R2_Ridge_Rm)"
   ]
  },
  {
   "cell_type": "code",
   "execution_count": 16,
   "id": "93397743",
   "metadata": {},
   "outputs": [],
   "source": [
    "# записываем данные об ошибках в итоговую таблицу\n",
    "MAE_Emod.append(['Ridge',MAE_Ridge_Emod])\n",
    "MAE_Rm.append(['Ridge',MAE_Ridge_Rm])\n",
    "\n",
    "\n",
    "R2_Emod.append(['Ridge',R2_Ridge_Emod])\n",
    "R2_Rm.append(['Ridge',R2_Ridge_Rm])"
   ]
  },
  {
   "cell_type": "markdown",
   "id": "5d69971e",
   "metadata": {},
   "source": [
    "Lasso regression"
   ]
  },
  {
   "cell_type": "code",
   "execution_count": 17,
   "id": "e7ae840a",
   "metadata": {},
   "outputs": [
    {
     "name": "stdout",
     "output_type": "stream",
     "text": [
      "2.5948108078737024\n",
      "368.9355592328838\n",
      "-0.018703787461314736\n",
      "0.0033815533408245724\n"
     ]
    }
   ],
   "source": [
    "# модель линейной регрессии Lasso\n",
    "modelLasso = Lasso(alpha=0.001)\n",
    "modelLasso.fit(X_train_norm,y_train_norm)\n",
    "y_pred = scaler_norm_y.inverse_transform (modelLasso.predict(X_test_norm))\n",
    "MAE_Lasso_Emod = mean_absolute_error(y_test.iloc[:,0],y_pred[:,0])\n",
    "MAE_Lasso_Rm = mean_absolute_error(y_test.iloc[:,1],y_pred[:,1])\n",
    "R2_Lasso_Emod = r2_score(y_test.iloc[:,0],y_pred[:,0])\n",
    "R2_Lasso_Rm = r2_score(y_test.iloc[:,1],y_pred[:,1])\n",
    "print (MAE_Lasso_Emod)\n",
    "print (MAE_Lasso_Rm)\n",
    "print (R2_Lasso_Emod)\n",
    "print (R2_Lasso_Rm)"
   ]
  },
  {
   "cell_type": "code",
   "execution_count": 18,
   "id": "6b6674c5",
   "metadata": {},
   "outputs": [],
   "source": [
    "# записываем данные об ошибках в итоговую таблицу\n",
    "MAE_Emod.append(['Lasso',MAE_Lasso_Emod])\n",
    "MAE_Rm.append(['Lasso',MAE_Lasso_Rm])\n",
    "R2_Emod.append(['Lasso',R2_Lasso_Emod])\n",
    "R2_Rm.append(['Lasso',R2_Lasso_Rm])"
   ]
  },
  {
   "cell_type": "markdown",
   "id": "b20a3e5a",
   "metadata": {},
   "source": [
    "ElasticNet regression"
   ]
  },
  {
   "cell_type": "code",
   "execution_count": 19,
   "id": "10d5aa63",
   "metadata": {},
   "outputs": [
    {
     "name": "stdout",
     "output_type": "stream",
     "text": [
      "2.5801929025662833\n",
      "368.8669394882762\n",
      "-0.00887867080603466\n",
      "-5.703200261408803e-05\n"
     ]
    }
   ],
   "source": [
    "# модель линейной регрессии ElasticNet\n",
    "modelElastic = ElasticNet(alpha=0.5, l1_ratio=0.5)\n",
    "modelElastic.fit(X_train_norm,y_train_norm)\n",
    "y_pred = scaler_norm_y.inverse_transform (modelElastic.predict(X_test_norm))\n",
    "MAE_Elastic_Emod = mean_absolute_error(y_test.iloc[:,0],y_pred[:,0])\n",
    "MAE_Elastic_Rm = mean_absolute_error(y_test.iloc[:,1],y_pred[:,1])\n",
    "R2_Elastic_Emod = r2_score(y_test.iloc[:,0],y_pred[:,0])\n",
    "R2_Elastic_Rm = r2_score(y_test.iloc[:,1],y_pred[:,1])\n",
    "print (MAE_Elastic_Emod)\n",
    "print (MAE_Elastic_Rm)\n",
    "print (R2_Elastic_Emod)\n",
    "print (R2_Elastic_Rm)"
   ]
  },
  {
   "cell_type": "code",
   "execution_count": 20,
   "id": "e655a556",
   "metadata": {},
   "outputs": [],
   "source": [
    "# записываем данные об ошибках в итоговую таблицу\n",
    "MAE_Emod.append(['ElasticNet',MAE_Elastic_Emod])\n",
    "MAE_Rm.append(['ElasticNet',MAE_Elastic_Rm])\n",
    "R2_Emod.append(['ElasticNet',R2_Elastic_Emod])\n",
    "R2_Rm.append(['ElasticNet',R2_Elastic_Rm])"
   ]
  },
  {
   "cell_type": "markdown",
   "id": "a513a836",
   "metadata": {},
   "source": [
    "GradientBoostingRegressor"
   ]
  },
  {
   "cell_type": "code",
   "execution_count": 21,
   "id": "4945b047",
   "metadata": {},
   "outputs": [
    {
     "name": "stdout",
     "output_type": "stream",
     "text": [
      "2.7049039964607657\n",
      "382.88631067523124\n",
      "-0.12545856440352332\n",
      "-0.054775033603555956\n"
     ]
    }
   ],
   "source": [
    "# модель регрессии GradientBoostingRegressor\n",
    "modelGBR_Emod = GradientBoostingRegressor()\n",
    "modelGBR_Emod.fit(X_train_norm,y_train_norm.iloc[:,0])\n",
    "y_pred_Emod = modelGBR_Emod.predict(X_test_norm)\n",
    "modelGBR_Rm = GradientBoostingRegressor()\n",
    "modelGBR_Rm.fit(X_train_norm,y_train_norm.iloc[:,1])\n",
    "y_pred_Rm = modelGBR_Rm.predict(X_test_norm)\n",
    "y_pred = np.vstack((y_pred_Emod,y_pred_Rm)).T\n",
    "y_pred = scaler_norm_y.inverse_transform (y_pred)\n",
    "\n",
    "MAE_GBR_Emod = mean_absolute_error(y_test.iloc[:,0],y_pred[:,0])\n",
    "MAE_GBR_Rm = mean_absolute_error(y_test.iloc[:,1],y_pred[:,1])\n",
    "R2_GBR_Emod = r2_score(y_test.iloc[:,0],y_pred[:,0])\n",
    "R2_GBR_Rm = r2_score(y_test.iloc[:,1],y_pred[:,1])\n",
    "print (MAE_GBR_Emod)\n",
    "print (MAE_GBR_Rm)\n",
    "print (R2_GBR_Emod)\n",
    "print (R2_GBR_Rm)"
   ]
  },
  {
   "cell_type": "code",
   "execution_count": 22,
   "id": "1fa55355",
   "metadata": {},
   "outputs": [],
   "source": [
    "# записываем данные об ошибках в итоговую таблицу\n",
    "MAE_Emod.append(['GradientBoosting',MAE_GBR_Emod])\n",
    "MAE_Rm.append(['GradientBoosting',MAE_Elastic_Rm])\n",
    "R2_Emod.append(['GradientBoosting',R2_GBR_Emod])\n",
    "R2_Rm.append(['GradientBoosting',R2_GBR_Rm])"
   ]
  },
  {
   "cell_type": "markdown",
   "id": "a73f64db",
   "metadata": {},
   "source": [
    "KNeighborsRegressor"
   ]
  },
  {
   "cell_type": "code",
   "execution_count": 23,
   "id": "0d485a35",
   "metadata": {},
   "outputs": [
    {
     "name": "stdout",
     "output_type": "stream",
     "text": [
      "2.6225621597024773\n",
      "400.581653879789\n",
      "-0.04185458098976058\n",
      "-0.1709249661618053\n"
     ]
    }
   ],
   "source": [
    "modelNeihgbor_Emod = KNeighborsRegressor(n_neighbors=13)\n",
    "modelNeihgbor_Emod.fit(X_train_norm,y_train_norm.iloc[:,0])\n",
    "y_pred_Emod = modelNeihgbor_Emod.predict(X_test_norm)\n",
    "modelNeihgbor_Rm = KNeighborsRegressor()\n",
    "modelNeihgbor_Rm.fit(X_train_norm,y_train_norm.iloc[:,1])\n",
    "y_pred_Rm = modelNeihgbor_Rm.predict(X_test_norm)\n",
    "y_pred = np.vstack((y_pred_Emod,y_pred_Rm)).T\n",
    "y_pred = scaler_norm_y.inverse_transform (y_pred)\n",
    "\n",
    "MAE_Neihgbor_Emod = mean_absolute_error(y_test.iloc[:,0],y_pred[:,0])\n",
    "MAE_Neihgbor_Rm = mean_absolute_error(y_test.iloc[:,1],y_pred[:,1])\n",
    "R2_Neihgbor_Emod = r2_score(y_test.iloc[:,0],y_pred[:,0])\n",
    "R2_Neihgbor_Rm = r2_score(y_test.iloc[:,1],y_pred[:,1])\n",
    "print (MAE_Neihgbor_Emod)\n",
    "print (MAE_Neihgbor_Rm)\n",
    "print (R2_Neihgbor_Emod)\n",
    "print (R2_Neihgbor_Rm)"
   ]
  },
  {
   "cell_type": "code",
   "execution_count": 24,
   "id": "933bca0b",
   "metadata": {},
   "outputs": [],
   "source": [
    "# записываем данные об ошибках в итоговую таблицу\n",
    "MAE_Emod.append(['KNeighbors',MAE_Neihgbor_Emod])\n",
    "MAE_Rm.append(['KNeighbors',MAE_Neihgbor_Rm])\n",
    "R2_Emod.append(['KNeighbors',R2_Neihgbor_Emod])\n",
    "R2_Rm.append(['KNeighbors',R2_Neihgbor_Rm])"
   ]
  },
  {
   "cell_type": "markdown",
   "id": "9cffe748",
   "metadata": {},
   "source": [
    "DecisionTreeRegressor"
   ]
  },
  {
   "cell_type": "code",
   "execution_count": 25,
   "id": "508b7e50",
   "metadata": {},
   "outputs": [
    {
     "name": "stdout",
     "output_type": "stream",
     "text": [
      "2.6543059810759577\n",
      "400.581653879789\n",
      "-0.08523100325701027\n",
      "-0.1709249661618053\n"
     ]
    }
   ],
   "source": [
    "# модель регрессии DecisionTreeRegressor\n",
    "modelTree_Emod = DecisionTreeRegressor(max_depth=3)\n",
    "modelTree_Emod.fit(X_train_norm,y_train_norm.iloc[:,0])\n",
    "y_pred_Emod = modelTree_Emod.predict(X_test_norm)\n",
    "\n",
    "modelTree_Rm = DecisionTreeRegressor(max_depth=5)\n",
    "modelTree_Rm.fit(X_train_norm,y_train_norm.iloc[:,1])\n",
    "y_pred2 = modelTree_Rm.predict(X_test_norm)\n",
    "\n",
    "y_pred = np.vstack((y_pred_Emod,y_pred_Rm)).T\n",
    "y_pred = scaler_norm_y.inverse_transform (y_pred)\n",
    "\n",
    "MAE_Tree_Emod = mean_absolute_error(y_test.iloc[:,0],y_pred[:,0])\n",
    "MAE_Tree_Rm = mean_absolute_error(y_test.iloc[:,1],y_pred[:,1])\n",
    "R2_Tree_Emod = r2_score(y_test.iloc[:,0],y_pred[:,0])\n",
    "R2_Tree_Rm = r2_score(y_test.iloc[:,1],y_pred[:,1])\n",
    "print (MAE_Tree_Emod)\n",
    "print (MAE_Tree_Rm)\n",
    "print (R2_Tree_Emod)\n",
    "print (R2_Tree_Rm)"
   ]
  },
  {
   "cell_type": "code",
   "execution_count": 26,
   "id": "856a3756",
   "metadata": {},
   "outputs": [],
   "source": [
    "# записываем данные об ошибках в итоговую таблицу\n",
    "MAE_Emod.append(['DecisionTree',MAE_Tree_Emod])\n",
    "MAE_Rm.append(['DecisionTree',MAE_Tree_Rm])\n",
    "R2_Emod.append(['DecisionTree',R2_Tree_Emod])\n",
    "R2_Rm.append(['DecisionTree',R2_Tree_Rm])"
   ]
  },
  {
   "cell_type": "markdown",
   "id": "4b190649",
   "metadata": {},
   "source": [
    "RandomForestRegressor"
   ]
  },
  {
   "cell_type": "code",
   "execution_count": 27,
   "id": "b0e53422",
   "metadata": {},
   "outputs": [
    {
     "name": "stdout",
     "output_type": "stream",
     "text": [
      "2.58313981375893\n",
      "369.79592543764466\n",
      "-0.017893036221034553\n",
      "-0.006087005707580584\n"
     ]
    }
   ],
   "source": [
    "# модель регрессии RandomForestRegressor\n",
    "modelForest_Emod = RandomForestRegressor(max_depth=5)\n",
    "modelForest_Emod.fit(X_train_norm,y_train_norm.iloc[:,0])\n",
    "y_pred_Emod = modelForest_Emod.predict(X_test_norm)\n",
    "\n",
    "modelForest_Rm = RandomForestRegressor(max_depth=5)\n",
    "modelForest_Rm.fit(X_train_norm,y_train_norm.iloc[:,1])\n",
    "y_pred_Rm = modelForest_Rm.predict(X_test_norm)\n",
    "\n",
    "y_pred = np.vstack((y_pred_Emod,y_pred_Rm)).T\n",
    "y_pred = scaler_norm_y.inverse_transform (y_pred)\n",
    "\n",
    "MAE_Forest_Emod = mean_absolute_error(y_test.iloc[:,0],y_pred[:,0])\n",
    "MAE_Forest_Rm = mean_absolute_error(y_test.iloc[:,1],y_pred[:,1])\n",
    "R2_Forest_Emod = r2_score(y_test.iloc[:,0],y_pred[:,0])\n",
    "R2_Forest_Rm = r2_score(y_test.iloc[:,1],y_pred[:,1])\n",
    "print (MAE_Forest_Emod)\n",
    "print (MAE_Forest_Rm)\n",
    "print (R2_Forest_Emod)\n",
    "print (R2_Forest_Rm)"
   ]
  },
  {
   "cell_type": "code",
   "execution_count": 28,
   "id": "9799d2c6",
   "metadata": {},
   "outputs": [],
   "source": [
    "# записываем данные об ошибках в итоговую таблицу\n",
    "MAE_Emod.append(['RandomForest',MAE_Forest_Emod])\n",
    "MAE_Rm.append(['RandomForest',MAE_Forest_Rm])\n",
    "R2_Emod.append(['RandomForest',R2_Forest_Emod])\n",
    "R2_Rm.append(['RandomForest',R2_Forest_Rm])"
   ]
  },
  {
   "cell_type": "markdown",
   "id": "38223ebb",
   "metadata": {},
   "source": [
    "AdaBoostRegressor"
   ]
  },
  {
   "cell_type": "code",
   "execution_count": 29,
   "id": "48db67eb",
   "metadata": {},
   "outputs": [
    {
     "name": "stdout",
     "output_type": "stream",
     "text": [
      "2.6238658388961555\n",
      "380.8444459740513\n",
      "-0.04670735391856207\n",
      "-0.04951664076137097\n"
     ]
    }
   ],
   "source": [
    "# модель регрессии AdaBoostRegressor\n",
    "modelAda_Emod = AdaBoostRegressor(DecisionTreeRegressor(max_depth=5), n_estimators=1000)\n",
    "modelAda_Emod.fit(X_train_norm,y_train_norm.iloc[:,0])\n",
    "y_pred_Emod = modelAda_Emod.predict(X_test_norm)\n",
    "\n",
    "modelAda_Rm = AdaBoostRegressor(DecisionTreeRegressor(max_depth=5), n_estimators=1000)\n",
    "modelAda_Rm.fit(X_train_norm,y_train_norm.iloc[:,1])\n",
    "y_pred_Rm = modelAda_Rm.predict(X_test_norm)\n",
    "\n",
    "y_pred = np.vstack((y_pred_Emod,y_pred_Rm)).T\n",
    "y_pred = scaler_norm_y.inverse_transform (y_pred)\n",
    "\n",
    "MAE_Ada_Emod = mean_absolute_error(y_test.iloc[:,0],y_pred[:,0])\n",
    "MAE_Ada_Rm = mean_absolute_error(y_test.iloc[:,1],y_pred[:,1])\n",
    "R2_Ada_Emod = r2_score(y_test.iloc[:,0],y_pred[:,0])\n",
    "R2_Ada_Rm = r2_score(y_test.iloc[:,1],y_pred[:,1])\n",
    "print (MAE_Ada_Emod)\n",
    "print (MAE_Ada_Rm)\n",
    "print (R2_Ada_Emod)\n",
    "print (R2_Ada_Rm)"
   ]
  },
  {
   "cell_type": "code",
   "execution_count": 30,
   "id": "fa44b3c6",
   "metadata": {},
   "outputs": [],
   "source": [
    "# записываем данные об ошибках в итоговую таблицу\n",
    "MAE_Emod.append(['AdaBoost',MAE_Ada_Emod])\n",
    "MAE_Rm.append(['AdaBoost',MAE_Ada_Rm])\n",
    "R2_Emod.append(['AdaBoost',R2_Ada_Emod])\n",
    "R2_Rm.append(['AdaBoost',R2_Ada_Rm])"
   ]
  },
  {
   "cell_type": "markdown",
   "id": "7e642ccd",
   "metadata": {},
   "source": [
    "Полносвязная нейронная сеть"
   ]
  },
  {
   "cell_type": "code",
   "execution_count": 31,
   "id": "a7b070f3",
   "metadata": {},
   "outputs": [
    {
     "name": "stdout",
     "output_type": "stream",
     "text": [
      "Model: \"sequential\"\n",
      "_________________________________________________________________\n",
      " Layer (type)                Output Shape              Param #   \n",
      "=================================================================\n",
      " dense (Dense)               (None, 16)                192       \n",
      "                                                                 \n",
      " dropout (Dropout)           (None, 16)                0         \n",
      "                                                                 \n",
      " dense_1 (Dense)             (None, 32)                544       \n",
      "                                                                 \n",
      " dense_2 (Dense)             (None, 1)                 33        \n",
      "                                                                 \n",
      "=================================================================\n",
      "Total params: 769\n",
      "Trainable params: 769\n",
      "Non-trainable params: 0\n",
      "_________________________________________________________________\n",
      "Epoch 1/40\n",
      "19/19 - 1s - loss: 0.2704 - mae: 0.4825 - val_loss: 0.2561 - val_mae: 0.4730 - 873ms/epoch - 46ms/step\n",
      "Epoch 2/40\n",
      "19/19 - 0s - loss: 0.2704 - mae: 0.4825 - val_loss: 0.2561 - val_mae: 0.4730 - 62ms/epoch - 3ms/step\n",
      "Epoch 3/40\n",
      "19/19 - 0s - loss: 0.2704 - mae: 0.4825 - val_loss: 0.2561 - val_mae: 0.4730 - 65ms/epoch - 3ms/step\n",
      "Epoch 4/40\n",
      "19/19 - 0s - loss: 0.2704 - mae: 0.4825 - val_loss: 0.2561 - val_mae: 0.4730 - 64ms/epoch - 3ms/step\n",
      "Epoch 5/40\n",
      "19/19 - 0s - loss: 0.2704 - mae: 0.4825 - val_loss: 0.2561 - val_mae: 0.4730 - 69ms/epoch - 4ms/step\n",
      "Epoch 6/40\n",
      "19/19 - 0s - loss: 0.2704 - mae: 0.4825 - val_loss: 0.2561 - val_mae: 0.4730 - 62ms/epoch - 3ms/step\n",
      "Epoch 7/40\n",
      "19/19 - 0s - loss: 0.2704 - mae: 0.4825 - val_loss: 0.2561 - val_mae: 0.4730 - 65ms/epoch - 3ms/step\n",
      "Epoch 8/40\n",
      "19/19 - 0s - loss: 0.2704 - mae: 0.4825 - val_loss: 0.2561 - val_mae: 0.4730 - 63ms/epoch - 3ms/step\n",
      "Epoch 9/40\n",
      "19/19 - 0s - loss: 0.2704 - mae: 0.4825 - val_loss: 0.2561 - val_mae: 0.4730 - 75ms/epoch - 4ms/step\n",
      "Epoch 10/40\n",
      "19/19 - 0s - loss: 0.2704 - mae: 0.4825 - val_loss: 0.2561 - val_mae: 0.4730 - 64ms/epoch - 3ms/step\n",
      "Epoch 11/40\n",
      "19/19 - 0s - loss: 0.2704 - mae: 0.4825 - val_loss: 0.2561 - val_mae: 0.4730 - 58ms/epoch - 3ms/step\n",
      "Epoch 12/40\n",
      "19/19 - 0s - loss: 0.2704 - mae: 0.4825 - val_loss: 0.2561 - val_mae: 0.4730 - 65ms/epoch - 3ms/step\n",
      "Epoch 13/40\n",
      "19/19 - 0s - loss: 0.2704 - mae: 0.4825 - val_loss: 0.2561 - val_mae: 0.4730 - 66ms/epoch - 3ms/step\n",
      "Epoch 14/40\n",
      "19/19 - 0s - loss: 0.2704 - mae: 0.4825 - val_loss: 0.2561 - val_mae: 0.4730 - 63ms/epoch - 3ms/step\n",
      "Epoch 15/40\n",
      "19/19 - 0s - loss: 0.2704 - mae: 0.4825 - val_loss: 0.2561 - val_mae: 0.4730 - 66ms/epoch - 3ms/step\n",
      "Epoch 16/40\n",
      "19/19 - 0s - loss: 0.2704 - mae: 0.4825 - val_loss: 0.2561 - val_mae: 0.4730 - 63ms/epoch - 3ms/step\n",
      "Epoch 17/40\n",
      "19/19 - 0s - loss: 0.2704 - mae: 0.4825 - val_loss: 0.2561 - val_mae: 0.4730 - 58ms/epoch - 3ms/step\n",
      "Epoch 18/40\n",
      "19/19 - 0s - loss: 0.2704 - mae: 0.4825 - val_loss: 0.2561 - val_mae: 0.4730 - 59ms/epoch - 3ms/step\n",
      "Epoch 19/40\n",
      "19/19 - 0s - loss: 0.2704 - mae: 0.4825 - val_loss: 0.2561 - val_mae: 0.4730 - 63ms/epoch - 3ms/step\n",
      "Epoch 20/40\n",
      "19/19 - 0s - loss: 0.2704 - mae: 0.4825 - val_loss: 0.2561 - val_mae: 0.4730 - 64ms/epoch - 3ms/step\n",
      "Epoch 21/40\n",
      "19/19 - 0s - loss: 0.2704 - mae: 0.4825 - val_loss: 0.2561 - val_mae: 0.4730 - 65ms/epoch - 3ms/step\n",
      "Epoch 22/40\n",
      "19/19 - 0s - loss: 0.2704 - mae: 0.4825 - val_loss: 0.2561 - val_mae: 0.4730 - 64ms/epoch - 3ms/step\n",
      "Epoch 23/40\n",
      "19/19 - 0s - loss: 0.2704 - mae: 0.4825 - val_loss: 0.2561 - val_mae: 0.4730 - 63ms/epoch - 3ms/step\n",
      "Epoch 24/40\n",
      "19/19 - 0s - loss: 0.2704 - mae: 0.4825 - val_loss: 0.2561 - val_mae: 0.4730 - 62ms/epoch - 3ms/step\n",
      "Epoch 25/40\n",
      "19/19 - 0s - loss: 0.2704 - mae: 0.4825 - val_loss: 0.2561 - val_mae: 0.4730 - 64ms/epoch - 3ms/step\n",
      "Epoch 26/40\n",
      "19/19 - 0s - loss: 0.2704 - mae: 0.4825 - val_loss: 0.2561 - val_mae: 0.4730 - 63ms/epoch - 3ms/step\n",
      "Epoch 27/40\n",
      "19/19 - 0s - loss: 0.2704 - mae: 0.4825 - val_loss: 0.2561 - val_mae: 0.4730 - 59ms/epoch - 3ms/step\n",
      "Epoch 28/40\n",
      "19/19 - 0s - loss: 0.2704 - mae: 0.4825 - val_loss: 0.2561 - val_mae: 0.4730 - 62ms/epoch - 3ms/step\n",
      "Epoch 29/40\n",
      "19/19 - 0s - loss: 0.2704 - mae: 0.4825 - val_loss: 0.2561 - val_mae: 0.4730 - 65ms/epoch - 3ms/step\n",
      "Epoch 30/40\n",
      "19/19 - 0s - loss: 0.2704 - mae: 0.4825 - val_loss: 0.2561 - val_mae: 0.4730 - 65ms/epoch - 3ms/step\n",
      "Epoch 31/40\n",
      "19/19 - 0s - loss: 0.2704 - mae: 0.4825 - val_loss: 0.2561 - val_mae: 0.4730 - 64ms/epoch - 3ms/step\n",
      "Epoch 32/40\n",
      "19/19 - 0s - loss: 0.2704 - mae: 0.4825 - val_loss: 0.2561 - val_mae: 0.4730 - 63ms/epoch - 3ms/step\n",
      "Epoch 33/40\n",
      "19/19 - 0s - loss: 0.2704 - mae: 0.4825 - val_loss: 0.2561 - val_mae: 0.4730 - 63ms/epoch - 3ms/step\n",
      "Epoch 34/40\n",
      "19/19 - 0s - loss: 0.2704 - mae: 0.4825 - val_loss: 0.2561 - val_mae: 0.4730 - 65ms/epoch - 3ms/step\n",
      "Epoch 35/40\n",
      "19/19 - 0s - loss: 0.2704 - mae: 0.4825 - val_loss: 0.2561 - val_mae: 0.4730 - 64ms/epoch - 3ms/step\n",
      "Epoch 36/40\n",
      "19/19 - 0s - loss: 0.2704 - mae: 0.4825 - val_loss: 0.2561 - val_mae: 0.4730 - 63ms/epoch - 3ms/step\n",
      "Epoch 37/40\n",
      "19/19 - 0s - loss: 0.2704 - mae: 0.4825 - val_loss: 0.2561 - val_mae: 0.4730 - 66ms/epoch - 3ms/step\n",
      "Epoch 38/40\n",
      "19/19 - 0s - loss: 0.2704 - mae: 0.4825 - val_loss: 0.2561 - val_mae: 0.4730 - 64ms/epoch - 3ms/step\n",
      "Epoch 39/40\n",
      "19/19 - 0s - loss: 0.2704 - mae: 0.4825 - val_loss: 0.2561 - val_mae: 0.4730 - 63ms/epoch - 3ms/step\n",
      "Epoch 40/40\n",
      "19/19 - 0s - loss: 0.2704 - mae: 0.4825 - val_loss: 0.2561 - val_mae: 0.4730 - 64ms/epoch - 3ms/step\n"
     ]
    },
    {
     "data": {
      "text/plain": [
       "<matplotlib.legend.Legend at 0x2720c7a3880>"
      ]
     },
     "execution_count": 31,
     "metadata": {},
     "output_type": "execute_result"
    },
    {
     "data": {
      "image/png": "[encoded data removed]",
      "text/plain": [
       "<Figure size 640x480 with 1 Axes>"
      ]
     },
     "metadata": {},
     "output_type": "display_data"
    }
   ],
   "source": [
    "# модель полносвязной нейронной сети\n",
    "modelNN_Emod = Sequential()\n",
    "modelNN_Emod.add(Dense(16,  input_dim=11, activation = 'sigmoid'))\n",
    "modelNN_Emod.add(Dropout(0.5))\n",
    "modelNN_Emod.add(Dense(32, activation = 'sigmoid'))\n",
    "modelNN_Emod.add(Dense(1, activation = 'relu'))\n",
    "modelNN_Emod.compile(optimizer='adam', loss='mse', metrics=['mae'])\n",
    "modelNN_Emod.summary()\n",
    "history = modelNN_Emod.fit(X_train_norm,y_train_norm.iloc[:,0], \n",
    "                    epochs=40, \n",
    "                    validation_split=0.1, \n",
    "                    verbose=2)\n",
    "plt.plot(history.history['mae'], label = 'Точность train')\n",
    "plt.plot(history.history['val_mae'], label = 'Точность test')\n",
    "plt.xlabel = ('Epochs')\n",
    "plt.ylabel = ('MAE')\n",
    "plt.legend()"
   ]
  },
  {
   "cell_type": "code",
   "execution_count": 32,
   "id": "3b6ed9ce",
   "metadata": {},
   "outputs": [
    {
     "name": "stdout",
     "output_type": "stream",
     "text": [
      "Model: \"sequential_1\"\n",
      "_________________________________________________________________\n",
      " Layer (type)                Output Shape              Param #   \n",
      "=================================================================\n",
      " dense_3 (Dense)             (None, 16)                192       \n",
      "                                                                 \n",
      " dropout_1 (Dropout)         (None, 16)                0         \n",
      "                                                                 \n",
      " dense_4 (Dense)             (None, 32)                544       \n",
      "                                                                 \n",
      " dense_5 (Dense)             (None, 1)                 33        \n",
      "                                                                 \n",
      "=================================================================\n",
      "Total params: 769\n",
      "Trainable params: 769\n",
      "Non-trainable params: 0\n",
      "_________________________________________________________________\n",
      "Epoch 1/40\n",
      "19/19 - 1s - loss: 0.3221 - mae: 0.4969 - val_loss: 0.0587 - val_mae: 0.1973 - 753ms/epoch - 40ms/step\n",
      "Epoch 2/40\n",
      "19/19 - 0s - loss: 0.0710 - mae: 0.2117 - val_loss: 0.0483 - val_mae: 0.1822 - 56ms/epoch - 3ms/step\n",
      "Epoch 3/40\n",
      "19/19 - 0s - loss: 0.0688 - mae: 0.2116 - val_loss: 0.0379 - val_mae: 0.1548 - 60ms/epoch - 3ms/step\n",
      "Epoch 4/40\n",
      "19/19 - 0s - loss: 0.0648 - mae: 0.2014 - val_loss: 0.0379 - val_mae: 0.1548 - 56ms/epoch - 3ms/step\n",
      "Epoch 5/40\n",
      "19/19 - 0s - loss: 0.0546 - mae: 0.1881 - val_loss: 0.0382 - val_mae: 0.1554 - 66ms/epoch - 3ms/step\n",
      "Epoch 6/40\n",
      "19/19 - 0s - loss: 0.0596 - mae: 0.1975 - val_loss: 0.0379 - val_mae: 0.1543 - 63ms/epoch - 3ms/step\n",
      "Epoch 7/40\n",
      "19/19 - 0s - loss: 0.0557 - mae: 0.1888 - val_loss: 0.0379 - val_mae: 0.1541 - 66ms/epoch - 3ms/step\n",
      "Epoch 8/40\n",
      "19/19 - 0s - loss: 0.0512 - mae: 0.1799 - val_loss: 0.0382 - val_mae: 0.1550 - 65ms/epoch - 3ms/step\n",
      "Epoch 9/40\n",
      "19/19 - 0s - loss: 0.0504 - mae: 0.1796 - val_loss: 0.0380 - val_mae: 0.1539 - 62ms/epoch - 3ms/step\n",
      "Epoch 10/40\n",
      "19/19 - 0s - loss: 0.0476 - mae: 0.1719 - val_loss: 0.0381 - val_mae: 0.1541 - 63ms/epoch - 3ms/step\n",
      "Epoch 11/40\n",
      "19/19 - 0s - loss: 0.0441 - mae: 0.1678 - val_loss: 0.0380 - val_mae: 0.1536 - 62ms/epoch - 3ms/step\n",
      "Epoch 12/40\n",
      "19/19 - 0s - loss: 0.0454 - mae: 0.1721 - val_loss: 0.0381 - val_mae: 0.1537 - 58ms/epoch - 3ms/step\n",
      "Epoch 13/40\n",
      "19/19 - 0s - loss: 0.0416 - mae: 0.1636 - val_loss: 0.0382 - val_mae: 0.1539 - 66ms/epoch - 3ms/step\n",
      "Epoch 14/40\n",
      "19/19 - 0s - loss: 0.0416 - mae: 0.1648 - val_loss: 0.0381 - val_mae: 0.1534 - 61ms/epoch - 3ms/step\n",
      "Epoch 15/40\n",
      "19/19 - 0s - loss: 0.0406 - mae: 0.1585 - val_loss: 0.0382 - val_mae: 0.1536 - 68ms/epoch - 4ms/step\n",
      "Epoch 16/40\n",
      "19/19 - 0s - loss: 0.0393 - mae: 0.1578 - val_loss: 0.0384 - val_mae: 0.1540 - 73ms/epoch - 4ms/step\n",
      "Epoch 17/40\n",
      "19/19 - 0s - loss: 0.0396 - mae: 0.1603 - val_loss: 0.0382 - val_mae: 0.1533 - 70ms/epoch - 4ms/step\n",
      "Epoch 18/40\n",
      "19/19 - 0s - loss: 0.0394 - mae: 0.1600 - val_loss: 0.0384 - val_mae: 0.1535 - 82ms/epoch - 4ms/step\n",
      "Epoch 19/40\n",
      "19/19 - 0s - loss: 0.0387 - mae: 0.1568 - val_loss: 0.0382 - val_mae: 0.1533 - 66ms/epoch - 3ms/step\n",
      "Epoch 20/40\n",
      "19/19 - 0s - loss: 0.0358 - mae: 0.1517 - val_loss: 0.0382 - val_mae: 0.1531 - 71ms/epoch - 4ms/step\n",
      "Epoch 21/40\n",
      "19/19 - 0s - loss: 0.0388 - mae: 0.1572 - val_loss: 0.0385 - val_mae: 0.1538 - 70ms/epoch - 4ms/step\n",
      "Epoch 22/40\n",
      "19/19 - 0s - loss: 0.0359 - mae: 0.1489 - val_loss: 0.0383 - val_mae: 0.1531 - 67ms/epoch - 4ms/step\n",
      "Epoch 23/40\n",
      "19/19 - 0s - loss: 0.0362 - mae: 0.1512 - val_loss: 0.0383 - val_mae: 0.1531 - 92ms/epoch - 5ms/step\n",
      "Epoch 24/40\n",
      "19/19 - 0s - loss: 0.0357 - mae: 0.1516 - val_loss: 0.0383 - val_mae: 0.1531 - 77ms/epoch - 4ms/step\n",
      "Epoch 25/40\n",
      "19/19 - 0s - loss: 0.0361 - mae: 0.1525 - val_loss: 0.0384 - val_mae: 0.1537 - 73ms/epoch - 4ms/step\n",
      "Epoch 26/40\n",
      "19/19 - 0s - loss: 0.0361 - mae: 0.1517 - val_loss: 0.0384 - val_mae: 0.1533 - 68ms/epoch - 4ms/step\n",
      "Epoch 27/40\n",
      "19/19 - 0s - loss: 0.0363 - mae: 0.1528 - val_loss: 0.0385 - val_mae: 0.1540 - 60ms/epoch - 3ms/step\n",
      "Epoch 28/40\n",
      "19/19 - 0s - loss: 0.0365 - mae: 0.1533 - val_loss: 0.0384 - val_mae: 0.1529 - 56ms/epoch - 3ms/step\n",
      "Epoch 29/40\n",
      "19/19 - 0s - loss: 0.0354 - mae: 0.1514 - val_loss: 0.0384 - val_mae: 0.1529 - 63ms/epoch - 3ms/step\n",
      "Epoch 30/40\n",
      "19/19 - 0s - loss: 0.0356 - mae: 0.1501 - val_loss: 0.0384 - val_mae: 0.1529 - 61ms/epoch - 3ms/step\n",
      "Epoch 31/40\n",
      "19/19 - 0s - loss: 0.0355 - mae: 0.1503 - val_loss: 0.0385 - val_mae: 0.1531 - 63ms/epoch - 3ms/step\n",
      "Epoch 32/40\n",
      "19/19 - 0s - loss: 0.0353 - mae: 0.1505 - val_loss: 0.0386 - val_mae: 0.1535 - 57ms/epoch - 3ms/step\n",
      "Epoch 33/40\n",
      "19/19 - 0s - loss: 0.0356 - mae: 0.1516 - val_loss: 0.0390 - val_mae: 0.1548 - 62ms/epoch - 3ms/step\n",
      "Epoch 34/40\n",
      "19/19 - 0s - loss: 0.0353 - mae: 0.1505 - val_loss: 0.0390 - val_mae: 0.1550 - 64ms/epoch - 3ms/step\n",
      "Epoch 35/40\n",
      "19/19 - 0s - loss: 0.0351 - mae: 0.1500 - val_loss: 0.0386 - val_mae: 0.1530 - 64ms/epoch - 3ms/step\n",
      "Epoch 36/40\n",
      "19/19 - 0s - loss: 0.0350 - mae: 0.1494 - val_loss: 0.0385 - val_mae: 0.1532 - 63ms/epoch - 3ms/step\n",
      "Epoch 37/40\n",
      "19/19 - 0s - loss: 0.0353 - mae: 0.1509 - val_loss: 0.0388 - val_mae: 0.1545 - 65ms/epoch - 3ms/step\n",
      "Epoch 38/40\n",
      "19/19 - 0s - loss: 0.0344 - mae: 0.1483 - val_loss: 0.0387 - val_mae: 0.1538 - 67ms/epoch - 4ms/step\n",
      "Epoch 39/40\n",
      "19/19 - 0s - loss: 0.0349 - mae: 0.1492 - val_loss: 0.0386 - val_mae: 0.1533 - 66ms/epoch - 3ms/step\n",
      "Epoch 40/40\n",
      "19/19 - 0s - loss: 0.0350 - mae: 0.1496 - val_loss: 0.0387 - val_mae: 0.1538 - 64ms/epoch - 3ms/step\n"
     ]
    },
    {
     "data": {
      "text/plain": [
       "<matplotlib.legend.Legend at 0x2720ee0d400>"
      ]
     },
     "execution_count": 32,
     "metadata": {},
     "output_type": "execute_result"
    },
    {
     "data": {
      "image/png": "[encoded data removed]",
      "text/plain": [
       "<Figure size 640x480 with 1 Axes>"
      ]
     },
     "metadata": {},
     "output_type": "display_data"
    }
   ],
   "source": [
    "# модель полносвязной нейронной сети\n",
    "modelNN_Rm = Sequential()\n",
    "modelNN_Rm.add(Dense(16,  input_dim=11, activation = 'sigmoid'))\n",
    "modelNN_Rm.add(Dropout(0.5))\n",
    "modelNN_Rm.add(Dense(32, activation = 'sigmoid'))\n",
    "modelNN_Rm.add(Dense(1, activation = 'relu'))\n",
    "modelNN_Rm.compile(optimizer='adam', loss='mse', metrics=['mae'])\n",
    "modelNN_Rm.summary()\n",
    "history = modelNN_Rm.fit(X_train_norm,y_train_norm.iloc[:,1], \n",
    "                    epochs=40, \n",
    "                    validation_split=0.1, \n",
    "                    verbose=2)\n",
    "plt.plot(history.history['mae'], label = 'Точность train')\n",
    "plt.plot(history.history['val_mae'], label = 'Точность test')\n",
    "plt.xlabel = ('Epochs')\n",
    "plt.ylabel = ('MAE')\n",
    "plt.legend()"
   ]
  },
  {
   "cell_type": "code",
   "execution_count": 33,
   "id": "52a7d84d",
   "metadata": {},
   "outputs": [
    {
     "name": "stdout",
     "output_type": "stream",
     "text": [
      "9/9 [==============================] - 0s 1ms/step\n",
      "9/9 [==============================] - 0s 1ms/step\n",
      "7.717132233930303\n",
      "371.21818320792676\n",
      "-6.009279729135831\n",
      "-0.014879737851181352\n"
     ]
    }
   ],
   "source": [
    "y_pred_Emod = modelNN_Emod.predict(X_test_norm)\n",
    "y_pred_Rm = modelNN_Rm.predict(X_test_norm)\n",
    "\n",
    "y_pred = np.hstack((y_pred_Emod,y_pred_Rm))\n",
    "y_pred = scaler_norm_y.inverse_transform (y_pred)\n",
    "\n",
    "\n",
    "MAE_NN_Emod = mean_absolute_error(y_test.iloc[:,0],y_pred[:,0])\n",
    "MAE_NN_Rm = mean_absolute_error(y_test.iloc[:,1],y_pred[:,1])\n",
    "print (MAE_NN_Emod)\n",
    "print (MAE_NN_Rm)\n",
    "\n",
    "R2_NN_Emod = r2_score(y_test.iloc[:,0],y_pred[:,0])\n",
    "R2_NN_Rm = r2_score(y_test.iloc[:,1],y_pred[:,1])\n",
    "print (R2_NN_Emod)\n",
    "print (R2_NN_Rm)"
   ]
  },
  {
   "cell_type": "code",
   "execution_count": 34,
   "id": "f89fde26",
   "metadata": {},
   "outputs": [],
   "source": [
    "# записываем данные об ошибках в итоговую таблицу\n",
    "MAE_Emod.append(['NeuralNetwork',MAE_NN_Emod])\n",
    "MAE_Rm.append(['NeuralNetwork',MAE_NN_Rm])\n",
    "R2_Emod.append(['NeuralNetwork',R2_NN_Emod])\n",
    "R2_Rm.append(['NeuralNetwork',R2_NN_Rm])"
   ]
  },
  {
   "cell_type": "markdown",
   "id": "e9d8c5a8",
   "metadata": {},
   "source": [
    "### Результаты тестирования моделей"
   ]
  },
  {
   "cell_type": "code",
   "execution_count": 35,
   "id": "c0c3088f",
   "metadata": {
    "scrolled": true
   },
   "outputs": [
    {
     "data": {
      "text/html": [
       "<div>\n",
       "<style scoped>\n",
       "    .dataframe tbody tr th:only-of-type {\n",
       "        vertical-align: middle;\n",
       "    }\n",
       "\n",
       "    .dataframe tbody tr th {\n",
       "        vertical-align: top;\n",
       "    }\n",
       "\n",
       "    .dataframe thead th {\n",
       "        text-align: right;\n",
       "    }\n",
       "</style>\n",
       "<table border=\"1\" class=\"dataframe\">\n",
       "  <thead>\n",
       "    <tr style=\"text-align: right;\">\n",
       "      <th></th>\n",
       "      <th>Модель регрессии для модуля упругости при растяжении</th>\n",
       "      <th>MAE</th>\n",
       "      <th>R2</th>\n",
       "    </tr>\n",
       "  </thead>\n",
       "  <tbody>\n",
       "    <tr>\n",
       "      <th>0</th>\n",
       "      <td>Linear</td>\n",
       "      <td>2.6109355505901184</td>\n",
       "      <td>-0.024476898005094228</td>\n",
       "    </tr>\n",
       "    <tr>\n",
       "      <th>1</th>\n",
       "      <td>Ridge</td>\n",
       "      <td>2.5998224772212875</td>\n",
       "      <td>-0.017619777856030527</td>\n",
       "    </tr>\n",
       "    <tr>\n",
       "      <th>2</th>\n",
       "      <td>Lasso</td>\n",
       "      <td>2.5948108078737024</td>\n",
       "      <td>-0.018703787461314736</td>\n",
       "    </tr>\n",
       "    <tr>\n",
       "      <th>3</th>\n",
       "      <td>ElasticNet</td>\n",
       "      <td>2.5801929025662833</td>\n",
       "      <td>-0.00887867080603466</td>\n",
       "    </tr>\n",
       "    <tr>\n",
       "      <th>4</th>\n",
       "      <td>GradientBoosting</td>\n",
       "      <td>2.7049039964607657</td>\n",
       "      <td>-0.12545856440352332</td>\n",
       "    </tr>\n",
       "    <tr>\n",
       "      <th>5</th>\n",
       "      <td>KNeighbors</td>\n",
       "      <td>2.6225621597024773</td>\n",
       "      <td>-0.04185458098976058</td>\n",
       "    </tr>\n",
       "    <tr>\n",
       "      <th>6</th>\n",
       "      <td>DecisionTree</td>\n",
       "      <td>2.6543059810759577</td>\n",
       "      <td>-0.08523100325701027</td>\n",
       "    </tr>\n",
       "    <tr>\n",
       "      <th>7</th>\n",
       "      <td>RandomForest</td>\n",
       "      <td>2.58313981375893</td>\n",
       "      <td>-0.017893036221034553</td>\n",
       "    </tr>\n",
       "    <tr>\n",
       "      <th>8</th>\n",
       "      <td>AdaBoost</td>\n",
       "      <td>2.6238658388961555</td>\n",
       "      <td>-0.04670735391856207</td>\n",
       "    </tr>\n",
       "    <tr>\n",
       "      <th>9</th>\n",
       "      <td>NeuralNetwork</td>\n",
       "      <td>7.717132233930303</td>\n",
       "      <td>-6.009279729135831</td>\n",
       "    </tr>\n",
       "  </tbody>\n",
       "</table>\n",
       "</div>"
      ],
      "text/plain": [
       "  Модель регрессии для модуля упругости при растяжении                 MAE  \\\n",
       "0                                             Linear    2.6109355505901184   \n",
       "1                                              Ridge    2.5998224772212875   \n",
       "2                                              Lasso    2.5948108078737024   \n",
       "3                                         ElasticNet    2.5801929025662833   \n",
       "4                                   GradientBoosting    2.7049039964607657   \n",
       "5                                         KNeighbors    2.6225621597024773   \n",
       "6                                       DecisionTree    2.6543059810759577   \n",
       "7                                       RandomForest      2.58313981375893   \n",
       "8                                           AdaBoost    2.6238658388961555   \n",
       "9                                      NeuralNetwork     7.717132233930303   \n",
       "\n",
       "                      R2  \n",
       "0  -0.024476898005094228  \n",
       "1  -0.017619777856030527  \n",
       "2  -0.018703787461314736  \n",
       "3   -0.00887867080603466  \n",
       "4   -0.12545856440352332  \n",
       "5   -0.04185458098976058  \n",
       "6   -0.08523100325701027  \n",
       "7  -0.017893036221034553  \n",
       "8   -0.04670735391856207  \n",
       "9     -6.009279729135831  "
      ]
     },
     "execution_count": 35,
     "metadata": {},
     "output_type": "execute_result"
    }
   ],
   "source": [
    "# Результаты - Модуль упругости при растяжении\n",
    "a = np.array(MAE_Emod)\n",
    "b = np.array(R2_Emod)\n",
    "\n",
    "Emod_errors = pd.DataFrame({'Модель регрессии для модуля упругости при растяжении': a[:,0], 'MAE': a[:,1], 'R2': b[:,1]})\n",
    "Emod_errors"
   ]
  },
  {
   "cell_type": "code",
   "execution_count": 36,
   "id": "c93e7403",
   "metadata": {},
   "outputs": [
    {
     "data": {
      "text/html": [
       "<div>\n",
       "<style scoped>\n",
       "    .dataframe tbody tr th:only-of-type {\n",
       "        vertical-align: middle;\n",
       "    }\n",
       "\n",
       "    .dataframe tbody tr th {\n",
       "        vertical-align: top;\n",
       "    }\n",
       "\n",
       "    .dataframe thead th {\n",
       "        text-align: right;\n",
       "    }\n",
       "</style>\n",
       "<table border=\"1\" class=\"dataframe\">\n",
       "  <thead>\n",
       "    <tr style=\"text-align: right;\">\n",
       "      <th></th>\n",
       "      <th>Модель регрессии для прочности при растяжении</th>\n",
       "      <th>MAE</th>\n",
       "      <th>R2</th>\n",
       "    </tr>\n",
       "  </thead>\n",
       "  <tbody>\n",
       "    <tr>\n",
       "      <th>0</th>\n",
       "      <td>Linear</td>\n",
       "      <td>372.05238450611114</td>\n",
       "      <td>-0.003529768950333745</td>\n",
       "    </tr>\n",
       "    <tr>\n",
       "      <th>1</th>\n",
       "      <td>Ridge</td>\n",
       "      <td>369.88575849459477</td>\n",
       "      <td>0.00041319486233071245</td>\n",
       "    </tr>\n",
       "    <tr>\n",
       "      <th>2</th>\n",
       "      <td>Lasso</td>\n",
       "      <td>368.9355592328838</td>\n",
       "      <td>0.0033815533408245724</td>\n",
       "    </tr>\n",
       "    <tr>\n",
       "      <th>3</th>\n",
       "      <td>ElasticNet</td>\n",
       "      <td>368.8669394882762</td>\n",
       "      <td>-5.703200261408803e-05</td>\n",
       "    </tr>\n",
       "    <tr>\n",
       "      <th>4</th>\n",
       "      <td>GradientBoosting</td>\n",
       "      <td>368.8669394882762</td>\n",
       "      <td>-0.054775033603555956</td>\n",
       "    </tr>\n",
       "    <tr>\n",
       "      <th>5</th>\n",
       "      <td>KNeighbors</td>\n",
       "      <td>400.581653879789</td>\n",
       "      <td>-0.1709249661618053</td>\n",
       "    </tr>\n",
       "    <tr>\n",
       "      <th>6</th>\n",
       "      <td>DecisionTree</td>\n",
       "      <td>400.581653879789</td>\n",
       "      <td>-0.1709249661618053</td>\n",
       "    </tr>\n",
       "    <tr>\n",
       "      <th>7</th>\n",
       "      <td>RandomForest</td>\n",
       "      <td>369.79592543764466</td>\n",
       "      <td>-0.006087005707580584</td>\n",
       "    </tr>\n",
       "    <tr>\n",
       "      <th>8</th>\n",
       "      <td>AdaBoost</td>\n",
       "      <td>380.8444459740513</td>\n",
       "      <td>-0.04951664076137097</td>\n",
       "    </tr>\n",
       "    <tr>\n",
       "      <th>9</th>\n",
       "      <td>NeuralNetwork</td>\n",
       "      <td>371.21818320792676</td>\n",
       "      <td>-0.014879737851181352</td>\n",
       "    </tr>\n",
       "  </tbody>\n",
       "</table>\n",
       "</div>"
      ],
      "text/plain": [
       "  Модель регрессии для прочности при растяжении                 MAE  \\\n",
       "0                                        Linear  372.05238450611114   \n",
       "1                                         Ridge  369.88575849459477   \n",
       "2                                         Lasso   368.9355592328838   \n",
       "3                                    ElasticNet   368.8669394882762   \n",
       "4                              GradientBoosting   368.8669394882762   \n",
       "5                                    KNeighbors    400.581653879789   \n",
       "6                                  DecisionTree    400.581653879789   \n",
       "7                                  RandomForest  369.79592543764466   \n",
       "8                                      AdaBoost   380.8444459740513   \n",
       "9                                 NeuralNetwork  371.21818320792676   \n",
       "\n",
       "                       R2  \n",
       "0   -0.003529768950333745  \n",
       "1  0.00041319486233071245  \n",
       "2   0.0033815533408245724  \n",
       "3  -5.703200261408803e-05  \n",
       "4   -0.054775033603555956  \n",
       "5     -0.1709249661618053  \n",
       "6     -0.1709249661618053  \n",
       "7   -0.006087005707580584  \n",
       "8    -0.04951664076137097  \n",
       "9   -0.014879737851181352  "
      ]
     },
     "execution_count": 36,
     "metadata": {},
     "output_type": "execute_result"
    }
   ],
   "source": [
    "# Результаты - Прочность при растяжении\n",
    "c = np.array(MAE_Rm)\n",
    "d = np.array(R2_Rm)\n",
    "\n",
    "Rm_errors = pd.DataFrame({'Модель регрессии для прочности при растяжении': c[:,0], 'MAE': c[:,1], 'R2': d[:,1]})\n",
    "Rm_errors"
   ]
  },
  {
   "cell_type": "markdown",
   "id": "fdf89dd8",
   "metadata": {},
   "source": [
    "# ИНС для Соотношения матрица-наполнитель"
   ]
  },
  {
   "cell_type": "code",
   "execution_count": null,
   "id": "bd2c6882",
   "metadata": {},
   "outputs": [],
   "source": [
    "# хранение оценок моделей нейронной сети для Соотношения матрица-наполнитель\n",
    "MAE=[]"
   ]
  },
  {
   "cell_type": "code",
   "execution_count": null,
   "id": "96135ad6",
   "metadata": {},
   "outputs": [],
   "source": [
    "X = df.drop(['Соотношение матрица-наполнитель'], axis=1)\n",
    "X.head()"
   ]
  },
  {
   "cell_type": "code",
   "execution_count": null,
   "id": "01bcb150",
   "metadata": {},
   "outputs": [],
   "source": [
    "y = df[['Соотношение матрица-наполнитель']]\n",
    "y.head()"
   ]
  },
  {
   "cell_type": "code",
   "execution_count": null,
   "id": "1464138c",
   "metadata": {},
   "outputs": [],
   "source": [
    "#разбиение данных на тестовую и тренировочную часть\n",
    "X_train, X_test, y_train, y_test = train_test_split(X, y, test_size=0.3, random_state=42, shuffle=True)"
   ]
  },
  {
   "cell_type": "code",
   "execution_count": null,
   "id": "1061b384",
   "metadata": {},
   "outputs": [],
   "source": [
    "# нормализация  данных\n",
    "scaler_norm = MinMaxScaler()\n",
    "scaler_norm.fit(X)\n",
    "X_norm = pd.DataFrame (data = scaler_norm.transform(X), columns=X.columns)\n",
    "scaler_norm_y = MinMaxScaler()\n",
    "scaler_norm_y.fit(y)\n",
    "y_norm = pd.DataFrame (data = scaler_norm_y.transform(y), columns=y.columns)"
   ]
  },
  {
   "cell_type": "code",
   "execution_count": null,
   "id": "f35e3c23",
   "metadata": {},
   "outputs": [],
   "source": [
    "#разбиение данных на тестовую и тренировочную часть\n",
    "X_train_norm, X_test_norm, y_train_norm, y_test_norm = train_test_split(X_norm, y_norm, \n",
    "                                                                        test_size=0.3, random_state=42, shuffle=True)\n"
   ]
  },
  {
   "cell_type": "code",
   "execution_count": null,
   "id": "8ce51f43",
   "metadata": {},
   "outputs": [],
   "source": [
    " X_test_norm"
   ]
  },
  {
   "cell_type": "code",
   "execution_count": null,
   "id": "b0dafd1b",
   "metadata": {},
   "outputs": [],
   "source": [
    " X_test"
   ]
  },
  {
   "cell_type": "code",
   "execution_count": null,
   "id": "6450720f",
   "metadata": {},
   "outputs": [],
   "source": [
    "print(X_train_norm.shape)\n",
    "print(X_test_norm.shape)\n",
    "print(y_train_norm.shape)\n",
    "print(y_test_norm.shape)"
   ]
  },
  {
   "cell_type": "code",
   "execution_count": null,
   "id": "64791cd4",
   "metadata": {},
   "outputs": [],
   "source": [
    "# функция для построения графика обучения\n",
    "def plot_ANN(history):\n",
    "    plt.plot(history.history['mae'], label = 'Точность train')\n",
    "    plt.plot(history.history['val_mae'], label = 'Точность test')\n",
    "    plt.xlabel = ('Epochs')\n",
    "    plt.ylabel = ('MAE')\n",
    "    plt.legend()\n",
    "    plt.show()"
   ]
  },
  {
   "cell_type": "code",
   "execution_count": null,
   "id": "7c6df14b",
   "metadata": {},
   "outputs": [],
   "source": [
    "# модель ИНС 1\n",
    "ANN_1 = Sequential()\n",
    "ANN_1.add(Dense(16,  input_dim=12, activation = 'sigmoid'))\n",
    "ANN_1.add(Dropout(0.5))\n",
    "ANN_1.add(Dense(32, activation = 'sigmoid'))\n",
    "ANN_1.add(Dense(1, activation = 'relu'))\n",
    "ANN_1.compile(optimizer='adam', loss='mse', metrics=['mae'])\n",
    "ANN_1.summary()\n",
    "history = ANN_1.fit(X_train_norm,y_train_norm, epochs=50, validation_split=0.1, verbose=2)\n",
    "plot_ANN(history)"
   ]
  },
  {
   "cell_type": "code",
   "execution_count": null,
   "id": "578940ae",
   "metadata": {},
   "outputs": [],
   "source": [
    "# модель ИНС 2\n",
    "ANN_2 = Sequential()\n",
    "ANN_2.add(Dense(16,  input_dim=12, activation = 'sigmoid'))\n",
    "ANN_2.add(Dropout(0.5))\n",
    "ANN_2.add(Dense(32, activation = 'sigmoid'))\n",
    "ANN_2.add(Dense(1, activation = 'tanh'))\n",
    "ANN_2.compile(optimizer='adam', loss='mse', metrics=['mae'])\n",
    "ANN_2.summary()\n",
    "history = ANN_2.fit(X_train_norm,y_train_norm, epochs=50, validation_split=0.1, verbose=2)\n",
    "plot_ANN(history)"
   ]
  },
  {
   "cell_type": "code",
   "execution_count": null,
   "id": "5681f65d",
   "metadata": {},
   "outputs": [],
   "source": [
    "# модель ИНС 3\n",
    "ANN_3 = Sequential([\n",
    "                Dense(32,  input_dim=12, activation = 'sigmoid'),\n",
    "                Dropout(0.5),\n",
    "                Dense(64, activation = 'sigmoid'),\n",
    "                Dropout(0.5),\n",
    "                Dense(32, activation = 'sigmoid'),\n",
    "                Dense(16, activation = 'sigmoid'),\n",
    "                Dense(1, activation = 'linear')])\n",
    "ANN_3.compile(optimizer='adam', loss='mse', metrics=['mae'])\n",
    "ANN_3.summary()\n",
    "history = ANN_3.fit(X_train_norm,y_train_norm, epochs=50, validation_split=0.1, verbose=2)\n",
    "plot_ANN(history)"
   ]
  },
  {
   "cell_type": "code",
   "execution_count": null,
   "id": "4db15e3b",
   "metadata": {},
   "outputs": [],
   "source": [
    "# модель ИНС 4\n",
    "ANN_4 = Sequential()\n",
    "ANN_4.add(Dense(16,  input_dim=12, activation = 'sigmoid'))\n",
    "ANN_4.add(Dropout(0.5))\n",
    "ANN_4.add(Dense(32, activation = 'sigmoid'))\n",
    "ANN_4.add(Dropout(0.5))\n",
    "ANN_4.add(Dense(16, activation = 'sigmoid'))\n",
    "ANN_4.add(Dense(1, activation = 'tanh'))\n",
    "ANN_4.compile(optimizer='adam', loss='mse', metrics=['mae'])\n",
    "ANN_4.summary()\n",
    "history = ANN_4.fit(X_train_norm,y_train_norm, epochs=50, validation_split=0.1, verbose=2)\n",
    "plot_ANN(history)"
   ]
  },
  {
   "cell_type": "code",
   "execution_count": null,
   "id": "fc8212ba",
   "metadata": {},
   "outputs": [],
   "source": [
    "# модель ИНС 5\n",
    "ANN_5 = Sequential()\n",
    "ANN_5.add(Dense(64,  input_dim=12, activation = 'sigmoid'))\n",
    "ANN_5.add(Dropout(0.5))\n",
    "ANN_5.add(Dense(32, activation = 'sigmoid'))\n",
    "ANN_5.add(Dropout(0.5))\n",
    "ANN_5.add(Dense(16, activation = 'sigmoid'))\n",
    "ANN_5.add(Dense(1, activation = 'tanh'))\n",
    "ANN_5.compile(optimizer='adam', loss='mse', metrics=['mae'])\n",
    "ANN_5.summary()\n",
    "history = ANN_5.fit(X_train_norm,y_train_norm, epochs=50, validation_split=0.1, verbose=2)\n",
    "plot_ANN(history)"
   ]
  },
  {
   "cell_type": "code",
   "execution_count": null,
   "id": "1e2e7376",
   "metadata": {},
   "outputs": [],
   "source": [
    "# модель ИНС 6\n",
    "ANN_6 = Sequential()\n",
    "ANN_6.add(Dense(128,  input_dim=12, activation = 'sigmoid'))\n",
    "ANN_6.add(Dropout(0.5))\n",
    "ANN_6.add(Dense(64, activation = 'sigmoid'))\n",
    "ANN_6.add(Dropout(0.5))\n",
    "ANN_6.add(Dense(32, activation = 'sigmoid'))\n",
    "ANN_6.add(Dropout(0.5))\n",
    "ANN_6.add(Dense(16, activation = 'sigmoid'))\n",
    "ANN_6.add(Dense(1, activation = 'tanh'))\n",
    "ANN_6.compile(optimizer='adam', loss='mse', metrics=['mae'])\n",
    "ANN_6.summary()\n",
    "history = ANN_6.fit(X_train_norm,y_train_norm, epochs=50, validation_split=0.1, verbose=2)\n",
    "plot_ANN(history)"
   ]
  },
  {
   "cell_type": "code",
   "execution_count": null,
   "id": "fa3d37e4",
   "metadata": {},
   "outputs": [],
   "source": [
    "# модель ИНС 7\n",
    "ANN_7 = Sequential()\n",
    "ANN_7.add(Dense(100, input_dim=12, activation='sigmoid'))\n",
    "ANN_7.add(LeakyReLU(alpha=1.0))\n",
    "ANN_7.add(Dense(50, activation='sigmoid'))\n",
    "ANN_7.add(LeakyReLU(alpha=1.0))\n",
    "ANN_7.add(Dense(1, activation='softmax'))\n",
    "ANN_7.add(Dense(1, activation='linear'))\n",
    "ANN_7.compile(optimizer='adam', loss='mse', metrics=['mae'])\n",
    "ANN_7.summary()\n",
    "history = ANN_7.fit(X_train_norm,y_train_norm, epochs=50, validation_split=0.1, verbose=2)\n",
    "plot_ANN(history)"
   ]
  },
  {
   "cell_type": "code",
   "execution_count": null,
   "id": "4dc81cae",
   "metadata": {},
   "outputs": [],
   "source": [
    "# модель ИНС 8\n",
    "ANN_8 = Sequential()\n",
    "ANN_8.add(Dense(100, input_dim=12, activation='sigmoid'))\n",
    "ANN_8.add(Dropout(0.5))\n",
    "ANN_8.add(LeakyReLU(alpha=1.0))\n",
    "ANN_8.add(Dense(50, activation='sigmoid'))\n",
    "ANN_8.add(LeakyReLU(alpha=1.0))\n",
    "ANN_8.add(Dense(25, activation='softmax'))\n",
    "ANN_8.add(Dense(1, activation='linear'))\n",
    "ANN_8.compile(optimizer='adam', loss='mse', metrics=['mae'])\n",
    "ANN_8.summary()\n",
    "history = ANN_8.fit(X_train_norm,y_train_norm, epochs=20, validation_split=0.1, verbose=2)\n",
    "plot_ANN(history)"
   ]
  },
  {
   "cell_type": "code",
   "execution_count": null,
   "id": "6c1a47eb",
   "metadata": {
    "scrolled": false
   },
   "outputs": [],
   "source": [
    "# модель ИНС 9\n",
    "ANN_9 = Sequential()\n",
    "ANN_9.add(Dense(16, input_dim=12, activation='sigmoid'))\n",
    "ANN_9.add(Dropout(0.5))\n",
    "ANN_9.add(LeakyReLU(alpha=1.0))\n",
    "ANN_9.add(Dense(8, activation='sigmoid'))\n",
    "ANN_9.add(Dense(1, activation='linear'))\n",
    "ANN_9.compile(optimizer='adam', loss='mse', metrics=['mae'])\n",
    "ANN_9.summary()\n",
    "history = ANN_9.fit(X_train_norm,y_train_norm, epochs=50, validation_split=0.1, verbose=2)\n",
    "plot_ANN(history)"
   ]
  },
  {
   "cell_type": "code",
   "execution_count": null,
   "id": "f217caf7",
   "metadata": {},
   "outputs": [],
   "source": [
    "# модель ИНС 10\n",
    "ANN_10 = Sequential()\n",
    "ANN_10.add(Dense(16, input_dim=12, activation='sigmoid'))\n",
    "ANN_10.add(Dropout(0.5))\n",
    "ANN_10.add(LeakyReLU(alpha=1.0))\n",
    "ANN_10.add(Dense(8, activation='sigmoid'))\n",
    "ANN_10.add(Dense(1, activation='linear'))\n",
    "ANN_10.compile(optimizer='adam', loss='mse', metrics=['mae'])\n",
    "ANN_10.summary()\n",
    "history = ANN_10.fit(X_train_norm,y_train_norm, epochs=100, validation_split=0.1, verbose=2)\n",
    "plot_ANN(history)"
   ]
  },
  {
   "cell_type": "code",
   "execution_count": null,
   "id": "84192e73",
   "metadata": {},
   "outputs": [],
   "source": [
    "y_pred_1 = ANN_1.predict(X_test_norm)\n",
    "y_pred_2 = ANN_2.predict(X_test_norm)\n",
    "y_pred_3 = ANN_3.predict(X_test_norm)\n",
    "y_pred_4 = ANN_4.predict(X_test_norm)\n",
    "y_pred_5 = ANN_5.predict(X_test_norm)\n",
    "y_pred_6 = ANN_6.predict(X_test_norm)\n",
    "y_pred_7 = ANN_7.predict(X_test_norm)\n",
    "y_pred_8 = ANN_8.predict(X_test_norm)\n",
    "y_pred_9 = ANN_9.predict(X_test_norm)\n",
    "y_pred_10 = ANN_10.predict(X_test_norm)\n",
    "\n",
    "y_pred1 = scaler_norm_y.inverse_transform (y_pred_1)\n",
    "y_pred2 = scaler_norm_y.inverse_transform (y_pred_2)\n",
    "y_pred3 = scaler_norm_y.inverse_transform (y_pred_3)\n",
    "y_pred4 = scaler_norm_y.inverse_transform (y_pred_4)\n",
    "y_pred5 = scaler_norm_y.inverse_transform (y_pred_5)\n",
    "y_pred6 = scaler_norm_y.inverse_transform (y_pred_6)\n",
    "y_pred7 = scaler_norm_y.inverse_transform (y_pred_7)\n",
    "y_pred8 = scaler_norm_y.inverse_transform (y_pred_8)\n",
    "y_pred9 = scaler_norm_y.inverse_transform (y_pred_9)\n",
    "y_pred10 = scaler_norm_y.inverse_transform (y_pred_10)\n",
    "\n",
    "MAE_1 = mean_absolute_error(y_test,y_pred1)\n",
    "print (MAE_1)\n",
    "MAE_2 = mean_absolute_error(y_test,y_pred2)\n",
    "print (MAE_2)\n",
    "MAE_3 = mean_absolute_error(y_test,y_pred3)\n",
    "print (MAE_3)\n",
    "MAE_4 = mean_absolute_error(y_test,y_pred4)\n",
    "print (MAE_4)\n",
    "MAE_5 = mean_absolute_error(y_test,y_pred5)\n",
    "print (MAE_5)\n",
    "MAE_6 = mean_absolute_error(y_test,y_pred6)\n",
    "print (MAE_6)\n",
    "MAE_7 = mean_absolute_error(y_test,y_pred7)\n",
    "print (MAE_7)\n",
    "MAE_8 = mean_absolute_error(y_test,y_pred8)\n",
    "print (MAE_8)\n",
    "MAE_9 = mean_absolute_error(y_test,y_pred9)\n",
    "print (MAE_9)\n",
    "MAE_10 = mean_absolute_error(y_test,y_pred10)\n",
    "print (MAE_10)"
   ]
  },
  {
   "cell_type": "code",
   "execution_count": null,
   "id": "1c3aa3bf",
   "metadata": {},
   "outputs": [],
   "source": [
    "# записываем данные об ошибках в итоговую таблицу\n",
    "MAE.append(['Нейросеть 1',MAE_1])\n",
    "MAE.append(['Нейросеть 2',MAE_2])\n",
    "MAE.append(['Нейросеть 3',MAE_3])\n",
    "MAE.append(['Нейросеть 4',MAE_4])\n",
    "MAE.append(['Нейросеть 5',MAE_5])\n",
    "MAE.append(['Нейросеть 6',MAE_6])\n",
    "MAE.append(['Нейросеть 7',MAE_7])\n",
    "MAE.append(['Нейросеть 8',MAE_8])\n",
    "MAE.append(['Нейросеть 9',MAE_9])\n",
    "MAE.append(['Нейросеть 10',MAE_10])"
   ]
  },
  {
   "cell_type": "code",
   "execution_count": null,
   "id": "b8a0a345",
   "metadata": {},
   "outputs": [],
   "source": [
    "# Результаты расчета ошибок нейросетей при предсказании целевого признака \"Соотношение матрица-наполнитель\"\n",
    "MAE"
   ]
  },
  {
   "cell_type": "code",
   "execution_count": null,
   "id": "dbe9163f",
   "metadata": {},
   "outputs": [],
   "source": [
    "#  результаты MAE\n",
    "a = np.array(MAE)\n",
    "\n",
    "MAE_errors = pd.DataFrame({'Версия нейросети': a[:,0], 'MAE Соотношение матрица-наполнитель': a[:,1]})\n",
    "MAE_errors = MAE_errors.astype({'MAE Соотношение матрица-наполнитель': np.float16})\n",
    "MAE_errors"
   ]
  },
  {
   "cell_type": "code",
   "execution_count": null,
   "id": "6f001bcc",
   "metadata": {},
   "outputs": [],
   "source": [
    "# Гистограмма ошибки\n",
    "plt.figure(figsize=(15, 10))\n",
    "plt.barh(MAE_errors['Версия нейросети'], MAE_errors['MAE Соотношение матрица-наполнитель'])\n",
    "plt.show()"
   ]
  },
  {
   "cell_type": "code",
   "execution_count": null,
   "id": "ec4db12d",
   "metadata": {},
   "outputs": [],
   "source": [
    "# Запишем результаты сравнения в файл\n",
    "MAE_errors.to_excel('./Datasets/MAE_errors.xlsx')\n",
    "R2_errors.to_excel('./Datasets/R2_errors.xlsx')"
   ]
  },
  {
   "cell_type": "code",
   "execution_count": null,
   "id": "3e3fab39",
   "metadata": {},
   "outputs": [],
   "source": [
    "model_y5.save('mn_model_nn')"
   ]
  },
  {
   "cell_type": "code",
   "execution_count": null,
   "id": "bfa9051a",
   "metadata": {},
   "outputs": [],
   "source": [
    "# НС на исходных очищенных данных (не нормализованных) \n",
    "model= Sequential()\n",
    "model.add(Dense(100, input_dim=12, activation='sigmoid'))\n",
    "model.add(LeakyReLU(alpha=1.0))\n",
    "model.add(Dense(50, activation='sigmoid'))\n",
    "model.add(LeakyReLU(alpha=1.0))\n",
    "model.add(Dense(1, activation='softmax'))\n",
    "\n",
    "#IMPORTANT PART\n",
    "model.add(Dense(1, activation='linear'))\n",
    "model.compile(optimizer='adam', loss='mse', metrics=['mae'])\n",
    "\n",
    "model.summary()\n",
    "history = model.fit(X_train,y_train, \n",
    "                    epochs=250, \n",
    "                    validation_split=0.1, \n",
    "                    verbose=2)\n",
    "plt.plot(history.history['mae'], label = 'Точность train')\n",
    "plt.plot(history.history['val_mae'], label = 'Точность test')\n",
    "plt.xlabel = ('Epochs')\n",
    "plt.ylabel = ('mae')\n",
    "plt.legend()\n",
    "plt.show()"
   ]
  },
  {
   "cell_type": "code",
   "execution_count": null,
   "id": "f02bbe4b",
   "metadata": {},
   "outputs": [],
   "source": [
    "y_pr = model.predict(X_test)\n",
    "MAE = mean_absolute_error(y_test,y_pr)\n",
    "print (MAE)"
   ]
  },
  {
   "cell_type": "code",
   "execution_count": null,
   "id": "e7f74da7",
   "metadata": {},
   "outputs": [],
   "source": [
    "model.save('mn_model_nn1')"
   ]
  },
  {
   "cell_type": "code",
   "execution_count": null,
   "id": "b392b911",
   "metadata": {},
   "outputs": [],
   "source": [
    "y_pr8 = model_y8.predict(X_test)\n",
    "MAE = mean_absolute_error(y_test,y_pr8)\n",
    "print (MAE)"
   ]
  },
  {
   "cell_type": "code",
   "execution_count": null,
   "id": "1a06c25e",
   "metadata": {},
   "outputs": [],
   "source": [
    "model_y8.save('mn_model_nn8')"
   ]
  },
  {
   "cell_type": "code",
   "execution_count": null,
   "id": "f33099d0",
   "metadata": {},
   "outputs": [],
   "source": []
  },
  {
   "cell_type": "markdown",
   "id": "cc96fb71",
   "metadata": {},
   "source": [
    "# Сохранение модели"
   ]
  },
  {
   "cell_type": "code",
   "execution_count": null,
   "id": "ca114606",
   "metadata": {},
   "outputs": [],
   "source": []
  },
  {
   "cell_type": "code",
   "execution_count": null,
   "id": "1580c5cf",
   "metadata": {},
   "outputs": [],
   "source": []
  },
  {
   "cell_type": "code",
   "execution_count": null,
   "id": "7976d7c1",
   "metadata": {},
   "outputs": [],
   "source": []
  },
  {
   "cell_type": "code",
   "execution_count": null,
   "id": "0ec9db0d",
   "metadata": {},
   "outputs": [],
   "source": []
  },
  {
   "cell_type": "code",
   "execution_count": null,
   "id": "e2891792",
   "metadata": {},
   "outputs": [],
   "source": []
  },
  {
   "cell_type": "code",
   "execution_count": null,
   "id": "18a70d20",
   "metadata": {},
   "outputs": [],
   "source": []
  },
  {
   "cell_type": "code",
   "execution_count": null,
   "id": "1e856d8e",
   "metadata": {},
   "outputs": [],
   "source": []
  },
  {
   "cell_type": "code",
   "execution_count": null,
   "id": "1264a470",
   "metadata": {},
   "outputs": [],
   "source": []
  },
  {
   "cell_type": "code",
   "execution_count": null,
   "id": "44fc9493",
   "metadata": {},
   "outputs": [],
   "source": [
    "!pip freeze > ../requirements.txt"
   ]
  },
  {
   "cell_type": "code",
   "execution_count": null,
   "id": "d948eb14",
   "metadata": {},
   "outputs": [],
   "source": []
  }
 ],
 "metadata": {
  "kernelspec": {
   "display_name": "Python 3 (ipykernel)",
   "language": "python",
   "name": "python3"
  },
  "language_info": {
   "codemirror_mode": {
    "name": "ipython",
    "version": 3
   },
   "file_extension": ".py",
   "mimetype": "text/x-python",
   "name": "python",
   "nbconvert_exporter": "python",
   "pygments_lexer": "ipython3",
   "version": "3.9.13"
  }
 },
 "nbformat": 4,
 "nbformat_minor": 5
}
