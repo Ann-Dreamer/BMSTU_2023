{
 "cells": [
  {
   "cell_type": "markdown",
   "id": "b271aee3",
   "metadata": {},
   "source": [
    "# СОЗДАНИЕ МОДЕЛЕЙ "
   ]
  },
  {
   "cell_type": "code",
   "execution_count": 92,
   "id": "4df1aa79",
   "metadata": {},
   "outputs": [],
   "source": [
    "# импорт библиотек\n",
    "import pandas as pd\n",
    "import numpy as np\n",
    "import matplotlib.pyplot as plt\n",
    "from matplotlib.cbook import boxplot_stats \n",
    "import seaborn as sns\n",
    "\n",
    "import sklearn\n",
    "from sklearn.base import BaseEstimator\n",
    "from sklearn.compose import ColumnTransformer\n",
    "from sklearn import datasets\n",
    "from sklearn.dummy import DummyRegressor\n",
    "from sklearn.ensemble import GradientBoostingRegressor, AdaBoostRegressor, RandomForestRegressor\n",
    "from sklearn import linear_model\n",
    "from sklearn.linear_model import LinearRegression, LogisticRegression, BayesianRidge, SGDRegressor, ARDRegression, Ridge, Lasso, ElasticNet\n",
    "from sklearn import metrics\n",
    "from sklearn.metrics import mean_absolute_error, mean_squared_error, max_error, r2_score, accuracy_score, roc_auc_score, roc_curve, plot_roc_curve, ConfusionMatrixDisplay\n",
    "from sklearn.metrics import mean_absolute_percentage_error as MAPE\n",
    "from sklearn.model_selection import train_test_split, cross_val_score, cross_validate, KFold, GridSearchCV, RandomizedSearchCV\n",
    "from sklearn import neighbors\n",
    "from sklearn.neighbors import KNeighborsRegressor, KNeighborsClassifier\n",
    "from sklearn.neural_network import MLPRegressor\n",
    "from sklearn.pipeline import make_pipeline\n",
    "from sklearn import preprocessing\n",
    "from sklearn.preprocessing import MinMaxScaler, StandardScaler, LabelEncoder, Normalizer, OrdinalEncoder, PolynomialFeatures\n",
    "from sklearn.svm import SVC, LinearSVC, SVR\n",
    "from sklearn.tree import DecisionTreeRegressor\n",
    "\n",
    "import tensorflow as tf\n",
    "from tensorflow import keras\n",
    "from tensorflow.keras import layers\n",
    "from tensorflow.keras import Sequential\n",
    "from tensorflow.keras.layers import Dense, BatchNormalization, LeakyReLU, Activation, Dropout, LSTM\n",
    "from keras.callbacks import EarlyStopping, ModelCheckpoint\n",
    "from keras.models import load_model\n",
    "\n",
    "import plotly.express as px\n",
    "from scipy import stats\n",
    "from scipy.stats import ttest_ind\n",
    "import pickle\n",
    "import io\n",
    "\n",
    "%matplotlib inline"
   ]
  },
  {
   "cell_type": "code",
   "execution_count": 101,
   "id": "82ad0699",
   "metadata": {},
   "outputs": [
    {
     "data": {
      "text/html": [
       "<div>\n",
       "<style scoped>\n",
       "    .dataframe tbody tr th:only-of-type {\n",
       "        vertical-align: middle;\n",
       "    }\n",
       "\n",
       "    .dataframe tbody tr th {\n",
       "        vertical-align: top;\n",
       "    }\n",
       "\n",
       "    .dataframe thead th {\n",
       "        text-align: right;\n",
       "    }\n",
       "</style>\n",
       "<table border=\"1\" class=\"dataframe\">\n",
       "  <thead>\n",
       "    <tr style=\"text-align: right;\">\n",
       "      <th></th>\n",
       "      <th>Соотношение матрица-наполнитель</th>\n",
       "      <th>Плотность, кг/м3</th>\n",
       "      <th>модуль упругости, ГПа</th>\n",
       "      <th>Количество отвердителя, м.%</th>\n",
       "      <th>Содержание эпоксидных групп,%_2</th>\n",
       "      <th>Температура вспышки, С_2</th>\n",
       "      <th>Поверхностная плотность, г/м2</th>\n",
       "      <th>Модуль упругости при растяжении, ГПа</th>\n",
       "      <th>Прочность при растяжении, МПа</th>\n",
       "      <th>Потребление смолы, г/м2</th>\n",
       "      <th>Угол нашивки, град</th>\n",
       "      <th>Шаг нашивки</th>\n",
       "      <th>Плотность нашивки</th>\n",
       "    </tr>\n",
       "  </thead>\n",
       "  <tbody>\n",
       "    <tr>\n",
       "      <th>0</th>\n",
       "      <td>1.857143</td>\n",
       "      <td>2030.000000</td>\n",
       "      <td>738.736842</td>\n",
       "      <td>30.000000</td>\n",
       "      <td>22.267857</td>\n",
       "      <td>100.000000</td>\n",
       "      <td>210.000000</td>\n",
       "      <td>70.000000</td>\n",
       "      <td>3000.000000</td>\n",
       "      <td>220.000000</td>\n",
       "      <td>0</td>\n",
       "      <td>4.000000</td>\n",
       "      <td>57.000000</td>\n",
       "    </tr>\n",
       "    <tr>\n",
       "      <th>1</th>\n",
       "      <td>1.857143</td>\n",
       "      <td>2030.000000</td>\n",
       "      <td>738.736842</td>\n",
       "      <td>50.000000</td>\n",
       "      <td>23.750000</td>\n",
       "      <td>284.615385</td>\n",
       "      <td>210.000000</td>\n",
       "      <td>70.000000</td>\n",
       "      <td>3000.000000</td>\n",
       "      <td>220.000000</td>\n",
       "      <td>0</td>\n",
       "      <td>4.000000</td>\n",
       "      <td>60.000000</td>\n",
       "    </tr>\n",
       "    <tr>\n",
       "      <th>2</th>\n",
       "      <td>1.857143</td>\n",
       "      <td>2030.000000</td>\n",
       "      <td>738.736842</td>\n",
       "      <td>49.900000</td>\n",
       "      <td>33.000000</td>\n",
       "      <td>284.615385</td>\n",
       "      <td>210.000000</td>\n",
       "      <td>70.000000</td>\n",
       "      <td>3000.000000</td>\n",
       "      <td>220.000000</td>\n",
       "      <td>0</td>\n",
       "      <td>4.000000</td>\n",
       "      <td>70.000000</td>\n",
       "    </tr>\n",
       "    <tr>\n",
       "      <th>3</th>\n",
       "      <td>1.857143</td>\n",
       "      <td>2030.000000</td>\n",
       "      <td>738.736842</td>\n",
       "      <td>129.000000</td>\n",
       "      <td>21.250000</td>\n",
       "      <td>300.000000</td>\n",
       "      <td>210.000000</td>\n",
       "      <td>70.000000</td>\n",
       "      <td>3000.000000</td>\n",
       "      <td>220.000000</td>\n",
       "      <td>0</td>\n",
       "      <td>5.000000</td>\n",
       "      <td>47.000000</td>\n",
       "    </tr>\n",
       "    <tr>\n",
       "      <th>4</th>\n",
       "      <td>2.771331</td>\n",
       "      <td>2030.000000</td>\n",
       "      <td>753.000000</td>\n",
       "      <td>111.860000</td>\n",
       "      <td>22.267857</td>\n",
       "      <td>284.615385</td>\n",
       "      <td>210.000000</td>\n",
       "      <td>70.000000</td>\n",
       "      <td>3000.000000</td>\n",
       "      <td>220.000000</td>\n",
       "      <td>0</td>\n",
       "      <td>5.000000</td>\n",
       "      <td>57.000000</td>\n",
       "    </tr>\n",
       "    <tr>\n",
       "      <th>...</th>\n",
       "      <td>...</td>\n",
       "      <td>...</td>\n",
       "      <td>...</td>\n",
       "      <td>...</td>\n",
       "      <td>...</td>\n",
       "      <td>...</td>\n",
       "      <td>...</td>\n",
       "      <td>...</td>\n",
       "      <td>...</td>\n",
       "      <td>...</td>\n",
       "      <td>...</td>\n",
       "      <td>...</td>\n",
       "      <td>...</td>\n",
       "    </tr>\n",
       "    <tr>\n",
       "      <th>1018</th>\n",
       "      <td>2.271346</td>\n",
       "      <td>1952.087902</td>\n",
       "      <td>912.855545</td>\n",
       "      <td>86.992183</td>\n",
       "      <td>20.123249</td>\n",
       "      <td>324.774576</td>\n",
       "      <td>209.198700</td>\n",
       "      <td>73.090961</td>\n",
       "      <td>2387.292495</td>\n",
       "      <td>125.007669</td>\n",
       "      <td>90</td>\n",
       "      <td>9.076380</td>\n",
       "      <td>47.019770</td>\n",
       "    </tr>\n",
       "    <tr>\n",
       "      <th>1019</th>\n",
       "      <td>3.444022</td>\n",
       "      <td>2050.089171</td>\n",
       "      <td>444.732634</td>\n",
       "      <td>145.981978</td>\n",
       "      <td>19.599769</td>\n",
       "      <td>254.215401</td>\n",
       "      <td>350.660830</td>\n",
       "      <td>72.920827</td>\n",
       "      <td>2360.392784</td>\n",
       "      <td>117.730099</td>\n",
       "      <td>90</td>\n",
       "      <td>10.565614</td>\n",
       "      <td>53.750790</td>\n",
       "    </tr>\n",
       "    <tr>\n",
       "      <th>1020</th>\n",
       "      <td>3.280604</td>\n",
       "      <td>1972.372865</td>\n",
       "      <td>416.836524</td>\n",
       "      <td>110.533477</td>\n",
       "      <td>23.957502</td>\n",
       "      <td>248.423047</td>\n",
       "      <td>740.142791</td>\n",
       "      <td>74.734344</td>\n",
       "      <td>2662.906040</td>\n",
       "      <td>236.606764</td>\n",
       "      <td>90</td>\n",
       "      <td>4.161154</td>\n",
       "      <td>67.629684</td>\n",
       "    </tr>\n",
       "    <tr>\n",
       "      <th>1021</th>\n",
       "      <td>3.705351</td>\n",
       "      <td>2066.799773</td>\n",
       "      <td>741.475517</td>\n",
       "      <td>141.397963</td>\n",
       "      <td>19.246945</td>\n",
       "      <td>275.779840</td>\n",
       "      <td>641.468152</td>\n",
       "      <td>74.042708</td>\n",
       "      <td>2071.715856</td>\n",
       "      <td>197.126067</td>\n",
       "      <td>90</td>\n",
       "      <td>6.313201</td>\n",
       "      <td>58.261074</td>\n",
       "    </tr>\n",
       "    <tr>\n",
       "      <th>1022</th>\n",
       "      <td>3.808020</td>\n",
       "      <td>1890.413468</td>\n",
       "      <td>417.316232</td>\n",
       "      <td>129.183416</td>\n",
       "      <td>27.474763</td>\n",
       "      <td>300.952708</td>\n",
       "      <td>758.747882</td>\n",
       "      <td>74.309704</td>\n",
       "      <td>2856.328932</td>\n",
       "      <td>194.754342</td>\n",
       "      <td>90</td>\n",
       "      <td>6.078902</td>\n",
       "      <td>77.434468</td>\n",
       "    </tr>\n",
       "  </tbody>\n",
       "</table>\n",
       "<p>1023 rows × 13 columns</p>\n",
       "</div>"
      ],
      "text/plain": [
       "      Соотношение матрица-наполнитель  Плотность, кг/м3  \\\n",
       "0                            1.857143       2030.000000   \n",
       "1                            1.857143       2030.000000   \n",
       "2                            1.857143       2030.000000   \n",
       "3                            1.857143       2030.000000   \n",
       "4                            2.771331       2030.000000   \n",
       "...                               ...               ...   \n",
       "1018                         2.271346       1952.087902   \n",
       "1019                         3.444022       2050.089171   \n",
       "1020                         3.280604       1972.372865   \n",
       "1021                         3.705351       2066.799773   \n",
       "1022                         3.808020       1890.413468   \n",
       "\n",
       "      модуль упругости, ГПа  Количество отвердителя, м.%  \\\n",
       "0                738.736842                    30.000000   \n",
       "1                738.736842                    50.000000   \n",
       "2                738.736842                    49.900000   \n",
       "3                738.736842                   129.000000   \n",
       "4                753.000000                   111.860000   \n",
       "...                     ...                          ...   \n",
       "1018             912.855545                    86.992183   \n",
       "1019             444.732634                   145.981978   \n",
       "1020             416.836524                   110.533477   \n",
       "1021             741.475517                   141.397963   \n",
       "1022             417.316232                   129.183416   \n",
       "\n",
       "      Содержание эпоксидных групп,%_2  Температура вспышки, С_2  \\\n",
       "0                           22.267857                100.000000   \n",
       "1                           23.750000                284.615385   \n",
       "2                           33.000000                284.615385   \n",
       "3                           21.250000                300.000000   \n",
       "4                           22.267857                284.615385   \n",
       "...                               ...                       ...   \n",
       "1018                        20.123249                324.774576   \n",
       "1019                        19.599769                254.215401   \n",
       "1020                        23.957502                248.423047   \n",
       "1021                        19.246945                275.779840   \n",
       "1022                        27.474763                300.952708   \n",
       "\n",
       "      Поверхностная плотность, г/м2  Модуль упругости при растяжении, ГПа  \\\n",
       "0                        210.000000                             70.000000   \n",
       "1                        210.000000                             70.000000   \n",
       "2                        210.000000                             70.000000   \n",
       "3                        210.000000                             70.000000   \n",
       "4                        210.000000                             70.000000   \n",
       "...                             ...                                   ...   \n",
       "1018                     209.198700                             73.090961   \n",
       "1019                     350.660830                             72.920827   \n",
       "1020                     740.142791                             74.734344   \n",
       "1021                     641.468152                             74.042708   \n",
       "1022                     758.747882                             74.309704   \n",
       "\n",
       "      Прочность при растяжении, МПа  Потребление смолы, г/м2  \\\n",
       "0                       3000.000000               220.000000   \n",
       "1                       3000.000000               220.000000   \n",
       "2                       3000.000000               220.000000   \n",
       "3                       3000.000000               220.000000   \n",
       "4                       3000.000000               220.000000   \n",
       "...                             ...                      ...   \n",
       "1018                    2387.292495               125.007669   \n",
       "1019                    2360.392784               117.730099   \n",
       "1020                    2662.906040               236.606764   \n",
       "1021                    2071.715856               197.126067   \n",
       "1022                    2856.328932               194.754342   \n",
       "\n",
       "      Угол нашивки, град  Шаг нашивки  Плотность нашивки  \n",
       "0                      0     4.000000          57.000000  \n",
       "1                      0     4.000000          60.000000  \n",
       "2                      0     4.000000          70.000000  \n",
       "3                      0     5.000000          47.000000  \n",
       "4                      0     5.000000          57.000000  \n",
       "...                  ...          ...                ...  \n",
       "1018                  90     9.076380          47.019770  \n",
       "1019                  90    10.565614          53.750790  \n",
       "1020                  90     4.161154          67.629684  \n",
       "1021                  90     6.313201          58.261074  \n",
       "1022                  90     6.078902          77.434468  \n",
       "\n",
       "[1023 rows x 13 columns]"
      ]
     },
     "execution_count": 101,
     "metadata": {},
     "output_type": "execute_result"
    }
   ],
   "source": [
    "# загрузка и просмотр датасета\n",
    "#df = pd.read_excel('../data/processed/df.xlsx', index_col=0)\n",
    "#df = pd.read_excel('../data/processed/df_clean.xlsx', index_col=0)\n",
    "df = pd.read_excel('../data/processed/df_prep.xlsx', index_col=0)\n",
    "df"
   ]
  },
  {
   "cell_type": "code",
   "execution_count": 94,
   "id": "73a11eda",
   "metadata": {},
   "outputs": [
    {
     "name": "stdout",
     "output_type": "stream",
     "text": [
      "<class 'pandas.core.frame.DataFrame'>\n",
      "Int64Index: 922 entries, 1 to 1022\n",
      "Data columns (total 13 columns):\n",
      " #   Column                                Non-Null Count  Dtype  \n",
      "---  ------                                --------------  -----  \n",
      " 0   Соотношение матрица-наполнитель       922 non-null    float64\n",
      " 1   Плотность, кг/м3                      922 non-null    float64\n",
      " 2   модуль упругости, ГПа                 922 non-null    float64\n",
      " 3   Количество отвердителя, м.%           922 non-null    float64\n",
      " 4   Содержание эпоксидных групп,%_2       922 non-null    float64\n",
      " 5   Температура вспышки, С_2              922 non-null    float64\n",
      " 6   Поверхностная плотность, г/м2         922 non-null    float64\n",
      " 7   Модуль упругости при растяжении, ГПа  922 non-null    float64\n",
      " 8   Прочность при растяжении, МПа         922 non-null    float64\n",
      " 9   Потребление смолы, г/м2               922 non-null    float64\n",
      " 10  Угол нашивки, град                    922 non-null    int64  \n",
      " 11  Шаг нашивки                           922 non-null    float64\n",
      " 12  Плотность нашивки                     922 non-null    float64\n",
      "dtypes: float64(12), int64(1)\n",
      "memory usage: 100.8 KB\n"
     ]
    }
   ],
   "source": [
    "df.info()"
   ]
  },
  {
   "cell_type": "code",
   "execution_count": 95,
   "id": "0d3b7a34",
   "metadata": {},
   "outputs": [
    {
     "data": {
      "image/png": "[encoded data removed]",
      "text/plain": [
       "<Figure size 847.125x500 with 1 Axes>"
      ]
     },
     "metadata": {},
     "output_type": "display_data"
    }
   ],
   "source": [
    "fig = sns.displot(df, kde=True)"
   ]
  },
  {
   "cell_type": "markdown",
   "id": "687045ee",
   "metadata": {},
   "source": [
    "# Модуль упругости при растяжении и Прочность при растяжении"
   ]
  },
  {
   "cell_type": "code",
   "execution_count": 102,
   "id": "be4a710c",
   "metadata": {},
   "outputs": [],
   "source": [
    "# Выделение целевых переменных и разделение на тренировочную и тестовую части\n",
    "X_Emod = df.drop(['Модуль упругости при растяжении, ГПа'], axis=1)\n",
    "y_Emod = df['Модуль упругости при растяжении, ГПа']\n",
    "\n",
    "X_Rm = df.drop(['Прочность при растяжении, МПа'], axis=1)\n",
    "y_Rm = df['Прочность при растяжении, МПа']"
   ]
  },
  {
   "cell_type": "code",
   "execution_count": 103,
   "id": "a4c2032a",
   "metadata": {},
   "outputs": [
    {
     "name": "stdout",
     "output_type": "stream",
     "text": [
      "(716, 12) (307, 12)\n",
      "(716,) (307,)\n",
      "(716, 12) (307, 12)\n",
      "(716,) (307,)\n"
     ]
    }
   ],
   "source": [
    "X_Emod_train, X_Emod_test, y_Emod_train, y_Emod_test = train_test_split(X_Emod, y_Emod, test_size = 0.3, random_state=42)\n",
    "print(X_Emod_train.shape, X_Emod_test.shape)\n",
    "print(y_Emod_train.shape, y_Emod_test.shape)\n",
    "\n",
    "X_Rm_train, X_Rm_test, y_Rm_train, y_Rm_test = train_test_split(X_Rm, y_Rm, test_size = 0.3, random_state=42)\n",
    "print(X_Rm_train.shape, X_Rm_test.shape)\n",
    "print(y_Rm_train.shape, y_Rm_test.shape)\n"
   ]
  },
  {
   "cell_type": "code",
   "execution_count": null,
   "id": "0437705c",
   "metadata": {},
   "outputs": [],
   "source": []
  },
  {
   "cell_type": "code",
   "execution_count": null,
   "id": "e7afa52b",
   "metadata": {},
   "outputs": [],
   "source": []
  },
  {
   "cell_type": "code",
   "execution_count": null,
   "id": "c53554ae",
   "metadata": {},
   "outputs": [],
   "source": []
  },
  {
   "cell_type": "code",
   "execution_count": null,
   "id": "b2781f41",
   "metadata": {},
   "outputs": [],
   "source": []
  },
  {
   "cell_type": "code",
   "execution_count": null,
   "id": "dd414793",
   "metadata": {},
   "outputs": [],
   "source": [
    "#Описание используемых методов\n",
    "#В данном разделе приводится краткое описание методов (не более 1 страницы на каждый), \n",
    "#которые предполагается использовать для решения поставленной задачи. \n",
    "#Необходимо обратить особое внимание на достоинства, недостатки и области применения каждого из методов. \n",
    "#Кроме того, желательно составление итоговой сравнительной таблицы с указанием среди прочего \n",
    "#априорных предпосылок к работоспособности каждого метода.\n",
    "\n",
    "#Обучить алгоритм машинного обучения, который будет определять значения:\n",
    "#-\tМодуль упругости при растяжении, ГПа\n",
    "#-\tПрочность при растяжении, МПа\n",
    "#4)\tОбучить нескольких моделей для прогноза модуля упругости при растяжении и прочности при растяжении. \n",
    "#При построении модели необходимо 30% данных оставить на тестирование модели, на остальных происходит обучение моделей. \n",
    "#При построении моделей провести поиск гиперпараметров модели с помощью поиска по сетке с перекрестной проверкой, \n",
    "#количество блоков равно 10.\n",
    "\n",
    "#Линейная регрессия\n",
    "#SVM (метод опорных векторов)\n",
    "#KNN (метод k-ближайших соседей)\n",
    "#Дерево решений\n",
    "#Random Forest\n",
    "#Наивный байесовский классификатор\n",
    "#AdaBoost, или адаптивный бустинг\n",
    "#Gradient Boost и XGBoost\n",
    "#LightGBM\n",
    "#Нейросетевая регрессия\n",
    "#Регрессия LASSO\n",
    "#Гребневая регрессия (ридж-регрессия)\n",
    "#Регрессия ElasticNet\n",
    "\n"
   ]
  },
  {
   "cell_type": "code",
   "execution_count": null,
   "id": "d7c4254b",
   "metadata": {},
   "outputs": [],
   "source": []
  },
  {
   "cell_type": "code",
   "execution_count": null,
   "id": "67d454da",
   "metadata": {},
   "outputs": [],
   "source": [
    "# Поиск лучших гиперпараметров модели с помощью поиска по сетке с перекрестной проверкой, количество блоков равно 10\n",
    "n_estimators = [3,5,9,11]\n",
    "max_depth = [1,2,3,4,5]\n",
    "min_samples_split = [10,20,30]\n",
    "min_samples_leaf = [2,4,6]\n",
    "bootstrap = [True]\n",
    "param_grid = {'n_estimators': n_estimators,\n",
    "               'max_depth': max_depth,\n",
    "               'min_samples_split': min_samples_split,\n",
    "               'min_samples_leaf': min_samples_leaf,\n",
    "               'bootstrap': bootstrap}\n",
    "gs = GridSearchCV(rfr, param_grid, cv = 10, verbose = 1, n_jobs=1)\n",
    "gs.fit(X_train, y_train)\n",
    "gs.best_params_\n",
    "\n",
    "\n",
    "\n",
    "parameters = {\n",
    "    'n_estimators': [50, 100, 150],\n",
    "    'max_depth': [4, 8, 12],\n",
    "    'min_samples_split': [2, 6, 10],\n",
    "}\n",
    "roc_auc_ovr = make_scorer(roc_auc_score, multi_class='ovr')\n",
    "\n",
    "clf = GridSearchCV(\n",
    "    RandomForestClassifier(), parameters, cv=5, scoring=roc_auc_ovr\n",
    ")\n",
    "\n",
    "clf.fit(x_train, y_train)\n",
    "\n",
    "print(f'Лучшие параметры: {clf.best_params_}')\n",
    "\n",
    "best_r_tree = clf.best_estimator_"
   ]
  },
  {
   "cell_type": "code",
   "execution_count": 98,
   "id": "6a9849f6",
   "metadata": {},
   "outputs": [],
   "source": [
    "#Какую модель использовать? Нужно попробовать разные. Для сравнения моделей использую несколько метрик. Для статистической устойчивости результатов использую кросс-валидацию. Оформлю запуск моделей, кросс-валидацию и получение метрик в виде вспомогательной функции.\n",
    "#\n",
    "\n",
    "# запуск разных моделей и оценка метрик\n",
    "def run_models(models, x, y):\n",
    "    stat = pd.DataFrame()\n",
    "    cv = KFold(10, shuffle=True, random_state=42)\n",
    "    scoring = ['r2', \n",
    "                'max_error', \n",
    "                'neg_root_mean_squared_error', \n",
    "                'neg_mean_absolute_error', \n",
    "                'neg_mean_absolute_percentage_error']\n",
    "    for model_name, model in models.items():\n",
    "        scores = cross_validate(model, x, y, cv=cv, scoring=scoring)\n",
    "        stat.loc[model_name, 'R2'] = scores['test_r2'].mean()\n",
    "        stat.loc[model_name, 'RMSE'] = scores['test_neg_root_mean_squared_error'].mean()\n",
    "        stat.loc[model_name, 'MAE'] = scores['test_neg_mean_absolute_error'].mean()\n",
    "        stat.loc[model_name, 'MAPE'] = scores['test_neg_mean_absolute_percentage_error'].mean()\n",
    "        stat.loc[model_name, 'max_error'] = scores['test_max_error'].mean()\n",
    "    return stat\n",
    "\n",
    "#Для поиска параметров по сетке тоже сделаю вспомогательную функцию, чтобы везде использовалась одинаковые параметры и одинаково выводился результат.\n",
    "#\n",
    "def run_grid_search(model, params, x, y):\n",
    "    pd.options.display.max_colwidth = 200\n",
    "    stat = pd.DataFrame()\n",
    "    cv = KFold(10, shuffle=True, random_state=42)\n",
    "    # scoring = 'neg_root_mean_squared_error'\n",
    "    scoring = 'neg_mean_absolute_error'\n",
    "    searcher = GridSearchCV(model, params, cv=cv, scoring=scoring)\n",
    "    searcher.fit(x, y)\n",
    "    stat.loc[:, 'params'] = searcher.cv_results_['params']\n",
    "    stat.loc[:, 'MAE'] = searcher.cv_results_['mean_test_score']\n",
    "    stat.loc[:, 'rank'] = searcher.cv_results_['rank_test_score']\n",
    "    return stat, searcher.best_estimator_\n",
    "\n",
    "#И еще одна вспомогательная функция для получения метрик предсказания.\n",
    "#\n",
    "def get_metrics(model_name, y, y_pred):\n",
    "    stat = pd.DataFrame()\n",
    "    stat.loc[model_name, 'R2'] = metrics.r2_score(y, y_pred)\n",
    "    stat.loc[model_name, 'RMSE'] = metrics.mean_squared_error(y, y_pred, squared=False) * -1\n",
    "    stat.loc[model_name, 'MAE'] = metrics.mean_absolute_error(y, y_pred) * -1\n",
    "    stat.loc[model_name, 'MAPE'] = metrics.mean_absolute_percentage_error(y, y_pred) * -1\n",
    "    stat.loc[model_name, 'max_error'] = metrics.max_error(y, y_pred) * -1\n",
    "    return stat\n",
    "\n",
    "#Чтобы определить нижнюю границу качества модели, использую базовую модель, возвращающую среднее значение целевого признака. Рабочая модель по своим характеристикам должна быть лучше базовой. Можно для этой цели создать класс, унаследованный от BaseEstimator. А можно использовать DummyRegressor из sklearn.\n",
    "#"
   ]
  },
  {
   "cell_type": "code",
   "execution_count": 104,
   "id": "2fbacd38",
   "metadata": {},
   "outputs": [
    {
     "data": {
      "text/html": [
       "<style type=\"text/css\">\n",
       "#T_9cf2e_row0_col0, #T_9cf2e_row0_col1, #T_9cf2e_row0_col2, #T_9cf2e_row0_col3, #T_9cf2e_row2_col4 {\n",
       "  background-color: yellow;\n",
       "}\n",
       "</style>\n",
       "<table id=\"T_9cf2e\">\n",
       "  <thead>\n",
       "    <tr>\n",
       "      <th class=\"blank level0\" >&nbsp;</th>\n",
       "      <th id=\"T_9cf2e_level0_col0\" class=\"col_heading level0 col0\" >R2</th>\n",
       "      <th id=\"T_9cf2e_level0_col1\" class=\"col_heading level0 col1\" >RMSE</th>\n",
       "      <th id=\"T_9cf2e_level0_col2\" class=\"col_heading level0 col2\" >MAE</th>\n",
       "      <th id=\"T_9cf2e_level0_col3\" class=\"col_heading level0 col3\" >MAPE</th>\n",
       "      <th id=\"T_9cf2e_level0_col4\" class=\"col_heading level0 col4\" >max_error</th>\n",
       "    </tr>\n",
       "  </thead>\n",
       "  <tbody>\n",
       "    <tr>\n",
       "      <th id=\"T_9cf2e_level0_row0\" class=\"row_heading level0 row0\" >DummyRegressor</th>\n",
       "      <td id=\"T_9cf2e_row0_col0\" class=\"data row0 col0\" >-0.018492</td>\n",
       "      <td id=\"T_9cf2e_row0_col1\" class=\"data row0 col1\" >-3.092476</td>\n",
       "      <td id=\"T_9cf2e_row0_col2\" class=\"data row0 col2\" >-2.483579</td>\n",
       "      <td id=\"T_9cf2e_row0_col3\" class=\"data row0 col3\" >-0.033979</td>\n",
       "      <td id=\"T_9cf2e_row0_col4\" class=\"data row0 col4\" >-7.663604</td>\n",
       "    </tr>\n",
       "    <tr>\n",
       "      <th id=\"T_9cf2e_level0_row1\" class=\"row_heading level0 row1\" >LinearRegression</th>\n",
       "      <td id=\"T_9cf2e_row1_col0\" class=\"data row1 col0\" >-0.035792</td>\n",
       "      <td id=\"T_9cf2e_row1_col1\" class=\"data row1 col1\" >-3.117282</td>\n",
       "      <td id=\"T_9cf2e_row1_col2\" class=\"data row1 col2\" >-2.510271</td>\n",
       "      <td id=\"T_9cf2e_row1_col3\" class=\"data row1 col3\" >-0.034355</td>\n",
       "      <td id=\"T_9cf2e_row1_col4\" class=\"data row1 col4\" >-7.514379</td>\n",
       "    </tr>\n",
       "    <tr>\n",
       "      <th id=\"T_9cf2e_level0_row2\" class=\"row_heading level0 row2\" >Ridge</th>\n",
       "      <td id=\"T_9cf2e_row2_col0\" class=\"data row2 col0\" >-0.035784</td>\n",
       "      <td id=\"T_9cf2e_row2_col1\" class=\"data row2 col1\" >-3.117271</td>\n",
       "      <td id=\"T_9cf2e_row2_col2\" class=\"data row2 col2\" >-2.510265</td>\n",
       "      <td id=\"T_9cf2e_row2_col3\" class=\"data row2 col3\" >-0.034355</td>\n",
       "      <td id=\"T_9cf2e_row2_col4\" class=\"data row2 col4\" >-7.514262</td>\n",
       "    </tr>\n",
       "    <tr>\n",
       "      <th id=\"T_9cf2e_level0_row3\" class=\"row_heading level0 row3\" >Lasso</th>\n",
       "      <td id=\"T_9cf2e_row3_col0\" class=\"data row3 col0\" >-0.025599</td>\n",
       "      <td id=\"T_9cf2e_row3_col1\" class=\"data row3 col1\" >-3.103396</td>\n",
       "      <td id=\"T_9cf2e_row3_col2\" class=\"data row3 col2\" >-2.493455</td>\n",
       "      <td id=\"T_9cf2e_row3_col3\" class=\"data row3 col3\" >-0.034119</td>\n",
       "      <td id=\"T_9cf2e_row3_col4\" class=\"data row3 col4\" >-7.527861</td>\n",
       "    </tr>\n",
       "    <tr>\n",
       "      <th id=\"T_9cf2e_level0_row4\" class=\"row_heading level0 row4\" >SVR</th>\n",
       "      <td id=\"T_9cf2e_row4_col0\" class=\"data row4 col0\" >-0.030644</td>\n",
       "      <td id=\"T_9cf2e_row4_col1\" class=\"data row4 col1\" >-3.112145</td>\n",
       "      <td id=\"T_9cf2e_row4_col2\" class=\"data row4 col2\" >-2.502628</td>\n",
       "      <td id=\"T_9cf2e_row4_col3\" class=\"data row4 col3\" >-0.034185</td>\n",
       "      <td id=\"T_9cf2e_row4_col4\" class=\"data row4 col4\" >-7.793296</td>\n",
       "    </tr>\n",
       "    <tr>\n",
       "      <th id=\"T_9cf2e_level0_row5\" class=\"row_heading level0 row5\" >SGDRegressor</th>\n",
       "      <td id=\"T_9cf2e_row5_col0\" class=\"data row5 col0\" >-2781134820455966671784722300928.000000</td>\n",
       "      <td id=\"T_9cf2e_row5_col1\" class=\"data row5 col1\" >-4494476797850637.500000</td>\n",
       "      <td id=\"T_9cf2e_row5_col2\" class=\"data row5 col2\" >-4367450469760170.500000</td>\n",
       "      <td id=\"T_9cf2e_row5_col3\" class=\"data row5 col3\" >-59767855266774.953125</td>\n",
       "      <td id=\"T_9cf2e_row5_col4\" class=\"data row5 col4\" >-7030578181823276.000000</td>\n",
       "    </tr>\n",
       "    <tr>\n",
       "      <th id=\"T_9cf2e_level0_row6\" class=\"row_heading level0 row6\" >KNeighborsRegressor</th>\n",
       "      <td id=\"T_9cf2e_row6_col0\" class=\"data row6 col0\" >-0.208214</td>\n",
       "      <td id=\"T_9cf2e_row6_col1\" class=\"data row6 col1\" >-3.360445</td>\n",
       "      <td id=\"T_9cf2e_row6_col2\" class=\"data row6 col2\" >-2.690198</td>\n",
       "      <td id=\"T_9cf2e_row6_col3\" class=\"data row6 col3\" >-0.036807</td>\n",
       "      <td id=\"T_9cf2e_row6_col4\" class=\"data row6 col4\" >-8.668973</td>\n",
       "    </tr>\n",
       "    <tr>\n",
       "      <th id=\"T_9cf2e_level0_row7\" class=\"row_heading level0 row7\" >DecisionTreeRegressor</th>\n",
       "      <td id=\"T_9cf2e_row7_col0\" class=\"data row7 col0\" >-1.305589</td>\n",
       "      <td id=\"T_9cf2e_row7_col1\" class=\"data row7 col1\" >-4.608021</td>\n",
       "      <td id=\"T_9cf2e_row7_col2\" class=\"data row7 col2\" >-3.677640</td>\n",
       "      <td id=\"T_9cf2e_row7_col3\" class=\"data row7 col3\" >-0.050327</td>\n",
       "      <td id=\"T_9cf2e_row7_col4\" class=\"data row7 col4\" >-11.924953</td>\n",
       "    </tr>\n",
       "    <tr>\n",
       "      <th id=\"T_9cf2e_level0_row8\" class=\"row_heading level0 row8\" >RandomForestRegressor</th>\n",
       "      <td id=\"T_9cf2e_row8_col0\" class=\"data row8 col0\" >-0.065067</td>\n",
       "      <td id=\"T_9cf2e_row8_col1\" class=\"data row8 col1\" >-3.161912</td>\n",
       "      <td id=\"T_9cf2e_row8_col2\" class=\"data row8 col2\" >-2.532810</td>\n",
       "      <td id=\"T_9cf2e_row8_col3\" class=\"data row8 col3\" >-0.034657</td>\n",
       "      <td id=\"T_9cf2e_row8_col4\" class=\"data row8 col4\" >-7.811542</td>\n",
       "    </tr>\n",
       "  </tbody>\n",
       "</table>\n"
      ],
      "text/plain": [
       "<pandas.io.formats.style.Styler at 0x17622dafac0>"
      ]
     },
     "execution_count": 104,
     "metadata": {},
     "output_type": "execute_result"
    }
   ],
   "source": [
    "models_Emodulus = {\n",
    "    'DummyRegressor': DummyRegressor(strategy='mean'),\n",
    "    'LinearRegression': LinearRegression(),\n",
    "    'Ridge': Ridge(),\n",
    "    'Lasso': Lasso(),\n",
    "    'SVR': SVR(),\n",
    "    'SGDRegressor': SGDRegressor(random_state=42),\n",
    "    'KNeighborsRegressor': KNeighborsRegressor(),\n",
    "    'DecisionTreeRegressor': DecisionTreeRegressor(random_state=42),\n",
    "    'RandomForestRegressor': RandomForestRegressor(random_state=42)\n",
    "}\n",
    "\n",
    "stat_Emodulus = run_models(models_Emodulus, X_Emod_train, y_Emod_train)\n",
    "stat_Emodulus.style.highlight_max(axis=0)"
   ]
  },
  {
   "cell_type": "code",
   "execution_count": 99,
   "id": "ade3f7c3",
   "metadata": {},
   "outputs": [
    {
     "data": {
      "text/html": [
       "<style type=\"text/css\">\n",
       "#T_287a2_row0_col0, #T_287a2_row0_col1, #T_287a2_row0_col2, #T_287a2_row0_col3, #T_287a2_row0_col4 {\n",
       "  background-color: yellow;\n",
       "}\n",
       "</style>\n",
       "<table id=\"T_287a2\">\n",
       "  <thead>\n",
       "    <tr>\n",
       "      <th class=\"blank level0\" >&nbsp;</th>\n",
       "      <th id=\"T_287a2_level0_col0\" class=\"col_heading level0 col0\" >R2</th>\n",
       "      <th id=\"T_287a2_level0_col1\" class=\"col_heading level0 col1\" >RMSE</th>\n",
       "      <th id=\"T_287a2_level0_col2\" class=\"col_heading level0 col2\" >MAE</th>\n",
       "      <th id=\"T_287a2_level0_col3\" class=\"col_heading level0 col3\" >MAPE</th>\n",
       "      <th id=\"T_287a2_level0_col4\" class=\"col_heading level0 col4\" >max_error</th>\n",
       "    </tr>\n",
       "  </thead>\n",
       "  <tbody>\n",
       "    <tr>\n",
       "      <th id=\"T_287a2_level0_row0\" class=\"row_heading level0 row0\" >DummyRegressor</th>\n",
       "      <td id=\"T_287a2_row0_col0\" class=\"data row0 col0\" >-0.005978</td>\n",
       "      <td id=\"T_287a2_row0_col1\" class=\"data row0 col1\" >-2.959776</td>\n",
       "      <td id=\"T_287a2_row0_col2\" class=\"data row0 col2\" >-2.391135</td>\n",
       "      <td id=\"T_287a2_row0_col3\" class=\"data row0 col3\" >-0.032699</td>\n",
       "      <td id=\"T_287a2_row0_col4\" class=\"data row0 col4\" >-7.233665</td>\n",
       "    </tr>\n",
       "    <tr>\n",
       "      <th id=\"T_287a2_level0_row1\" class=\"row_heading level0 row1\" >LinearRegression</th>\n",
       "      <td id=\"T_287a2_row1_col0\" class=\"data row1 col0\" >-0.026962</td>\n",
       "      <td id=\"T_287a2_row1_col1\" class=\"data row1 col1\" >-2.989545</td>\n",
       "      <td id=\"T_287a2_row1_col2\" class=\"data row1 col2\" >-2.427342</td>\n",
       "      <td id=\"T_287a2_row1_col3\" class=\"data row1 col3\" >-0.033198</td>\n",
       "      <td id=\"T_287a2_row1_col4\" class=\"data row1 col4\" >-7.317447</td>\n",
       "    </tr>\n",
       "    <tr>\n",
       "      <th id=\"T_287a2_level0_row2\" class=\"row_heading level0 row2\" >Ridge</th>\n",
       "      <td id=\"T_287a2_row2_col0\" class=\"data row2 col0\" >-0.026954</td>\n",
       "      <td id=\"T_287a2_row2_col1\" class=\"data row2 col1\" >-2.989533</td>\n",
       "      <td id=\"T_287a2_row2_col2\" class=\"data row2 col2\" >-2.427335</td>\n",
       "      <td id=\"T_287a2_row2_col3\" class=\"data row2 col3\" >-0.033198</td>\n",
       "      <td id=\"T_287a2_row2_col4\" class=\"data row2 col4\" >-7.317366</td>\n",
       "    </tr>\n",
       "    <tr>\n",
       "      <th id=\"T_287a2_level0_row3\" class=\"row_heading level0 row3\" >Lasso</th>\n",
       "      <td id=\"T_287a2_row3_col0\" class=\"data row3 col0\" >-0.018605</td>\n",
       "      <td id=\"T_287a2_row3_col1\" class=\"data row3 col1\" >-2.977458</td>\n",
       "      <td id=\"T_287a2_row3_col2\" class=\"data row3 col2\" >-2.408163</td>\n",
       "      <td id=\"T_287a2_row3_col3\" class=\"data row3 col3\" >-0.032938</td>\n",
       "      <td id=\"T_287a2_row3_col4\" class=\"data row3 col4\" >-7.297062</td>\n",
       "    </tr>\n",
       "    <tr>\n",
       "      <th id=\"T_287a2_level0_row4\" class=\"row_heading level0 row4\" >SVR</th>\n",
       "      <td id=\"T_287a2_row4_col0\" class=\"data row4 col0\" >-0.021273</td>\n",
       "      <td id=\"T_287a2_row4_col1\" class=\"data row4 col1\" >-2.981150</td>\n",
       "      <td id=\"T_287a2_row4_col2\" class=\"data row4 col2\" >-2.415894</td>\n",
       "      <td id=\"T_287a2_row4_col3\" class=\"data row4 col3\" >-0.033018</td>\n",
       "      <td id=\"T_287a2_row4_col4\" class=\"data row4 col4\" >-7.305195</td>\n",
       "    </tr>\n",
       "    <tr>\n",
       "      <th id=\"T_287a2_level0_row5\" class=\"row_heading level0 row5\" >SGDRegressor</th>\n",
       "      <td id=\"T_287a2_row5_col0\" class=\"data row5 col0\" >-1905773438595066706432003932160.000000</td>\n",
       "      <td id=\"T_287a2_row5_col1\" class=\"data row5 col1\" >-3619564957314887.000000</td>\n",
       "      <td id=\"T_287a2_row5_col2\" class=\"data row5 col2\" >-3518418185794848.000000</td>\n",
       "      <td id=\"T_287a2_row5_col3\" class=\"data row5 col3\" >-48139230551253.648438</td>\n",
       "      <td id=\"T_287a2_row5_col4\" class=\"data row5 col4\" >-5341388001632719.000000</td>\n",
       "    </tr>\n",
       "    <tr>\n",
       "      <th id=\"T_287a2_level0_row6\" class=\"row_heading level0 row6\" >KNeighborsRegressor</th>\n",
       "      <td id=\"T_287a2_row6_col0\" class=\"data row6 col0\" >-0.172842</td>\n",
       "      <td id=\"T_287a2_row6_col1\" class=\"data row6 col1\" >-3.194092</td>\n",
       "      <td id=\"T_287a2_row6_col2\" class=\"data row6 col2\" >-2.534390</td>\n",
       "      <td id=\"T_287a2_row6_col3\" class=\"data row6 col3\" >-0.034709</td>\n",
       "      <td id=\"T_287a2_row6_col4\" class=\"data row6 col4\" >-8.568040</td>\n",
       "    </tr>\n",
       "    <tr>\n",
       "      <th id=\"T_287a2_level0_row7\" class=\"row_heading level0 row7\" >DecisionTreeRegressor</th>\n",
       "      <td id=\"T_287a2_row7_col0\" class=\"data row7 col0\" >-1.168993</td>\n",
       "      <td id=\"T_287a2_row7_col1\" class=\"data row7 col1\" >-4.317808</td>\n",
       "      <td id=\"T_287a2_row7_col2\" class=\"data row7 col2\" >-3.488211</td>\n",
       "      <td id=\"T_287a2_row7_col3\" class=\"data row7 col3\" >-0.047685</td>\n",
       "      <td id=\"T_287a2_row7_col4\" class=\"data row7 col4\" >-10.925454</td>\n",
       "    </tr>\n",
       "    <tr>\n",
       "      <th id=\"T_287a2_level0_row8\" class=\"row_heading level0 row8\" >RandomForestRegressor</th>\n",
       "      <td id=\"T_287a2_row8_col0\" class=\"data row8 col0\" >-0.079904</td>\n",
       "      <td id=\"T_287a2_row8_col1\" class=\"data row8 col1\" >-3.065513</td>\n",
       "      <td id=\"T_287a2_row8_col2\" class=\"data row8 col2\" >-2.482951</td>\n",
       "      <td id=\"T_287a2_row8_col3\" class=\"data row8 col3\" >-0.033967</td>\n",
       "      <td id=\"T_287a2_row8_col4\" class=\"data row8 col4\" >-7.476743</td>\n",
       "    </tr>\n",
       "  </tbody>\n",
       "</table>\n"
      ],
      "text/plain": [
       "<pandas.io.formats.style.Styler at 0x17622de50d0>"
      ]
     },
     "execution_count": 99,
     "metadata": {},
     "output_type": "execute_result"
    }
   ],
   "source": [
    "models_Emodulus = {\n",
    "    'DummyRegressor': DummyRegressor(strategy='mean'),\n",
    "    'LinearRegression': LinearRegression(),\n",
    "    'Ridge': Ridge(),\n",
    "    'Lasso': Lasso(),\n",
    "    'SVR': SVR(),\n",
    "    'SGDRegressor': SGDRegressor(random_state=42),\n",
    "    'KNeighborsRegressor': KNeighborsRegressor(),\n",
    "    'DecisionTreeRegressor': DecisionTreeRegressor(random_state=42),\n",
    "    'RandomForestRegressor': RandomForestRegressor(random_state=42)\n",
    "}\n",
    "\n",
    "stat_Emodulus = run_models(models_Emodulus, X_Emod_train, y_Emod_train)\n",
    "stat_Emodulus.style.highlight_max(axis=0)"
   ]
  },
  {
   "cell_type": "code",
   "execution_count": 90,
   "id": "3015220d",
   "metadata": {},
   "outputs": [
    {
     "data": {
      "text/html": [
       "<style type=\"text/css\">\n",
       "#T_01715_row0_col0, #T_01715_row0_col1, #T_01715_row0_col2, #T_01715_row0_col4, #T_01715_row3_col0, #T_01715_row3_col1, #T_01715_row3_col2, #T_01715_row3_col4, #T_01715_row7_col3 {\n",
       "  background-color: yellow;\n",
       "}\n",
       "</style>\n",
       "<table id=\"T_01715\">\n",
       "  <thead>\n",
       "    <tr>\n",
       "      <th class=\"blank level0\" >&nbsp;</th>\n",
       "      <th id=\"T_01715_level0_col0\" class=\"col_heading level0 col0\" >R2</th>\n",
       "      <th id=\"T_01715_level0_col1\" class=\"col_heading level0 col1\" >RMSE</th>\n",
       "      <th id=\"T_01715_level0_col2\" class=\"col_heading level0 col2\" >MAE</th>\n",
       "      <th id=\"T_01715_level0_col3\" class=\"col_heading level0 col3\" >MAPE</th>\n",
       "      <th id=\"T_01715_level0_col4\" class=\"col_heading level0 col4\" >max_error</th>\n",
       "    </tr>\n",
       "  </thead>\n",
       "  <tbody>\n",
       "    <tr>\n",
       "      <th id=\"T_01715_level0_row0\" class=\"row_heading level0 row0\" >DummyRegressor</th>\n",
       "      <td id=\"T_01715_row0_col0\" class=\"data row0 col0\" >-0.005978</td>\n",
       "      <td id=\"T_01715_row0_col1\" class=\"data row0 col1\" >-0.192077</td>\n",
       "      <td id=\"T_01715_row0_col2\" class=\"data row0 col2\" >-0.155175</td>\n",
       "      <td id=\"T_01715_row0_col3\" class=\"data row0 col3\" >-3347840459317.124023</td>\n",
       "      <td id=\"T_01715_row0_col4\" class=\"data row0 col4\" >-0.469435</td>\n",
       "    </tr>\n",
       "    <tr>\n",
       "      <th id=\"T_01715_level0_row1\" class=\"row_heading level0 row1\" >LinearRegression</th>\n",
       "      <td id=\"T_01715_row1_col0\" class=\"data row1 col0\" >-0.026962</td>\n",
       "      <td id=\"T_01715_row1_col1\" class=\"data row1 col1\" >-0.194009</td>\n",
       "      <td id=\"T_01715_row1_col2\" class=\"data row1 col2\" >-0.157524</td>\n",
       "      <td id=\"T_01715_row1_col3\" class=\"data row1 col3\" >-3683937634430.865723</td>\n",
       "      <td id=\"T_01715_row1_col4\" class=\"data row1 col4\" >-0.474872</td>\n",
       "    </tr>\n",
       "    <tr>\n",
       "      <th id=\"T_01715_level0_row2\" class=\"row_heading level0 row2\" >Ridge</th>\n",
       "      <td id=\"T_01715_row2_col0\" class=\"data row2 col0\" >-0.025137</td>\n",
       "      <td id=\"T_01715_row2_col1\" class=\"data row2 col1\" >-0.193842</td>\n",
       "      <td id=\"T_01715_row2_col2\" class=\"data row2 col2\" >-0.157360</td>\n",
       "      <td id=\"T_01715_row2_col3\" class=\"data row2 col3\" >-3666438338536.077148</td>\n",
       "      <td id=\"T_01715_row2_col4\" class=\"data row2 col4\" >-0.474475</td>\n",
       "    </tr>\n",
       "    <tr>\n",
       "      <th id=\"T_01715_level0_row3\" class=\"row_heading level0 row3\" >Lasso</th>\n",
       "      <td id=\"T_01715_row3_col0\" class=\"data row3 col0\" >-0.005978</td>\n",
       "      <td id=\"T_01715_row3_col1\" class=\"data row3 col1\" >-0.192077</td>\n",
       "      <td id=\"T_01715_row3_col2\" class=\"data row3 col2\" >-0.155175</td>\n",
       "      <td id=\"T_01715_row3_col3\" class=\"data row3 col3\" >-3347840459317.124023</td>\n",
       "      <td id=\"T_01715_row3_col4\" class=\"data row3 col4\" >-0.469435</td>\n",
       "    </tr>\n",
       "    <tr>\n",
       "      <th id=\"T_01715_level0_row4\" class=\"row_heading level0 row4\" >SVR</th>\n",
       "      <td id=\"T_01715_row4_col0\" class=\"data row4 col0\" >-0.260346</td>\n",
       "      <td id=\"T_01715_row4_col1\" class=\"data row4 col1\" >-0.214443</td>\n",
       "      <td id=\"T_01715_row4_col2\" class=\"data row4 col2\" >-0.171644</td>\n",
       "      <td id=\"T_01715_row4_col3\" class=\"data row4 col3\" >-2880652826513.149414</td>\n",
       "      <td id=\"T_01715_row4_col4\" class=\"data row4 col4\" >-0.530305</td>\n",
       "    </tr>\n",
       "    <tr>\n",
       "      <th id=\"T_01715_level0_row5\" class=\"row_heading level0 row5\" >SGDRegressor</th>\n",
       "      <td id=\"T_01715_row5_col0\" class=\"data row5 col0\" >-0.038863</td>\n",
       "      <td id=\"T_01715_row5_col1\" class=\"data row5 col1\" >-0.195018</td>\n",
       "      <td id=\"T_01715_row5_col2\" class=\"data row5 col2\" >-0.157281</td>\n",
       "      <td id=\"T_01715_row5_col3\" class=\"data row5 col3\" >-3688337893360.049805</td>\n",
       "      <td id=\"T_01715_row5_col4\" class=\"data row5 col4\" >-0.477417</td>\n",
       "    </tr>\n",
       "    <tr>\n",
       "      <th id=\"T_01715_level0_row6\" class=\"row_heading level0 row6\" >KNeighborsRegressor</th>\n",
       "      <td id=\"T_01715_row6_col0\" class=\"data row6 col0\" >-0.215760</td>\n",
       "      <td id=\"T_01715_row6_col1\" class=\"data row6 col1\" >-0.211106</td>\n",
       "      <td id=\"T_01715_row6_col2\" class=\"data row6 col2\" >-0.171461</td>\n",
       "      <td id=\"T_01715_row6_col3\" class=\"data row6 col3\" >-3165907589948.367188</td>\n",
       "      <td id=\"T_01715_row6_col4\" class=\"data row6 col4\" >-0.530524</td>\n",
       "    </tr>\n",
       "    <tr>\n",
       "      <th id=\"T_01715_level0_row7\" class=\"row_heading level0 row7\" >DecisionTreeRegressor</th>\n",
       "      <td id=\"T_01715_row7_col0\" class=\"data row7 col0\" >-1.157739</td>\n",
       "      <td id=\"T_01715_row7_col1\" class=\"data row7 col1\" >-0.280421</td>\n",
       "      <td id=\"T_01715_row7_col2\" class=\"data row7 col2\" >-0.226275</td>\n",
       "      <td id=\"T_01715_row7_col3\" class=\"data row7 col3\" >-2381703342533.636230</td>\n",
       "      <td id=\"T_01715_row7_col4\" class=\"data row7 col4\" >-0.715184</td>\n",
       "    </tr>\n",
       "    <tr>\n",
       "      <th id=\"T_01715_level0_row8\" class=\"row_heading level0 row8\" >RandomForestRegressor</th>\n",
       "      <td id=\"T_01715_row8_col0\" class=\"data row8 col0\" >-0.077519</td>\n",
       "      <td id=\"T_01715_row8_col1\" class=\"data row8 col1\" >-0.198720</td>\n",
       "      <td id=\"T_01715_row8_col2\" class=\"data row8 col2\" >-0.161142</td>\n",
       "      <td id=\"T_01715_row8_col3\" class=\"data row8 col3\" >-3835610599652.521973</td>\n",
       "      <td id=\"T_01715_row8_col4\" class=\"data row8 col4\" >-0.481209</td>\n",
       "    </tr>\n",
       "  </tbody>\n",
       "</table>\n"
      ],
      "text/plain": [
       "<pandas.io.formats.style.Styler at 0x176218b5460>"
      ]
     },
     "execution_count": 90,
     "metadata": {},
     "output_type": "execute_result"
    }
   ],
   "source": [
    "models_Emodulus = {\n",
    "    'DummyRegressor': DummyRegressor(strategy='mean'),\n",
    "    'LinearRegression': LinearRegression(),\n",
    "    'Ridge': Ridge(),\n",
    "    'Lasso': Lasso(),\n",
    "    'SVR': SVR(),\n",
    "    'SGDRegressor': SGDRegressor(random_state=42),\n",
    "    'KNeighborsRegressor': KNeighborsRegressor(),\n",
    "    'DecisionTreeRegressor': DecisionTreeRegressor(random_state=42),\n",
    "    'RandomForestRegressor': RandomForestRegressor(random_state=42)\n",
    "}\n",
    "\n",
    "stat_Emodulus = run_models(models_Emodulus, X_Emod_train, y_Emod_train)\n",
    "stat_Emodulus.style.highlight_max(axis=0)"
   ]
  },
  {
   "cell_type": "code",
   "execution_count": 91,
   "id": "2efc5445",
   "metadata": {},
   "outputs": [
    {
     "data": {
      "text/html": [
       "<style type=\"text/css\">\n",
       "#T_0c86c_row0_col0, #T_0c86c_row0_col1, #T_0c86c_row0_col2, #T_0c86c_row0_col4, #T_0c86c_row2_col3, #T_0c86c_row3_col0, #T_0c86c_row3_col1, #T_0c86c_row3_col2, #T_0c86c_row3_col4 {\n",
       "  background-color: yellow;\n",
       "}\n",
       "</style>\n",
       "<table id=\"T_0c86c\">\n",
       "  <thead>\n",
       "    <tr>\n",
       "      <th class=\"blank level0\" >&nbsp;</th>\n",
       "      <th id=\"T_0c86c_level0_col0\" class=\"col_heading level0 col0\" >R2</th>\n",
       "      <th id=\"T_0c86c_level0_col1\" class=\"col_heading level0 col1\" >RMSE</th>\n",
       "      <th id=\"T_0c86c_level0_col2\" class=\"col_heading level0 col2\" >MAE</th>\n",
       "      <th id=\"T_0c86c_level0_col3\" class=\"col_heading level0 col3\" >MAPE</th>\n",
       "      <th id=\"T_0c86c_level0_col4\" class=\"col_heading level0 col4\" >max_error</th>\n",
       "    </tr>\n",
       "  </thead>\n",
       "  <tbody>\n",
       "    <tr>\n",
       "      <th id=\"T_0c86c_level0_row0\" class=\"row_heading level0 row0\" >DummyRegressor</th>\n",
       "      <td id=\"T_0c86c_row0_col0\" class=\"data row0 col0\" >-0.008783</td>\n",
       "      <td id=\"T_0c86c_row0_col1\" class=\"data row0 col1\" >-0.186579</td>\n",
       "      <td id=\"T_0c86c_row0_col2\" class=\"data row0 col2\" >-0.149120</td>\n",
       "      <td id=\"T_0c86c_row0_col3\" class=\"data row0 col3\" >-0.693187</td>\n",
       "      <td id=\"T_0c86c_row0_col4\" class=\"data row0 col4\" >-0.467456</td>\n",
       "    </tr>\n",
       "    <tr>\n",
       "      <th id=\"T_0c86c_level0_row1\" class=\"row_heading level0 row1\" >LinearRegression</th>\n",
       "      <td id=\"T_0c86c_row1_col0\" class=\"data row1 col0\" >-0.038337</td>\n",
       "      <td id=\"T_0c86c_row1_col1\" class=\"data row1 col1\" >-0.189316</td>\n",
       "      <td id=\"T_0c86c_row1_col2\" class=\"data row1 col2\" >-0.151587</td>\n",
       "      <td id=\"T_0c86c_row1_col3\" class=\"data row1 col3\" >-0.691962</td>\n",
       "      <td id=\"T_0c86c_row1_col4\" class=\"data row1 col4\" >-0.470897</td>\n",
       "    </tr>\n",
       "    <tr>\n",
       "      <th id=\"T_0c86c_level0_row2\" class=\"row_heading level0 row2\" >Ridge</th>\n",
       "      <td id=\"T_0c86c_row2_col0\" class=\"data row2 col0\" >-0.036112</td>\n",
       "      <td id=\"T_0c86c_row2_col1\" class=\"data row2 col1\" >-0.189113</td>\n",
       "      <td id=\"T_0c86c_row2_col2\" class=\"data row2 col2\" >-0.151400</td>\n",
       "      <td id=\"T_0c86c_row2_col3\" class=\"data row2 col3\" >-0.691830</td>\n",
       "      <td id=\"T_0c86c_row2_col4\" class=\"data row2 col4\" >-0.470655</td>\n",
       "    </tr>\n",
       "    <tr>\n",
       "      <th id=\"T_0c86c_level0_row3\" class=\"row_heading level0 row3\" >Lasso</th>\n",
       "      <td id=\"T_0c86c_row3_col0\" class=\"data row3 col0\" >-0.008783</td>\n",
       "      <td id=\"T_0c86c_row3_col1\" class=\"data row3 col1\" >-0.186579</td>\n",
       "      <td id=\"T_0c86c_row3_col2\" class=\"data row3 col2\" >-0.149120</td>\n",
       "      <td id=\"T_0c86c_row3_col3\" class=\"data row3 col3\" >-0.693187</td>\n",
       "      <td id=\"T_0c86c_row3_col4\" class=\"data row3 col4\" >-0.467456</td>\n",
       "    </tr>\n",
       "    <tr>\n",
       "      <th id=\"T_0c86c_level0_row4\" class=\"row_heading level0 row4\" >SVR</th>\n",
       "      <td id=\"T_0c86c_row4_col0\" class=\"data row4 col0\" >-0.226356</td>\n",
       "      <td id=\"T_0c86c_row4_col1\" class=\"data row4 col1\" >-0.205477</td>\n",
       "      <td id=\"T_0c86c_row4_col2\" class=\"data row4 col2\" >-0.163493</td>\n",
       "      <td id=\"T_0c86c_row4_col3\" class=\"data row4 col3\" >-0.746035</td>\n",
       "      <td id=\"T_0c86c_row4_col4\" class=\"data row4 col4\" >-0.525318</td>\n",
       "    </tr>\n",
       "    <tr>\n",
       "      <th id=\"T_0c86c_level0_row5\" class=\"row_heading level0 row5\" >SGDRegressor</th>\n",
       "      <td id=\"T_0c86c_row5_col0\" class=\"data row5 col0\" >-0.108385</td>\n",
       "      <td id=\"T_0c86c_row5_col1\" class=\"data row5 col1\" >-0.195252</td>\n",
       "      <td id=\"T_0c86c_row5_col2\" class=\"data row5 col2\" >-0.157282</td>\n",
       "      <td id=\"T_0c86c_row5_col3\" class=\"data row5 col3\" >-0.723075</td>\n",
       "      <td id=\"T_0c86c_row5_col4\" class=\"data row5 col4\" >-0.495832</td>\n",
       "    </tr>\n",
       "    <tr>\n",
       "      <th id=\"T_0c86c_level0_row6\" class=\"row_heading level0 row6\" >KNeighborsRegressor</th>\n",
       "      <td id=\"T_0c86c_row6_col0\" class=\"data row6 col0\" >-0.186228</td>\n",
       "      <td id=\"T_0c86c_row6_col1\" class=\"data row6 col1\" >-0.202158</td>\n",
       "      <td id=\"T_0c86c_row6_col2\" class=\"data row6 col2\" >-0.159284</td>\n",
       "      <td id=\"T_0c86c_row6_col3\" class=\"data row6 col3\" >-0.737835</td>\n",
       "      <td id=\"T_0c86c_row6_col4\" class=\"data row6 col4\" >-0.527324</td>\n",
       "    </tr>\n",
       "    <tr>\n",
       "      <th id=\"T_0c86c_level0_row7\" class=\"row_heading level0 row7\" >DecisionTreeRegressor</th>\n",
       "      <td id=\"T_0c86c_row7_col0\" class=\"data row7 col0\" >-1.079926</td>\n",
       "      <td id=\"T_0c86c_row7_col1\" class=\"data row7 col1\" >-0.267110</td>\n",
       "      <td id=\"T_0c86c_row7_col2\" class=\"data row7 col2\" >-0.217158</td>\n",
       "      <td id=\"T_0c86c_row7_col3\" class=\"data row7 col3\" >-0.836105</td>\n",
       "      <td id=\"T_0c86c_row7_col4\" class=\"data row7 col4\" >-0.654926</td>\n",
       "    </tr>\n",
       "    <tr>\n",
       "      <th id=\"T_0c86c_level0_row8\" class=\"row_heading level0 row8\" >RandomForestRegressor</th>\n",
       "      <td id=\"T_0c86c_row8_col0\" class=\"data row8 col0\" >-0.056142</td>\n",
       "      <td id=\"T_0c86c_row8_col1\" class=\"data row8 col1\" >-0.190987</td>\n",
       "      <td id=\"T_0c86c_row8_col2\" class=\"data row8 col2\" >-0.153408</td>\n",
       "      <td id=\"T_0c86c_row8_col3\" class=\"data row8 col3\" >-0.702645</td>\n",
       "      <td id=\"T_0c86c_row8_col4\" class=\"data row8 col4\" >-0.471329</td>\n",
       "    </tr>\n",
       "  </tbody>\n",
       "</table>\n"
      ],
      "text/plain": [
       "<pandas.io.formats.style.Styler at 0x176216f9b20>"
      ]
     },
     "execution_count": 91,
     "metadata": {},
     "output_type": "execute_result"
    }
   ],
   "source": [
    "models_Rm = {\n",
    "    'DummyRegressor': DummyRegressor(strategy='mean'),\n",
    "    'LinearRegression': LinearRegression(),\n",
    "    'Ridge': Ridge(),\n",
    "    'Lasso': Lasso(),\n",
    "    'SVR': SVR(),\n",
    "    'SGDRegressor': SGDRegressor(random_state=42),\n",
    "    'KNeighborsRegressor': KNeighborsRegressor(),\n",
    "    'DecisionTreeRegressor': DecisionTreeRegressor(random_state=42),\n",
    "    'RandomForestRegressor': RandomForestRegressor(random_state=42)\n",
    "}\n",
    "\n",
    "stat_Rm = run_models(models_Rm, X_Rm_train, y_Rm_train)\n",
    "stat_Rm.style.highlight_max(axis=0)"
   ]
  },
  {
   "cell_type": "code",
   "execution_count": 100,
   "id": "cda51c43",
   "metadata": {},
   "outputs": [
    {
     "data": {
      "text/html": [
       "<style type=\"text/css\">\n",
       "#T_9eb5b_row0_col2, #T_9eb5b_row4_col0, #T_9eb5b_row4_col1, #T_9eb5b_row4_col3, #T_9eb5b_row4_col4 {\n",
       "  background-color: yellow;\n",
       "}\n",
       "</style>\n",
       "<table id=\"T_9eb5b\">\n",
       "  <thead>\n",
       "    <tr>\n",
       "      <th class=\"blank level0\" >&nbsp;</th>\n",
       "      <th id=\"T_9eb5b_level0_col0\" class=\"col_heading level0 col0\" >R2</th>\n",
       "      <th id=\"T_9eb5b_level0_col1\" class=\"col_heading level0 col1\" >RMSE</th>\n",
       "      <th id=\"T_9eb5b_level0_col2\" class=\"col_heading level0 col2\" >MAE</th>\n",
       "      <th id=\"T_9eb5b_level0_col3\" class=\"col_heading level0 col3\" >MAPE</th>\n",
       "      <th id=\"T_9eb5b_level0_col4\" class=\"col_heading level0 col4\" >max_error</th>\n",
       "    </tr>\n",
       "  </thead>\n",
       "  <tbody>\n",
       "    <tr>\n",
       "      <th id=\"T_9eb5b_level0_row0\" class=\"row_heading level0 row0\" >DummyRegressor</th>\n",
       "      <td id=\"T_9eb5b_row0_col0\" class=\"data row0 col0\" >-0.008783</td>\n",
       "      <td id=\"T_9eb5b_row0_col1\" class=\"data row0 col1\" >-448.544529</td>\n",
       "      <td id=\"T_9eb5b_row0_col2\" class=\"data row0 col2\" >-358.490113</td>\n",
       "      <td id=\"T_9eb5b_row0_col3\" class=\"data row0 col3\" >-0.155329</td>\n",
       "      <td id=\"T_9eb5b_row0_col4\" class=\"data row0 col4\" >-1123.784590</td>\n",
       "    </tr>\n",
       "    <tr>\n",
       "      <th id=\"T_9eb5b_level0_row1\" class=\"row_heading level0 row1\" >LinearRegression</th>\n",
       "      <td id=\"T_9eb5b_row1_col0\" class=\"data row1 col0\" >-0.038337</td>\n",
       "      <td id=\"T_9eb5b_row1_col1\" class=\"data row1 col1\" >-455.122689</td>\n",
       "      <td id=\"T_9eb5b_row1_col2\" class=\"data row1 col2\" >-364.421774</td>\n",
       "      <td id=\"T_9eb5b_row1_col3\" class=\"data row1 col3\" >-0.157442</td>\n",
       "      <td id=\"T_9eb5b_row1_col4\" class=\"data row1 col4\" >-1132.056433</td>\n",
       "    </tr>\n",
       "    <tr>\n",
       "      <th id=\"T_9eb5b_level0_row2\" class=\"row_heading level0 row2\" >Ridge</th>\n",
       "      <td id=\"T_9eb5b_row2_col0\" class=\"data row2 col0\" >-0.038324</td>\n",
       "      <td id=\"T_9eb5b_row2_col1\" class=\"data row2 col1\" >-455.119662</td>\n",
       "      <td id=\"T_9eb5b_row2_col2\" class=\"data row2 col2\" >-364.419857</td>\n",
       "      <td id=\"T_9eb5b_row2_col3\" class=\"data row2 col3\" >-0.157442</td>\n",
       "      <td id=\"T_9eb5b_row2_col4\" class=\"data row2 col4\" >-1132.036077</td>\n",
       "    </tr>\n",
       "    <tr>\n",
       "      <th id=\"T_9eb5b_level0_row3\" class=\"row_heading level0 row3\" >Lasso</th>\n",
       "      <td id=\"T_9eb5b_row3_col0\" class=\"data row3 col0\" >-0.038081</td>\n",
       "      <td id=\"T_9eb5b_row3_col1\" class=\"data row3 col1\" >-455.063599</td>\n",
       "      <td id=\"T_9eb5b_row3_col2\" class=\"data row3 col2\" >-364.388563</td>\n",
       "      <td id=\"T_9eb5b_row3_col3\" class=\"data row3 col3\" >-0.157432</td>\n",
       "      <td id=\"T_9eb5b_row3_col4\" class=\"data row3 col4\" >-1131.492206</td>\n",
       "    </tr>\n",
       "    <tr>\n",
       "      <th id=\"T_9eb5b_level0_row4\" class=\"row_heading level0 row4\" >SVR</th>\n",
       "      <td id=\"T_9eb5b_row4_col0\" class=\"data row4 col0\" >-0.008748</td>\n",
       "      <td id=\"T_9eb5b_row4_col1\" class=\"data row4 col1\" >-448.534550</td>\n",
       "      <td id=\"T_9eb5b_row4_col2\" class=\"data row4 col2\" >-358.756869</td>\n",
       "      <td id=\"T_9eb5b_row4_col3\" class=\"data row4 col3\" >-0.155293</td>\n",
       "      <td id=\"T_9eb5b_row4_col4\" class=\"data row4 col4\" >-1123.314337</td>\n",
       "    </tr>\n",
       "    <tr>\n",
       "      <th id=\"T_9eb5b_level0_row5\" class=\"row_heading level0 row5\" >SGDRegressor</th>\n",
       "      <td id=\"T_9eb5b_row5_col0\" class=\"data row5 col0\" >-29660389303779774609489920.000000</td>\n",
       "      <td id=\"T_9eb5b_row5_col1\" class=\"data row5 col1\" >-2271967538236749.500000</td>\n",
       "      <td id=\"T_9eb5b_row5_col2\" class=\"data row5 col2\" >-2183649950434797.250000</td>\n",
       "      <td id=\"T_9eb5b_row5_col3\" class=\"data row5 col3\" >-917800639149.063721</td>\n",
       "      <td id=\"T_9eb5b_row5_col4\" class=\"data row5 col4\" >-3483465991322129.500000</td>\n",
       "    </tr>\n",
       "    <tr>\n",
       "      <th id=\"T_9eb5b_level0_row6\" class=\"row_heading level0 row6\" >KNeighborsRegressor</th>\n",
       "      <td id=\"T_9eb5b_row6_col0\" class=\"data row6 col0\" >-0.172973</td>\n",
       "      <td id=\"T_9eb5b_row6_col1\" class=\"data row6 col1\" >-483.451135</td>\n",
       "      <td id=\"T_9eb5b_row6_col2\" class=\"data row6 col2\" >-390.480480</td>\n",
       "      <td id=\"T_9eb5b_row6_col3\" class=\"data row6 col3\" >-0.167432</td>\n",
       "      <td id=\"T_9eb5b_row6_col4\" class=\"data row6 col4\" >-1228.810648</td>\n",
       "    </tr>\n",
       "    <tr>\n",
       "      <th id=\"T_9eb5b_level0_row7\" class=\"row_heading level0 row7\" >DecisionTreeRegressor</th>\n",
       "      <td id=\"T_9eb5b_row7_col0\" class=\"data row7 col0\" >-1.093777</td>\n",
       "      <td id=\"T_9eb5b_row7_col1\" class=\"data row7 col1\" >-643.852101</td>\n",
       "      <td id=\"T_9eb5b_row7_col2\" class=\"data row7 col2\" >-521.977060</td>\n",
       "      <td id=\"T_9eb5b_row7_col3\" class=\"data row7 col3\" >-0.222481</td>\n",
       "      <td id=\"T_9eb5b_row7_col4\" class=\"data row7 col4\" >-1552.016192</td>\n",
       "    </tr>\n",
       "    <tr>\n",
       "      <th id=\"T_9eb5b_level0_row8\" class=\"row_heading level0 row8\" >RandomForestRegressor</th>\n",
       "      <td id=\"T_9eb5b_row8_col0\" class=\"data row8 col0\" >-0.056300</td>\n",
       "      <td id=\"T_9eb5b_row8_col1\" class=\"data row8 col1\" >-459.230799</td>\n",
       "      <td id=\"T_9eb5b_row8_col2\" class=\"data row8 col2\" >-368.404520</td>\n",
       "      <td id=\"T_9eb5b_row8_col3\" class=\"data row8 col3\" >-0.159463</td>\n",
       "      <td id=\"T_9eb5b_row8_col4\" class=\"data row8 col4\" >-1143.686602</td>\n",
       "    </tr>\n",
       "  </tbody>\n",
       "</table>\n"
      ],
      "text/plain": [
       "<pandas.io.formats.style.Styler at 0x17621745700>"
      ]
     },
     "execution_count": 100,
     "metadata": {},
     "output_type": "execute_result"
    }
   ],
   "source": [
    "models_Rm = {\n",
    "    'DummyRegressor': DummyRegressor(strategy='mean'),\n",
    "    'LinearRegression': LinearRegression(),\n",
    "    'Ridge': Ridge(),\n",
    "    'Lasso': Lasso(),\n",
    "    'SVR': SVR(),\n",
    "    'SGDRegressor': SGDRegressor(random_state=42),\n",
    "    'KNeighborsRegressor': KNeighborsRegressor(),\n",
    "    'DecisionTreeRegressor': DecisionTreeRegressor(random_state=42),\n",
    "    'RandomForestRegressor': RandomForestRegressor(random_state=42)\n",
    "}\n",
    "\n",
    "stat_Rm = run_models(models_Rm, X_Rm_train, y_Rm_train)\n",
    "stat_Rm.style.highlight_max(axis=0)"
   ]
  },
  {
   "cell_type": "code",
   "execution_count": 105,
   "id": "6ec5d252",
   "metadata": {},
   "outputs": [
    {
     "data": {
      "text/html": [
       "<style type=\"text/css\">\n",
       "#T_87710_row0_col0, #T_87710_row0_col2, #T_87710_row0_col4, #T_87710_row4_col1, #T_87710_row4_col3 {\n",
       "  background-color: yellow;\n",
       "}\n",
       "</style>\n",
       "<table id=\"T_87710\">\n",
       "  <thead>\n",
       "    <tr>\n",
       "      <th class=\"blank level0\" >&nbsp;</th>\n",
       "      <th id=\"T_87710_level0_col0\" class=\"col_heading level0 col0\" >R2</th>\n",
       "      <th id=\"T_87710_level0_col1\" class=\"col_heading level0 col1\" >RMSE</th>\n",
       "      <th id=\"T_87710_level0_col2\" class=\"col_heading level0 col2\" >MAE</th>\n",
       "      <th id=\"T_87710_level0_col3\" class=\"col_heading level0 col3\" >MAPE</th>\n",
       "      <th id=\"T_87710_level0_col4\" class=\"col_heading level0 col4\" >max_error</th>\n",
       "    </tr>\n",
       "  </thead>\n",
       "  <tbody>\n",
       "    <tr>\n",
       "      <th id=\"T_87710_level0_row0\" class=\"row_heading level0 row0\" >DummyRegressor</th>\n",
       "      <td id=\"T_87710_row0_col0\" class=\"data row0 col0\" >-0.011692</td>\n",
       "      <td id=\"T_87710_row0_col1\" class=\"data row0 col1\" >-490.402385</td>\n",
       "      <td id=\"T_87710_row0_col2\" class=\"data row0 col2\" >-384.676196</td>\n",
       "      <td id=\"T_87710_row0_col3\" class=\"data row0 col3\" >-0.169180</td>\n",
       "      <td id=\"T_87710_row0_col4\" class=\"data row0 col4\" >-1256.222762</td>\n",
       "    </tr>\n",
       "    <tr>\n",
       "      <th id=\"T_87710_level0_row1\" class=\"row_heading level0 row1\" >LinearRegression</th>\n",
       "      <td id=\"T_87710_row1_col0\" class=\"data row1 col0\" >-0.028338</td>\n",
       "      <td id=\"T_87710_row1_col1\" class=\"data row1 col1\" >-494.339806</td>\n",
       "      <td id=\"T_87710_row1_col2\" class=\"data row1 col2\" >-388.922262</td>\n",
       "      <td id=\"T_87710_row1_col3\" class=\"data row1 col3\" >-0.170803</td>\n",
       "      <td id=\"T_87710_row1_col4\" class=\"data row1 col4\" >-1256.798600</td>\n",
       "    </tr>\n",
       "    <tr>\n",
       "      <th id=\"T_87710_level0_row2\" class=\"row_heading level0 row2\" >Ridge</th>\n",
       "      <td id=\"T_87710_row2_col0\" class=\"data row2 col0\" >-0.028325</td>\n",
       "      <td id=\"T_87710_row2_col1\" class=\"data row2 col1\" >-494.336692</td>\n",
       "      <td id=\"T_87710_row2_col2\" class=\"data row2 col2\" >-388.919605</td>\n",
       "      <td id=\"T_87710_row2_col3\" class=\"data row2 col3\" >-0.170802</td>\n",
       "      <td id=\"T_87710_row2_col4\" class=\"data row2 col4\" >-1256.794752</td>\n",
       "    </tr>\n",
       "    <tr>\n",
       "      <th id=\"T_87710_level0_row3\" class=\"row_heading level0 row3\" >Lasso</th>\n",
       "      <td id=\"T_87710_row3_col0\" class=\"data row3 col0\" >-0.027702</td>\n",
       "      <td id=\"T_87710_row3_col1\" class=\"data row3 col1\" >-494.193871</td>\n",
       "      <td id=\"T_87710_row3_col2\" class=\"data row3 col2\" >-388.788708</td>\n",
       "      <td id=\"T_87710_row3_col3\" class=\"data row3 col3\" >-0.170745</td>\n",
       "      <td id=\"T_87710_row3_col4\" class=\"data row3 col4\" >-1256.511845</td>\n",
       "    </tr>\n",
       "    <tr>\n",
       "      <th id=\"T_87710_level0_row4\" class=\"row_heading level0 row4\" >SVR</th>\n",
       "      <td id=\"T_87710_row4_col0\" class=\"data row4 col0\" >-0.011735</td>\n",
       "      <td id=\"T_87710_row4_col1\" class=\"data row4 col1\" >-490.387040</td>\n",
       "      <td id=\"T_87710_row4_col2\" class=\"data row4 col2\" >-384.777650</td>\n",
       "      <td id=\"T_87710_row4_col3\" class=\"data row4 col3\" >-0.168416</td>\n",
       "      <td id=\"T_87710_row4_col4\" class=\"data row4 col4\" >-1257.699635</td>\n",
       "    </tr>\n",
       "    <tr>\n",
       "      <th id=\"T_87710_level0_row5\" class=\"row_heading level0 row5\" >SGDRegressor</th>\n",
       "      <td id=\"T_87710_row5_col0\" class=\"data row5 col0\" >-16183751088764122346553344.000000</td>\n",
       "      <td id=\"T_87710_row5_col1\" class=\"data row5 col1\" >-1673480575381909.250000</td>\n",
       "      <td id=\"T_87710_row5_col2\" class=\"data row5 col2\" >-1599351492324492.750000</td>\n",
       "      <td id=\"T_87710_row5_col3\" class=\"data row5 col3\" >-674699313636.566895</td>\n",
       "      <td id=\"T_87710_row5_col4\" class=\"data row5 col4\" >-2680370372818308.500000</td>\n",
       "    </tr>\n",
       "    <tr>\n",
       "      <th id=\"T_87710_level0_row6\" class=\"row_heading level0 row6\" >KNeighborsRegressor</th>\n",
       "      <td id=\"T_87710_row6_col0\" class=\"data row6 col0\" >-0.194233</td>\n",
       "      <td id=\"T_87710_row6_col1\" class=\"data row6 col1\" >-532.056386</td>\n",
       "      <td id=\"T_87710_row6_col2\" class=\"data row6 col2\" >-421.214138</td>\n",
       "      <td id=\"T_87710_row6_col3\" class=\"data row6 col3\" >-0.183709</td>\n",
       "      <td id=\"T_87710_row6_col4\" class=\"data row6 col4\" >-1440.235103</td>\n",
       "    </tr>\n",
       "    <tr>\n",
       "      <th id=\"T_87710_level0_row7\" class=\"row_heading level0 row7\" >DecisionTreeRegressor</th>\n",
       "      <td id=\"T_87710_row7_col0\" class=\"data row7 col0\" >-1.156053</td>\n",
       "      <td id=\"T_87710_row7_col1\" class=\"data row7 col1\" >-714.321909</td>\n",
       "      <td id=\"T_87710_row7_col2\" class=\"data row7 col2\" >-566.771589</td>\n",
       "      <td id=\"T_87710_row7_col3\" class=\"data row7 col3\" >-0.243935</td>\n",
       "      <td id=\"T_87710_row7_col4\" class=\"data row7 col4\" >-1960.936368</td>\n",
       "    </tr>\n",
       "    <tr>\n",
       "      <th id=\"T_87710_level0_row8\" class=\"row_heading level0 row8\" >RandomForestRegressor</th>\n",
       "      <td id=\"T_87710_row8_col0\" class=\"data row8 col0\" >-0.039957</td>\n",
       "      <td id=\"T_87710_row8_col1\" class=\"data row8 col1\" >-497.276135</td>\n",
       "      <td id=\"T_87710_row8_col2\" class=\"data row8 col2\" >-393.304894</td>\n",
       "      <td id=\"T_87710_row8_col3\" class=\"data row8 col3\" >-0.172812</td>\n",
       "      <td id=\"T_87710_row8_col4\" class=\"data row8 col4\" >-1295.170957</td>\n",
       "    </tr>\n",
       "  </tbody>\n",
       "</table>\n"
      ],
      "text/plain": [
       "<pandas.io.formats.style.Styler at 0x176251b5730>"
      ]
     },
     "execution_count": 105,
     "metadata": {},
     "output_type": "execute_result"
    }
   ],
   "source": [
    "models_Rm = {\n",
    "    'DummyRegressor': DummyRegressor(strategy='mean'),\n",
    "    'LinearRegression': LinearRegression(),\n",
    "    'Ridge': Ridge(),\n",
    "    'Lasso': Lasso(),\n",
    "    'SVR': SVR(),\n",
    "    'SGDRegressor': SGDRegressor(random_state=42),\n",
    "    'KNeighborsRegressor': KNeighborsRegressor(),\n",
    "    'DecisionTreeRegressor': DecisionTreeRegressor(random_state=42),\n",
    "    'RandomForestRegressor': RandomForestRegressor(random_state=42)\n",
    "}\n",
    "\n",
    "stat_Rm = run_models(models_Rm, X_Rm_train, y_Rm_train)\n",
    "stat_Rm.style.highlight_max(axis=0)"
   ]
  },
  {
   "cell_type": "code",
   "execution_count": null,
   "id": "32e0371c",
   "metadata": {},
   "outputs": [],
   "source": []
  },
  {
   "cell_type": "code",
   "execution_count": null,
   "id": "1197bc58",
   "metadata": {},
   "outputs": [],
   "source": []
  },
  {
   "cell_type": "code",
   "execution_count": null,
   "id": "16be363b",
   "metadata": {},
   "outputs": [],
   "source": []
  },
  {
   "cell_type": "code",
   "execution_count": null,
   "id": "9beedc82",
   "metadata": {},
   "outputs": [],
   "source": []
  },
  {
   "cell_type": "code",
   "execution_count": null,
   "id": "53c38658",
   "metadata": {},
   "outputs": [],
   "source": [
    "#Линейная регрессия\n",
    "LinearRegression\n"
   ]
  },
  {
   "cell_type": "code",
   "execution_count": 62,
   "id": "eddce5a2",
   "metadata": {},
   "outputs": [],
   "source": [
    "model_LR = LinearRegression()"
   ]
  },
  {
   "cell_type": "code",
   "execution_count": 63,
   "id": "7e08608b",
   "metadata": {},
   "outputs": [
    {
     "data": {
      "text/plain": [
       "LinearRegression()"
      ]
     },
     "execution_count": 63,
     "metadata": {},
     "output_type": "execute_result"
    }
   ],
   "source": [
    "model_LR.fit(X_Emod_train, y_Emod_train)"
   ]
  },
  {
   "cell_type": "code",
   "execution_count": 64,
   "id": "85594a63",
   "metadata": {},
   "outputs": [
    {
     "data": {
      "text/plain": [
       "array([-0.04403678, -0.01794799,  0.04301215, -0.03630388,  0.01051656,\n",
       "        0.02825537,  0.00404045, -0.02451794,  0.0701979 ,  0.02376272,\n",
       "       -0.03872236,  0.03310265])"
      ]
     },
     "execution_count": 64,
     "metadata": {},
     "output_type": "execute_result"
    }
   ],
   "source": [
    "model_LR.coef_"
   ]
  },
  {
   "cell_type": "code",
   "execution_count": 65,
   "id": "4a2ea9e6",
   "metadata": {},
   "outputs": [
    {
     "data": {
      "text/html": [
       "<div>\n",
       "<style scoped>\n",
       "    .dataframe tbody tr th:only-of-type {\n",
       "        vertical-align: middle;\n",
       "    }\n",
       "\n",
       "    .dataframe tbody tr th {\n",
       "        vertical-align: top;\n",
       "    }\n",
       "\n",
       "    .dataframe thead th {\n",
       "        text-align: right;\n",
       "    }\n",
       "</style>\n",
       "<table border=\"1\" class=\"dataframe\">\n",
       "  <thead>\n",
       "    <tr style=\"text-align: right;\">\n",
       "      <th></th>\n",
       "      <th>0</th>\n",
       "    </tr>\n",
       "  </thead>\n",
       "  <tbody>\n",
       "    <tr>\n",
       "      <th>Соотношение матрица-наполнитель</th>\n",
       "      <td>-0.044037</td>\n",
       "    </tr>\n",
       "    <tr>\n",
       "      <th>Плотность, кг/м3</th>\n",
       "      <td>-0.017948</td>\n",
       "    </tr>\n",
       "    <tr>\n",
       "      <th>модуль упругости, ГПа</th>\n",
       "      <td>0.043012</td>\n",
       "    </tr>\n",
       "    <tr>\n",
       "      <th>Количество отвердителя, м.%</th>\n",
       "      <td>-0.036304</td>\n",
       "    </tr>\n",
       "    <tr>\n",
       "      <th>Содержание эпоксидных групп,%_2</th>\n",
       "      <td>0.010517</td>\n",
       "    </tr>\n",
       "    <tr>\n",
       "      <th>Температура вспышки, С_2</th>\n",
       "      <td>0.028255</td>\n",
       "    </tr>\n",
       "    <tr>\n",
       "      <th>Поверхностная плотность, г/м2</th>\n",
       "      <td>0.004040</td>\n",
       "    </tr>\n",
       "    <tr>\n",
       "      <th>Прочность при растяжении, МПа</th>\n",
       "      <td>-0.024518</td>\n",
       "    </tr>\n",
       "    <tr>\n",
       "      <th>Потребление смолы, г/м2</th>\n",
       "      <td>0.070198</td>\n",
       "    </tr>\n",
       "    <tr>\n",
       "      <th>Угол нашивки, град</th>\n",
       "      <td>0.023763</td>\n",
       "    </tr>\n",
       "    <tr>\n",
       "      <th>Шаг нашивки</th>\n",
       "      <td>-0.038722</td>\n",
       "    </tr>\n",
       "    <tr>\n",
       "      <th>Плотность нашивки</th>\n",
       "      <td>0.033103</td>\n",
       "    </tr>\n",
       "  </tbody>\n",
       "</table>\n",
       "</div>"
      ],
      "text/plain": [
       "                                        0\n",
       "Соотношение матрица-наполнитель -0.044037\n",
       "Плотность, кг/м3                -0.017948\n",
       "модуль упругости, ГПа            0.043012\n",
       "Количество отвердителя, м.%     -0.036304\n",
       "Содержание эпоксидных групп,%_2  0.010517\n",
       "Температура вспышки, С_2         0.028255\n",
       "Поверхностная плотность, г/м2    0.004040\n",
       "Прочность при растяжении, МПа   -0.024518\n",
       "Потребление смолы, г/м2          0.070198\n",
       "Угол нашивки, град               0.023763\n",
       "Шаг нашивки                     -0.038722\n",
       "Плотность нашивки                0.033103"
      ]
     },
     "execution_count": 65,
     "metadata": {},
     "output_type": "execute_result"
    }
   ],
   "source": [
    "pd.DataFrame(model_LR.coef_, X_Emod_train.columns)"
   ]
  },
  {
   "cell_type": "code",
   "execution_count": 66,
   "id": "a33d7a88",
   "metadata": {},
   "outputs": [],
   "source": [
    "y_Emod_pred = model_LR.predict(X_Emod_test)"
   ]
  },
  {
   "cell_type": "code",
   "execution_count": 77,
   "id": "1f397795",
   "metadata": {},
   "outputs": [
    {
     "name": "stdout",
     "output_type": "stream",
     "text": [
      "MAE = 0.16952044227222318\n",
      "MSE = 0.04283254231933288\n",
      "MAE / y_Emod_pred.mean() = 0.3528745842505205\n"
     ]
    }
   ],
   "source": [
    "MAE = metrics.mean_absolute_error(y_Emod_test, y_Emod_pred)\n",
    "MSE = metrics.mean_squared_error(y_Emod_test, y_Emod_pred)\n",
    "print(f'MAE = {MAE}')\n",
    "print(f'MSE = {MSE}')\n",
    "print(f'MAE / y_Emod_pred.mean() = {MAE / y_Emod_pred.mean()}')"
   ]
  },
  {
   "cell_type": "code",
   "execution_count": null,
   "id": "963ff849",
   "metadata": {},
   "outputs": [],
   "source": []
  },
  {
   "cell_type": "code",
   "execution_count": null,
   "id": "a48d5b77",
   "metadata": {},
   "outputs": [],
   "source": []
  },
  {
   "cell_type": "code",
   "execution_count": null,
   "id": "89e7b5ab",
   "metadata": {},
   "outputs": [],
   "source": []
  },
  {
   "cell_type": "code",
   "execution_count": null,
   "id": "6245fec4",
   "metadata": {},
   "outputs": [],
   "source": []
  },
  {
   "cell_type": "code",
   "execution_count": null,
   "id": "a3a0a9c1",
   "metadata": {},
   "outputs": [],
   "source": []
  },
  {
   "cell_type": "code",
   "execution_count": null,
   "id": "1277ec55",
   "metadata": {},
   "outputs": [],
   "source": [
    "X_Emod_train, X_Emod_test, y_Emod_train, y_Emod_test = train_test_split(X_Emod, y_Emod, test_size = 0.3, random_state=42)\n",
    "print(X_Emod_train.shape, X_Emod_test.shape)\n",
    "print(y_Emod_train.shape, y_Emod_test.shape)\n",
    "\n",
    "X_Rm_train, X_Rm_test, y_Rm_train, y_Rm_test = train_test_split(X_Rm, y_Rm, test_size = 0.3, random_state=42)\n",
    "print(X_Rm_train.shape, X_Rm_test.shape)\n",
    "print(y_Rm_train.shape, y_Rm_test.shape)\n"
   ]
  },
  {
   "cell_type": "code",
   "execution_count": null,
   "id": "e55366d3",
   "metadata": {},
   "outputs": [],
   "source": []
  },
  {
   "cell_type": "code",
   "execution_count": null,
   "id": "f22e1edb",
   "metadata": {},
   "outputs": [],
   "source": []
  },
  {
   "cell_type": "code",
   "execution_count": null,
   "id": "071f6428",
   "metadata": {},
   "outputs": [],
   "source": [
    "#SVM (метод опорных векторов)\n",
    "LinearSVR\n",
    "SVR"
   ]
  },
  {
   "cell_type": "code",
   "execution_count": null,
   "id": "42daef6a",
   "metadata": {},
   "outputs": [],
   "source": []
  },
  {
   "cell_type": "code",
   "execution_count": null,
   "id": "ccb5c0c4",
   "metadata": {},
   "outputs": [],
   "source": []
  },
  {
   "cell_type": "code",
   "execution_count": null,
   "id": "9e221103",
   "metadata": {},
   "outputs": [],
   "source": [
    "#KNN (метод k-ближайших соседей)\n",
    "KNeighborsRegressor"
   ]
  },
  {
   "cell_type": "code",
   "execution_count": null,
   "id": "dd827972",
   "metadata": {},
   "outputs": [],
   "source": [
    "knn = KNeighborsRegressor()\n",
    "param_grid = {\n",
    "   'n_neighbors': [1, 2, 5, 10, 20]\n",
    "}\n",
    "GSCV = GridSearchCV(estimator=knn, param_grid=param_grid, cv=10, verbose=2)\n",
    "GSCV.fit(X_train, y_train)\n",
    "GSCV.best_params_ "
   ]
  },
  {
   "cell_type": "code",
   "execution_count": null,
   "id": "a603d825",
   "metadata": {},
   "outputs": [],
   "source": [
    "knn.fit(X_train, y_train)\n",
    "prediction=knn.predict(X_test)\n",
    "np.mean((y_test - prediction)*(y_test - prediction))"
   ]
  },
  {
   "cell_type": "code",
   "execution_count": null,
   "id": "42c8ab82",
   "metadata": {},
   "outputs": [],
   "source": []
  },
  {
   "cell_type": "code",
   "execution_count": null,
   "id": "7a13960b",
   "metadata": {},
   "outputs": [],
   "source": []
  },
  {
   "cell_type": "code",
   "execution_count": null,
   "id": "10c46bbf",
   "metadata": {},
   "outputs": [],
   "source": [
    "modelNeihg_1 = KNeighborsRegressor(n_neighbors=13)\n",
    "modelNeihg_1.fit(X_train_norm,y_train_norm.iloc[:,0])\n",
    "y_pred1 = modelNeihg_1.predict(X_test_norm)\n",
    "modelNeihg_2 = KNeighborsRegressor()\n",
    "modelNeihg_2.fit(X_train_norm,y_train_norm.iloc[:,1])\n",
    "y_pred2 = modelNeihg_2.predict(X_test_norm)\n",
    "y_pred = np.vstack((y_pred1,y_pred2)).T\n",
    "y_pred = scaler_norm_y.inverse_transform (y_pred)\n",
    "\n",
    "MAENeihg_1 = mean_absolute_error(y_test.iloc[:,0],y_pred[:,0])\n",
    "MAENeihg_2 = mean_absolute_error(y_test.iloc[:,1],y_pred[:,1])\n",
    "R2Neihg_1 = r2_score(y_test.iloc[:,0],y_pred[:,0])\n",
    "R2Neihg_2 = r2_score(y_test.iloc[:,1],y_pred[:,1])\n",
    "print (MAENeihg_1)\n",
    "print (MAENeihg_2)\n",
    "print (R2Neihg_1)\n",
    "print (R2Neihg_2)"
   ]
  },
  {
   "cell_type": "code",
   "execution_count": null,
   "id": "115f2520",
   "metadata": {},
   "outputs": [],
   "source": [
    "# записываем данные об ошибках в итоговую таблицу\n",
    "MAE_y1.append(['KNeighborsRegressor_norm',MAENeihg_1])\n",
    "MAE_y2.append(['KNeighborsRegressor_norm',MAENeihg_2])\n",
    "R2_y1.append(['KNeighborsRegressor_norm',R2Neihg_1])\n",
    "R2_y2.append(['KNeighborsRegressor_norm',R2Neihg_2])"
   ]
  },
  {
   "cell_type": "code",
   "execution_count": null,
   "id": "59b983e9",
   "metadata": {},
   "outputs": [],
   "source": []
  },
  {
   "cell_type": "code",
   "execution_count": null,
   "id": "a1bf88dd",
   "metadata": {},
   "outputs": [],
   "source": []
  },
  {
   "cell_type": "code",
   "execution_count": null,
   "id": "cc07e828",
   "metadata": {},
   "outputs": [],
   "source": []
  },
  {
   "cell_type": "code",
   "execution_count": null,
   "id": "39d6b2cd",
   "metadata": {},
   "outputs": [],
   "source": [
    "#Дерево решений\n",
    "DecisionTreeRegressor"
   ]
  },
  {
   "cell_type": "code",
   "execution_count": null,
   "id": "9924e166",
   "metadata": {},
   "outputs": [],
   "source": [
    "# модель регрессии DecisionTreeRegressor\n",
    "modelTree_1 = DecisionTreeRegressor(max_depth=3)\n",
    "modelTree_1.fit(X_train_norm,y_train_norm.iloc[:,0])\n",
    "y_pred1 = modelTree_1.predict(X_test_norm)\n",
    "\n",
    "modelTree_2 = DecisionTreeRegressor(max_depth=5)\n",
    "modelTree_2.fit(X_train_norm,y_train_norm.iloc[:,1])\n",
    "y_pred2 = modelTree_2.predict(X_test_norm)\n",
    "\n",
    "y_pred = np.vstack((y_pred1,y_pred2)).T\n",
    "y_pred = scaler_norm_y.inverse_transform (y_pred)\n",
    "\n",
    "MAETree_1 = mean_absolute_error(y_test.iloc[:,0],y_pred[:,0])\n",
    "MAETree_2 = mean_absolute_error(y_test.iloc[:,1],y_pred[:,1])\n",
    "R2Tree_1 = r2_score(y_test.iloc[:,0],y_pred[:,0])\n",
    "R2Tree_2 = r2_score(y_test.iloc[:,1],y_pred[:,1])\n",
    "print (MAETree_1)\n",
    "print (MAETree_2)\n",
    "print (R2Tree_1)\n",
    "print (R2Tree_2)"
   ]
  },
  {
   "cell_type": "code",
   "execution_count": null,
   "id": "98cb5ad5",
   "metadata": {},
   "outputs": [],
   "source": [
    "# записываем данные об ошибках в итоговую таблицу\n",
    "MAE_y1.append(['DecisionTreeRegressor_norm',MAETree_1])\n",
    "MAE_y2.append(['DecisionTreeRegressor_norm',MAETree_2])\n",
    "R2_y1.append(['DecisionTreeRegressor_norm',R2Tree_1])\n",
    "R2_y2.append(['DecisionTreeRegressor_norm',R2Tree_2])\n"
   ]
  },
  {
   "cell_type": "code",
   "execution_count": null,
   "id": "1275b8c9",
   "metadata": {},
   "outputs": [],
   "source": []
  },
  {
   "cell_type": "code",
   "execution_count": null,
   "id": "ea97bab7",
   "metadata": {},
   "outputs": [],
   "source": []
  },
  {
   "cell_type": "code",
   "execution_count": null,
   "id": "5d624032",
   "metadata": {},
   "outputs": [],
   "source": [
    "#Random Forest\n",
    "RandomForestRegressor"
   ]
  },
  {
   "cell_type": "code",
   "execution_count": null,
   "id": "8449910f",
   "metadata": {},
   "outputs": [],
   "source": [
    "random_forest_tuning = RandomForestRegressor(random_state = 42)\n",
    "param_grid = {\n",
    "   'n_estimators': [100, 200, 500],\n",
    "   'max_features': ['auto', 'sqrt', 'log2'],\n",
    "   'max_depth' : [4,5,6],\n",
    "   'criterion' :['squared_error']\n",
    "}\n",
    "GSCV = GridSearchCV(estimator=random_forest_tuning, param_grid=param_grid, cv=5, verbose=2)\n",
    "GSCV.fit(X_train, y_train)\n",
    "GSCV.best_params_ "
   ]
  },
  {
   "cell_type": "code",
   "execution_count": null,
   "id": "3c47e9bb",
   "metadata": {},
   "outputs": [],
   "source": [
    "rf = GSCV.best_estimator_\n",
    "rf"
   ]
  },
  {
   "cell_type": "code",
   "execution_count": null,
   "id": "f0ae4f4d",
   "metadata": {},
   "outputs": [],
   "source": [
    "rf = RandomForestRegressor(GSCV.best_params_)\n",
    "rf"
   ]
  },
  {
   "cell_type": "code",
   "execution_count": null,
   "id": "046e88e5",
   "metadata": {},
   "outputs": [],
   "source": [
    "rf = RandomForestRegressor(criterion='squared_error', max_depth=6, \n",
    "                           max_features='auto', n_estimators=500)"
   ]
  },
  {
   "cell_type": "code",
   "execution_count": null,
   "id": "4e6de6ba",
   "metadata": {},
   "outputs": [],
   "source": [
    "rf.fit(X_train, y_train)"
   ]
  },
  {
   "cell_type": "code",
   "execution_count": null,
   "id": "fbc145b9",
   "metadata": {},
   "outputs": [],
   "source": [
    "test_predictions = rf.predict(X_test)\n",
    "\n",
    "a = plt.axes(aspect='equal')\n",
    "plt.scatter(y_test, test_predictions)\n",
    "plt.xlabel('True Values [MPG]')\n",
    "plt.ylabel('Predictions [MPG]')\n",
    "lims = [0, 50]\n",
    "plt.xlim(lims)\n",
    "plt.ylim(lims)\n",
    "_ = plt.plot(lims, lims)"
   ]
  },
  {
   "cell_type": "code",
   "execution_count": null,
   "id": "b06c0361",
   "metadata": {},
   "outputs": [],
   "source": [
    "rf.score(X_test, y_test)"
   ]
  },
  {
   "cell_type": "code",
   "execution_count": null,
   "id": "63df055b",
   "metadata": {},
   "outputs": [],
   "source": [
    "rf.predict(X_test)"
   ]
  },
  {
   "cell_type": "code",
   "execution_count": null,
   "id": "340ac59c",
   "metadata": {},
   "outputs": [],
   "source": [
    "np.mean((y_test - np.mean(y_test))*(y_test - np.mean(y_test)))"
   ]
  },
  {
   "cell_type": "code",
   "execution_count": null,
   "id": "a759ca50",
   "metadata": {},
   "outputs": [],
   "source": [
    "prediction=rf.predict(X_test)"
   ]
  },
  {
   "cell_type": "code",
   "execution_count": null,
   "id": "5fd69cd6",
   "metadata": {},
   "outputs": [],
   "source": [
    "np.mean((y_test - prediction)*(y_test - prediction))"
   ]
  },
  {
   "cell_type": "code",
   "execution_count": null,
   "id": "88bc29fe",
   "metadata": {},
   "outputs": [],
   "source": [
    "pd.DataFrame(GSCV.cv_results_)"
   ]
  },
  {
   "cell_type": "code",
   "execution_count": null,
   "id": "3284878d",
   "metadata": {},
   "outputs": [],
   "source": [
    "plt.hist(pd.DataFrame(GSCV.cv_results_)['mean_test_score'])"
   ]
  },
  {
   "cell_type": "code",
   "execution_count": null,
   "id": "9501dbb2",
   "metadata": {},
   "outputs": [],
   "source": []
  },
  {
   "cell_type": "code",
   "execution_count": null,
   "id": "0ea5c211",
   "metadata": {},
   "outputs": [],
   "source": []
  },
  {
   "cell_type": "code",
   "execution_count": null,
   "id": "c741a8ed",
   "metadata": {},
   "outputs": [],
   "source": [
    "# модель регрессии RandomForestRegressor\n",
    "modelForest_1 = RandomForestRegressor(max_depth=5)\n",
    "modelForest_1.fit(X_train_norm,y_train_norm.iloc[:,0])\n",
    "y_pred1 = modelForest_1.predict(X_test_norm)\n",
    "\n",
    "modelForest_2 = RandomForestRegressor(max_depth=5)\n",
    "modelForest_2.fit(X_train_norm,y_train_norm.iloc[:,1])\n",
    "y_pred2 = modelForest_2.predict(X_test_norm)\n",
    "\n",
    "y_pred = np.vstack((y_pred1,y_pred2)).T\n",
    "y_pred = scaler_norm_y.inverse_transform (y_pred)\n",
    "\n",
    "MAEForest_1 = mean_absolute_error(y_test.iloc[:,0],y_pred[:,0])\n",
    "MAEForest_2 = mean_absolute_error(y_test.iloc[:,1],y_pred[:,1])\n",
    "R2Forest_1 = r2_score(y_test.iloc[:,0],y_pred[:,0])\n",
    "R2Forest_2 = r2_score(y_test.iloc[:,1],y_pred[:,1])\n",
    "print (MAEForest_1)\n",
    "print (MAEForest_2)\n",
    "print (R2Forest_1)\n",
    "print (R2Forest_2)"
   ]
  },
  {
   "cell_type": "code",
   "execution_count": null,
   "id": "7279b637",
   "metadata": {},
   "outputs": [],
   "source": [
    "# записываем данные об ошибках в итоговую таблицу\n",
    "MAE_y1.append(['RandomForestRegressor_norm',MAEForest_1])\n",
    "MAE_y2.append(['RandomForestRegressor_norm',MAEForest_2])\n",
    "R2_y1.append(['RandomForestRegressor_norm',R2Forest_1])\n",
    "R2_y2.append(['RandomForestRegressor_norm',R2Forest_2])"
   ]
  },
  {
   "cell_type": "code",
   "execution_count": null,
   "id": "5a0540aa",
   "metadata": {},
   "outputs": [],
   "source": []
  },
  {
   "cell_type": "code",
   "execution_count": null,
   "id": "24d14e03",
   "metadata": {},
   "outputs": [],
   "source": []
  },
  {
   "cell_type": "code",
   "execution_count": null,
   "id": "8bce8e03",
   "metadata": {},
   "outputs": [],
   "source": []
  },
  {
   "cell_type": "code",
   "execution_count": null,
   "id": "ca8c539c",
   "metadata": {},
   "outputs": [],
   "source": []
  },
  {
   "cell_type": "code",
   "execution_count": null,
   "id": "98aeb691",
   "metadata": {},
   "outputs": [],
   "source": [
    "#AdaBoost, или адаптивный бустинг\n",
    "AdaBoostRegressor"
   ]
  },
  {
   "cell_type": "code",
   "execution_count": null,
   "id": "3b456f2a",
   "metadata": {},
   "outputs": [],
   "source": [
    "# модель регрессии AdaBoostRegressor\n",
    "modelAda_1 = AdaBoostRegressor(DecisionTreeRegressor(max_depth=5), n_estimators=1000)\n",
    "modelAda_1.fit(X_train_norm,y_train_norm.iloc[:,0])\n",
    "y_pred_1 = modelAda_1.predict(X_test_norm)\n",
    "\n",
    "modelAda_2 = AdaBoostRegressor(DecisionTreeRegressor(max_depth=5), n_estimators=1000)\n",
    "modelAda_2.fit(X_train_norm,y_train_norm.iloc[:,1])\n",
    "y_pred_2 = modelAda_2.predict(X_test_norm)\n",
    "\n",
    "y_pred = np.vstack((y_pred_1,y_pred_2)).T\n",
    "y_pred = scaler_norm_y.inverse_transform (y_pred)\n",
    "\n",
    "MAEAda_1 = mean_absolute_error(y_test.iloc[:,0],y_pred[:,0])\n",
    "MAEAda_2 = mean_absolute_error(y_test.iloc[:,1],y_pred[:,1])\n",
    "R2Ada_1 = r2_score(y_test.iloc[:,0],y_pred[:,0])\n",
    "R2Ada_2 = r2_score(y_test.iloc[:,1],y_pred[:,1])\n",
    "print (MAEAda_1)\n",
    "print (MAEAda_2)\n",
    "print (R2Ada_1)\n",
    "print (R2Ada_2)"
   ]
  },
  {
   "cell_type": "code",
   "execution_count": null,
   "id": "0cf071ff",
   "metadata": {},
   "outputs": [],
   "source": [
    "# записываем данные об ошибках в итоговую таблицу\n",
    "MAE_y1.append(['AdaBoostRegressor_norm',MAEAda_1])\n",
    "MAE_y2.append(['AdaBoostRegressor_norm',MAEAda_2])\n",
    "R2_y1.append(['AdaBoostRegressor_norm',R2Ada_1])\n",
    "R2_y2.append(['AdaBoostRegressor_norm',R2Ada_2])"
   ]
  },
  {
   "cell_type": "code",
   "execution_count": null,
   "id": "4c387057",
   "metadata": {},
   "outputs": [],
   "source": []
  },
  {
   "cell_type": "code",
   "execution_count": null,
   "id": "584532d3",
   "metadata": {},
   "outputs": [],
   "source": []
  },
  {
   "cell_type": "code",
   "execution_count": null,
   "id": "db6cef21",
   "metadata": {},
   "outputs": [],
   "source": []
  },
  {
   "cell_type": "code",
   "execution_count": null,
   "id": "f52e9741",
   "metadata": {},
   "outputs": [],
   "source": []
  },
  {
   "cell_type": "code",
   "execution_count": null,
   "id": "4fc0ac5d",
   "metadata": {},
   "outputs": [],
   "source": [
    "#Gradient Boost и XGBoost\n",
    "GradientBoostingRegressor"
   ]
  },
  {
   "cell_type": "code",
   "execution_count": null,
   "id": "cc549931",
   "metadata": {},
   "outputs": [],
   "source": []
  },
  {
   "cell_type": "code",
   "execution_count": null,
   "id": "bc8dc7ab",
   "metadata": {},
   "outputs": [],
   "source": []
  },
  {
   "cell_type": "code",
   "execution_count": null,
   "id": "5b19f540",
   "metadata": {},
   "outputs": [],
   "source": [
    "#Алгоритмы усиления градиента\n",
    "SGDRegressor"
   ]
  },
  {
   "cell_type": "code",
   "execution_count": null,
   "id": "377fd892",
   "metadata": {},
   "outputs": [],
   "source": []
  },
  {
   "cell_type": "code",
   "execution_count": null,
   "id": "22851f36",
   "metadata": {},
   "outputs": [],
   "source": []
  },
  {
   "cell_type": "code",
   "execution_count": null,
   "id": "6dd017fa",
   "metadata": {},
   "outputs": [],
   "source": [
    "#Нейросетевая регрессия\n",
    "MLPRegressor"
   ]
  },
  {
   "cell_type": "code",
   "execution_count": null,
   "id": "ecc13c13",
   "metadata": {},
   "outputs": [],
   "source": []
  },
  {
   "cell_type": "code",
   "execution_count": null,
   "id": "82797550",
   "metadata": {},
   "outputs": [],
   "source": []
  },
  {
   "cell_type": "code",
   "execution_count": null,
   "id": "03bda6c0",
   "metadata": {},
   "outputs": [],
   "source": [
    "#Регрессия LASSO\n",
    "Lasso"
   ]
  },
  {
   "cell_type": "code",
   "execution_count": null,
   "id": "19f70b37",
   "metadata": {},
   "outputs": [],
   "source": [
    "lassso = Lasso(random_state = 42)\n",
    "param_grid = {\n",
    "   'alpha': np.linspace(0, 1, 100)\n",
    "}\n",
    "GSCV = GridSearchCV(estimator=lassso, param_grid=param_grid, cv=10, verbose=2)\n",
    "GSCV.fit(X_train, y_train)\n",
    "GSCV.best_params_ "
   ]
  },
  {
   "cell_type": "code",
   "execution_count": null,
   "id": "f6dd057d",
   "metadata": {},
   "outputs": [],
   "source": [
    "model=GSCV.best_estimator_"
   ]
  },
  {
   "cell_type": "code",
   "execution_count": null,
   "id": "951ec1b7",
   "metadata": {},
   "outputs": [],
   "source": [
    "model.fit(X_train, y_train)\n",
    "model.score(X_test, y_test)"
   ]
  },
  {
   "cell_type": "code",
   "execution_count": null,
   "id": "584d0ca0",
   "metadata": {},
   "outputs": [],
   "source": [
    "prediction=model.predict(X_test)\n",
    "np.mean((y_test - prediction)*(y_test - prediction))"
   ]
  },
  {
   "cell_type": "code",
   "execution_count": null,
   "id": "7c08d9ee",
   "metadata": {},
   "outputs": [],
   "source": []
  },
  {
   "cell_type": "code",
   "execution_count": null,
   "id": "f118f6cc",
   "metadata": {},
   "outputs": [],
   "source": []
  },
  {
   "cell_type": "code",
   "execution_count": null,
   "id": "ffec98ca",
   "metadata": {},
   "outputs": [],
   "source": []
  },
  {
   "cell_type": "code",
   "execution_count": null,
   "id": "c6b1a6d0",
   "metadata": {},
   "outputs": [],
   "source": []
  },
  {
   "cell_type": "code",
   "execution_count": null,
   "id": "7906eceb",
   "metadata": {},
   "outputs": [],
   "source": []
  },
  {
   "cell_type": "code",
   "execution_count": null,
   "id": "682342e8",
   "metadata": {},
   "outputs": [],
   "source": []
  },
  {
   "cell_type": "code",
   "execution_count": null,
   "id": "a165b982",
   "metadata": {},
   "outputs": [],
   "source": [
    "#Гребневая регрессия (ридж-регрессия)\n",
    "BayesianRidge\n",
    "Ridge"
   ]
  },
  {
   "cell_type": "code",
   "execution_count": null,
   "id": "162c5e5b",
   "metadata": {},
   "outputs": [],
   "source": []
  },
  {
   "cell_type": "code",
   "execution_count": null,
   "id": "df08e7e0",
   "metadata": {},
   "outputs": [],
   "source": []
  },
  {
   "cell_type": "code",
   "execution_count": null,
   "id": "0ff982c4",
   "metadata": {},
   "outputs": [],
   "source": [
    "#Регрессия ElasticNet\n",
    "ElasticNet"
   ]
  },
  {
   "cell_type": "code",
   "execution_count": null,
   "id": "22b13a54",
   "metadata": {},
   "outputs": [],
   "source": []
  },
  {
   "cell_type": "code",
   "execution_count": null,
   "id": "0f63ebdd",
   "metadata": {},
   "outputs": [],
   "source": []
  },
  {
   "cell_type": "code",
   "execution_count": null,
   "id": "9b0b4afd",
   "metadata": {},
   "outputs": [],
   "source": []
  },
  {
   "cell_type": "code",
   "execution_count": null,
   "id": "5c4df350",
   "metadata": {},
   "outputs": [],
   "source": []
  },
  {
   "cell_type": "code",
   "execution_count": null,
   "id": "5a9a6d16",
   "metadata": {},
   "outputs": [],
   "source": []
  },
  {
   "cell_type": "code",
   "execution_count": null,
   "id": "86c60f5f",
   "metadata": {},
   "outputs": [],
   "source": []
  },
  {
   "cell_type": "code",
   "execution_count": null,
   "id": "b45b5484",
   "metadata": {},
   "outputs": [],
   "source": [
    "#2.3.\tТестирование модели\n",
    "#В данном разделе показывается ошибка каждой модели на тренировочной и тестирующей части выборки. \n",
    "#Обосновывается выбор модели."
   ]
  },
  {
   "cell_type": "code",
   "execution_count": null,
   "id": "5af46bf9",
   "metadata": {},
   "outputs": [],
   "source": []
  },
  {
   "cell_type": "code",
   "execution_count": null,
   "id": "59cc0e86",
   "metadata": {},
   "outputs": [],
   "source": []
  },
  {
   "cell_type": "code",
   "execution_count": null,
   "id": "7950dc5c",
   "metadata": {},
   "outputs": [],
   "source": []
  },
  {
   "cell_type": "markdown",
   "id": "1bedf863",
   "metadata": {},
   "source": [
    "# ИНС для Соотношения матрица-наполнитель"
   ]
  },
  {
   "cell_type": "code",
   "execution_count": 72,
   "id": "8a8951a2",
   "metadata": {},
   "outputs": [
    {
     "name": "stdout",
     "output_type": "stream",
     "text": [
      "(645, 12) (277, 12)\n",
      "(645,) (277,)\n"
     ]
    }
   ],
   "source": [
    "# Выделение целевой переменной и разделение на тренировочную и тестовую части\n",
    "X = df.drop(['Соотношение матрица-наполнитель'], axis=1)\n",
    "y = df['Соотношение матрица-наполнитель']\n",
    "\n",
    "X_train, X_test, y_train, y_test = train_test_split(X, y, test_size = 0.3, random_state=42)\n",
    "print(X_train.shape, X_test.shape)\n",
    "print(y_train.shape, y_test.shape)"
   ]
  },
  {
   "cell_type": "code",
   "execution_count": null,
   "id": "9f711699",
   "metadata": {},
   "outputs": [],
   "source": []
  },
  {
   "cell_type": "code",
   "execution_count": null,
   "id": "867ce4c3",
   "metadata": {},
   "outputs": [],
   "source": []
  },
  {
   "cell_type": "code",
   "execution_count": null,
   "id": "1ff52f04",
   "metadata": {},
   "outputs": [],
   "source": []
  },
  {
   "cell_type": "code",
   "execution_count": null,
   "id": "764a9b36",
   "metadata": {},
   "outputs": [],
   "source": [
    "ANN = "
   ]
  },
  {
   "cell_type": "code",
   "execution_count": null,
   "id": "89b1d3c5",
   "metadata": {},
   "outputs": [],
   "source": []
  },
  {
   "cell_type": "code",
   "execution_count": null,
   "id": "bd2c6882",
   "metadata": {},
   "outputs": [],
   "source": []
  },
  {
   "cell_type": "code",
   "execution_count": null,
   "id": "01bcb150",
   "metadata": {},
   "outputs": [],
   "source": []
  },
  {
   "cell_type": "code",
   "execution_count": null,
   "id": "1464138c",
   "metadata": {},
   "outputs": [],
   "source": []
  },
  {
   "cell_type": "code",
   "execution_count": null,
   "id": "1061b384",
   "metadata": {},
   "outputs": [],
   "source": []
  },
  {
   "cell_type": "code",
   "execution_count": null,
   "id": "f35e3c23",
   "metadata": {},
   "outputs": [],
   "source": []
  },
  {
   "cell_type": "code",
   "execution_count": null,
   "id": "8ce51f43",
   "metadata": {},
   "outputs": [],
   "source": []
  },
  {
   "cell_type": "code",
   "execution_count": null,
   "id": "b0dafd1b",
   "metadata": {},
   "outputs": [],
   "source": []
  },
  {
   "cell_type": "code",
   "execution_count": null,
   "id": "6450720f",
   "metadata": {},
   "outputs": [],
   "source": []
  },
  {
   "cell_type": "code",
   "execution_count": null,
   "id": "578940ae",
   "metadata": {},
   "outputs": [],
   "source": []
  },
  {
   "cell_type": "code",
   "execution_count": null,
   "id": "a089fea1",
   "metadata": {},
   "outputs": [],
   "source": []
  },
  {
   "cell_type": "code",
   "execution_count": null,
   "id": "5681f65d",
   "metadata": {},
   "outputs": [],
   "source": []
  },
  {
   "cell_type": "code",
   "execution_count": null,
   "id": "4db15e3b",
   "metadata": {},
   "outputs": [],
   "source": []
  },
  {
   "cell_type": "code",
   "execution_count": null,
   "id": "fc8212ba",
   "metadata": {},
   "outputs": [],
   "source": []
  },
  {
   "cell_type": "code",
   "execution_count": null,
   "id": "1e2e7376",
   "metadata": {},
   "outputs": [],
   "source": []
  },
  {
   "cell_type": "code",
   "execution_count": null,
   "id": "6f001bcc",
   "metadata": {},
   "outputs": [],
   "source": []
  },
  {
   "cell_type": "code",
   "execution_count": null,
   "id": "ec4db12d",
   "metadata": {},
   "outputs": [],
   "source": []
  },
  {
   "cell_type": "code",
   "execution_count": null,
   "id": "3e3fab39",
   "metadata": {},
   "outputs": [],
   "source": []
  },
  {
   "cell_type": "code",
   "execution_count": null,
   "id": "f33099d0",
   "metadata": {},
   "outputs": [],
   "source": []
  },
  {
   "cell_type": "code",
   "execution_count": null,
   "id": "6d4e393e",
   "metadata": {},
   "outputs": [],
   "source": []
  },
  {
   "cell_type": "code",
   "execution_count": null,
   "id": "ca114606",
   "metadata": {},
   "outputs": [],
   "source": []
  },
  {
   "cell_type": "code",
   "execution_count": null,
   "id": "1580c5cf",
   "metadata": {},
   "outputs": [],
   "source": []
  },
  {
   "cell_type": "code",
   "execution_count": null,
   "id": "7976d7c1",
   "metadata": {},
   "outputs": [],
   "source": []
  },
  {
   "cell_type": "code",
   "execution_count": null,
   "id": "0ec9db0d",
   "metadata": {},
   "outputs": [],
   "source": []
  },
  {
   "cell_type": "code",
   "execution_count": null,
   "id": "e2891792",
   "metadata": {},
   "outputs": [],
   "source": []
  },
  {
   "cell_type": "code",
   "execution_count": null,
   "id": "36c7904e",
   "metadata": {},
   "outputs": [],
   "source": [
    "from sklearn.neighbors import KNeighborsClassifier\n",
    "from sklearn.linear_model import LogisticRegression\n",
    "from sklearn.svm import SVC, LinearSVC\n",
    "from sklearn.metrics import roc_auc_score, roc_curve\n",
    "\n",
    "# метод для рисования ROC-AUC графика\n",
    "from sklearn.metrics import plot_roc_curve, ConfusionMatrixDisplay\n",
    "\n",
    "knn_baseline = KNeighborsClassifier()\n",
    "knn_baseline.fit(x_train, y_train)\n",
    "\n",
    "y_train_predicted_knn = knn_baseline.predict_proba(x_train)[:, 1]\n",
    "y_val_predicted_knn = knn_baseline.predict_proba(x_val)[:, 1]\n",
    "\n",
    "roc_knn_train = roc_auc_score(ya_train, y_train_predicted_knn)\n",
    "roc_knn_val = roc_auc_score(y_val, y_val_predicted_knn)\n",
    "\n",
    "\n",
    "####\n",
    "print(f\"ROC AUC на обучающей {roc_knn_train}\")\n",
    "print(f\"ROC AUC на тестовой {roc_knn_val}\")\n",
    "\n",
    "\n",
    "display = ConfusionMatrixDisplay.from_estimator(\n",
    "    knn_baseline,\n",
    "    x_train,\n",
    "    y_train,\n",
    "    cmap=plt.cm.Blues,\n",
    ")\n",
    "display.ax_.set_title('Матрица ошибок для обучающей выборки')\n",
    "display.ax_.set_ylabel('Истинные значения')\n",
    "display.ax_.set_xlabel('Предсказанные значения')\n",
    "\n",
    "####\n",
    "display = ConfusionMatrixDisplay.from_estimator(\n",
    "    knn_baseline,\n",
    "    x_val,\n",
    "    y_val,\n",
    "    cmap=plt.cm.Blues,\n",
    "    normalize='true',\n",
    ")\n",
    "display.ax_.set_title('Матрица ошибок для валидационной выборки')\n",
    "display.ax_.set_ylabel('Истинные значения')\n",
    "display.ax_.set_xlabel('Предсказанные значения')\n"
   ]
  },
  {
   "cell_type": "code",
   "execution_count": null,
   "id": "fa5750d6",
   "metadata": {},
   "outputs": [],
   "source": [
    "from sklearn.tree import DecisionTreeClassifier, plot_tree, export_text\n",
    "\n",
    "from sklearn.metrics import roc_auc_score\n",
    "from sklearn.metrics import ConfusionMatrixDisplay\n",
    "\n",
    "####\n",
    "tree_baseline = DecisionTreeClassifier()\n",
    "tree_baseline.fit(x_train, y_train)\n",
    "\n",
    "y_train_predicted_tree = tree_baseline.predict_proba(x_train)\n",
    "y_val_predicted_tree = tree_baseline.predict_proba(x_val)\n",
    "\n",
    "roc_tree_train = roc_auc_score(y_train, y_train_predicted_tree, multi_class='ovr')\n",
    "roc_tree_val = roc_auc_score(y_val, y_val_predicted_tree, multi_class='ovr')\n",
    "\n",
    "print(f\"ROC AUC на обучающей {roc_tree_train}\")\n",
    "print(f\"ROC AUC на тестовой {roc_tree_val}\")\n",
    "\n",
    "####\n",
    "roc_tree_train = roc_auc_score(y_train, y_train_predicted_tree, multi_class='ovo')\n",
    "roc_tree_val = roc_auc_score(y_val, y_val_predicted_tree, multi_class='ovo')\n",
    "\n",
    "print(f\"ROC AUC на обучающей {roc_tree_train}\")\n",
    "print(f\"ROC AUC на тестовой {roc_tree_val}\")\n",
    "\n",
    "####\n",
    "display = ConfusionMatrixDisplay.from_estimator(\n",
    "    tree_baseline,\n",
    "    x_train,\n",
    "    y_train,\n",
    "    cmap=plt.cm.Blues,\n",
    ")\n",
    "display.ax_.set_title('Матрица ошибок для обучающей выборки')\n",
    "display.ax_.set_ylabel('Истинные значения')\n",
    "display.ax_.set_xlabel('Предсказанные значения')"
   ]
  },
  {
   "cell_type": "code",
   "execution_count": null,
   "id": "18a70d20",
   "metadata": {},
   "outputs": [],
   "source": []
  },
  {
   "cell_type": "code",
   "execution_count": null,
   "id": "1e856d8e",
   "metadata": {},
   "outputs": [],
   "source": []
  },
  {
   "cell_type": "code",
   "execution_count": null,
   "id": "1264a470",
   "metadata": {},
   "outputs": [],
   "source": []
  },
  {
   "cell_type": "code",
   "execution_count": 29,
   "id": "44fc9493",
   "metadata": {},
   "outputs": [
    {
     "data": {
      "image/png": "[encoded data removed]",
      "text/plain": [
       "<Figure size 847.125x500 with 1 Axes>"
      ]
     },
     "metadata": {},
     "output_type": "display_data"
    }
   ],
   "source": []
  },
  {
   "cell_type": "code",
   "execution_count": null,
   "id": "f40a14da",
   "metadata": {},
   "outputs": [],
   "source": []
  },
  {
   "cell_type": "code",
   "execution_count": null,
   "id": "f26b1c45",
   "metadata": {},
   "outputs": [],
   "source": []
  },
  {
   "cell_type": "code",
   "execution_count": null,
   "id": "cd240578",
   "metadata": {},
   "outputs": [],
   "source": []
  },
  {
   "cell_type": "code",
   "execution_count": null,
   "id": "416c093b",
   "metadata": {},
   "outputs": [],
   "source": [
    "# pipeline\n",
    "# Формулирование проблемы (определение цели, оценка текущей ситуации, подготовка плана)\n",
    "# Сбор данных (сбор, описание, изучение, проверка качества данных)\n",
    "# Предобработка данных (выборка, очистка, генерация, интеграция, форматирование)\n",
    "# Проектирование (выбор алгоритмов), разработка, обучение, тестирование (оценка качества модели) - циклично\n",
    "# Постобработка результатов (оценка результатов, процесса, определение следующих шагов)\n",
    "# Введение в эксплуатацию (внедрение, планирование мониторинга и поддержки, подготовка отчета, ревью проекта)\n",
    "# Решение проблемы"
   ]
  },
  {
   "cell_type": "code",
   "execution_count": null,
   "id": "25a9887e",
   "metadata": {},
   "outputs": [],
   "source": [
    "#Структура базового проекта\n",
    "\n",
    "#README.md файл с инструкцией для запуска и любой важной информацией\n",
    "#requirements.txt файл, в котором перечислены все необходимые зависимости\n",
    "#файлы *. py модули программы\n",
    "\n",
    "#data папка с наборами данных, включающая в себя папки (можно разбить эти папки на train и test):\n",
    "    # raw сырые данные, то есть данные в том виде, в котором были получены\n",
    "    # processed данные после различных преобразований (удаление выбросов, заполнение пропусков и т.д.)\n",
    "    \n",
    "#models папка с моделями и их параметрами Внутри может быть создана папка logs с логами обучения\n",
    "\n",
    "#notebooks папка с «тетрадками»:\n",
    "    #eda [Exploratory Data Analysis (Data Exploration )]исследование данных.\n",
    "    #poc [Proof of Concept] проверка концепции. Разработка некоторого прототипа или его частей, которые отражают\n",
    "                            #основную идею. Проверка осуществимости и применимости различных методов\n",
    "    #modeling построение модели и ее обучение\n",
    "    #evaluation оценка качества модели\n",
    "\n",
    "#src (source code) папка с исходным кодом программы, которая может делиться на следующие подпапки:\n",
    "    #preparation подготовка данных (выгрузка из базы данных, чтение из файла...). Все, что нужно сделать перед обработкой\n",
    "    #processing обработка данных: чистка, трансформации, преобразования\n",
    "    #modeling построение модели\n",
    "            #В данной структуре удобно создавать файлы utils py (для всяких вспомогательных функций), \n",
    "                                                    #  train py (для обучения модели),\n",
    "                                                    #  predict py (для получения предсказаний)\n",
    "\n",
    "#test папка с тестами (для кода программы, а не модели!)"
   ]
  },
  {
   "cell_type": "code",
   "execution_count": null,
   "id": "e8ff1828",
   "metadata": {},
   "outputs": [],
   "source": []
  },
  {
   "cell_type": "code",
   "execution_count": null,
   "id": "ccac8947",
   "metadata": {},
   "outputs": [],
   "source": []
  },
  {
   "cell_type": "code",
   "execution_count": null,
   "id": "5457a46c",
   "metadata": {},
   "outputs": [],
   "source": [
    "# функция для построения графика обучения\n",
    "def plot_loss(history):\n",
    "    fig = plt.figure(figsize=(15,5))\n",
    "    plt.subplot(121)\n",
    "    plt.plot(history.history['accuracy'], label='accuracy')\n",
    "    plt.plot(history.history['val_accuracy'], label='val_accuracy')\n",
    "    plt.xlabel('Эпоха')\n",
    "    plt.ylabel('Точность')\n",
    "    plt.legend()\n",
    "    plt.grid(True)\n",
    "    plt.subplot(122)\n",
    "    plt.plot(history.history['loss'], label='loss')\n",
    "    plt.plot(history.history['val_loss'], label='val_loss')\n",
    "    plt.xlabel('Эпоха')\n",
    "    plt.ylabel('Потери')\n",
    "    plt.legend()\n",
    "    plt.grid(True)"
   ]
  },
  {
   "cell_type": "code",
   "execution_count": null,
   "id": "e1cb9532",
   "metadata": {},
   "outputs": [],
   "source": [
    "# создаем модель нейросети по заданным условиям, смотрим количество оптимизируемых параметров\n",
    "model = Sequential()\n",
    "model.add(Dense(128, input_dim = 784, activation=\"relu\"))\n",
    "model.add(Dense(128, input_dim = 784, activation=\"relu\"))\n",
    "model.add(Dense(10, activation=\"softmax\"))\n",
    "model.compile(loss=\"categorical_crossentropy\", optimizer=\"adam\", metrics=[\"accuracy\"])\n",
    "print(model.summary())"
   ]
  },
  {
   "cell_type": "code",
   "execution_count": null,
   "id": "89ae4cbd",
   "metadata": {},
   "outputs": [],
   "source": [
    "# итого параметров 100480+16512+1290 = 118282\n",
    "\n",
    "# обучение инс 20 эпох (увеличение числа эпох дает очень мало дальнейшего снижения потерь)\n",
    "history = model.fit(X_train, y_train, batch_size=128, epochs=20, verbose=1, validation_split = 0.2)\n",
    "plot_loss(history)"
   ]
  },
  {
   "cell_type": "code",
   "execution_count": null,
   "id": "21dd7b1a",
   "metadata": {},
   "outputs": [],
   "source": []
  },
  {
   "cell_type": "code",
   "execution_count": null,
   "id": "bb37d8c3",
   "metadata": {},
   "outputs": [],
   "source": []
  },
  {
   "cell_type": "code",
   "execution_count": null,
   "id": "2ee4e56f",
   "metadata": {},
   "outputs": [],
   "source": [
    "pip freeze > requirements.txt\n"
   ]
  },
  {
   "cell_type": "code",
   "execution_count": null,
   "id": "e82940be",
   "metadata": {},
   "outputs": [],
   "source": []
  },
  {
   "cell_type": "code",
   "execution_count": null,
   "id": "dca54ff7",
   "metadata": {},
   "outputs": [],
   "source": []
  },
  {
   "cell_type": "code",
   "execution_count": null,
   "id": "8b6f5840",
   "metadata": {},
   "outputs": [],
   "source": []
  }
 ],
 "metadata": {
  "kernelspec": {
   "display_name": "Python 3 (ipykernel)",
   "language": "python",
   "name": "python3"
  },
  "language_info": {
   "codemirror_mode": {
    "name": "ipython",
    "version": 3
   },
   "file_extension": ".py",
   "mimetype": "text/x-python",
   "name": "python",
   "nbconvert_exporter": "python",
   "pygments_lexer": "ipython3",
   "version": "3.9.13"
  }
 },
 "nbformat": 4,
 "nbformat_minor": 5
}
