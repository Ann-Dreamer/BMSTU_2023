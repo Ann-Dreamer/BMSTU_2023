{
 "cells": [
  {
   "cell_type": "code",
   "execution_count": null,
   "id": "e2b170b5",
   "metadata": {},
   "outputs": [],
   "source": [
    "#импорты\n",
    "import numpy as np\n",
    "import pandas as pd\n",
    "import sklearn\n",
    "import matplotlib.pyplot as plt\n",
    "import seaborn as sns\n",
    "%matplotlib inline"
   ]
  },
  {
   "cell_type": "code",
   "execution_count": null,
   "id": "82ad0699",
   "metadata": {},
   "outputs": [],
   "source": [
    "#загрузка и объединение датасета"
   ]
  },
  {
   "cell_type": "code",
   "execution_count": null,
   "id": "6c291006",
   "metadata": {},
   "outputs": [],
   "source": [
    "#изучение датасета"
   ]
  },
  {
   "cell_type": "code",
   "execution_count": null,
   "id": "ab8c2546",
   "metadata": {},
   "outputs": [],
   "source": [
    "#1.\tАналитическая часть\n",
    "#1.1.\tПостановка задачи.\n",
    "#В данном разделе приводится в текстовом виде смысловое описание решаемой задачи анализа данных. \n",
    "#Также дается характеристика датасета – число входных и выходных переменных (факторов), объем выборки, \n",
    "#характеристика выборки с точки зрения ее особенностей (выбросы, пропуски и т.д.).\n"
   ]
  },
  {
   "cell_type": "code",
   "execution_count": null,
   "id": "e8ff1828",
   "metadata": {},
   "outputs": [],
   "source": [
    "#1.2.\tОписание используемых методов\n",
    "#В данном разделе приводится краткое описание методов (не более 1 страницы на каждый), \n",
    "#которые предполагается использовать для решения поставленной задачи. \n",
    "#Необходимо обратить особое внимание на достоинства, недостатки и области применения каждого из методов. \n",
    "#Кроме того, желательно составление итоговой сравнительной таблицы с указанием среди прочего \n",
    "#априорных предпосылок к работоспособности каждого метода.\n",
    "#Линейная регрессия\n",
    "#Логистическая регрессия\n",
    "#SVM (метод опорных векторов)\n",
    "#KNN (метод k-ближайших соседей)\n",
    "#Метод k-средних\n",
    "#Дерево решений\n",
    "#Random Forest\n",
    "#Наивный байесовский классификатор\n",
    "#AdaBoost, или адаптивный бустинг\n",
    "#Gradient Boost и XGBoost\n",
    "#LightGBM\n",
    "#Алгоритмы сокращения размеров\n",
    "#Алгоритмы усиления градиента\n",
    "#Нейросетевая регрессия\n",
    "#Регрессия LASSO\n",
    "#Гребневая регрессия (ридж-регрессия)\n",
    "#Регрессия ElasticNet\n",
    "\n"
   ]
  },
  {
   "cell_type": "code",
   "execution_count": null,
   "id": "f558917c",
   "metadata": {},
   "outputs": [],
   "source": [
    "#1.3.\tРазведочный анализ данных\n",
    "#В данном разделе приводится краткое описание методов разведочного анализа данных, \n",
    "#которые используются для первоначального анализа. \n"
   ]
  },
  {
   "cell_type": "code",
   "execution_count": null,
   "id": "ef84b251",
   "metadata": {},
   "outputs": [],
   "source": [
    "#предобработка данных"
   ]
  },
  {
   "cell_type": "code",
   "execution_count": null,
   "id": "925f61d7",
   "metadata": {},
   "outputs": [],
   "source": [
    "#2.\tПрактическая часть\n",
    "#2.1.\tПредобработка данных\n",
    "#В данном разделе приводится графики распределения для каждого признака до и после нормализации, \n",
    "#указать максимальные и минимальные значения. \n"
   ]
  },
  {
   "cell_type": "code",
   "execution_count": null,
   "id": "6670390c",
   "metadata": {},
   "outputs": [],
   "source": [
    "#модели и нейросеть"
   ]
  },
  {
   "cell_type": "code",
   "execution_count": null,
   "id": "ccac8947",
   "metadata": {},
   "outputs": [],
   "source": []
  },
  {
   "cell_type": "code",
   "execution_count": null,
   "id": "5457a46c",
   "metadata": {},
   "outputs": [],
   "source": []
  },
  {
   "cell_type": "code",
   "execution_count": null,
   "id": "bb37d8c3",
   "metadata": {},
   "outputs": [],
   "source": []
  },
  {
   "cell_type": "code",
   "execution_count": null,
   "id": "02a88a5b",
   "metadata": {},
   "outputs": [],
   "source": [
    "#2.2.\tРазработка и обучение модели\n",
    "#В данной части приводится список моделей, которые будут использоваться для прогноза \n",
    "#модуля упругости при растяжении и прочности при растяжении. \n"
   ]
  },
  {
   "cell_type": "code",
   "execution_count": null,
   "id": "5fb9ca57",
   "metadata": {},
   "outputs": [],
   "source": [
    "#2.3.\tТестирование модели\n",
    "#В данном разделе показывается ошибка каждой модели на тренировочной и тестирующей части выборки. \n",
    "#Обосновывается выбор модели.\n"
   ]
  },
  {
   "cell_type": "code",
   "execution_count": null,
   "id": "eeca5974",
   "metadata": {},
   "outputs": [],
   "source": [
    "#2.4.\tНаписать нейронную сеть, которая будет рекомендовать соотношение матрица. \n",
    "#Описывается выбранная архитектура нейронной сети и ее результаты.\n"
   ]
  },
  {
   "cell_type": "code",
   "execution_count": null,
   "id": "7e9bb7c3",
   "metadata": {},
   "outputs": [],
   "source": [
    "#приложение"
   ]
  },
  {
   "cell_type": "code",
   "execution_count": null,
   "id": "365cf9e4",
   "metadata": {},
   "outputs": [],
   "source": [
    "#2.5.\tРазработка приложения\n",
    "#Описать функционал приложения и краткую инструкцию использования.\n"
   ]
  },
  {
   "cell_type": "code",
   "execution_count": null,
   "id": "8b6f5840",
   "metadata": {},
   "outputs": [],
   "source": [
    "#2.6.\tСоздание удаленного репозитория и загрузка результатов работы на него.\n",
    "#Указывается страница слушателя, созданный репозиторий, коммиты в репозитории.\n"
   ]
  }
 ],
 "metadata": {
  "kernelspec": {
   "display_name": "Python 3 (ipykernel)",
   "language": "python",
   "name": "python3"
  },
  "language_info": {
   "codemirror_mode": {
    "name": "ipython",
    "version": 3
   },
   "file_extension": ".py",
   "mimetype": "text/x-python",
   "name": "python",
   "nbconvert_exporter": "python",
   "pygments_lexer": "ipython3",
   "version": "3.9.13"
  }
 },
 "nbformat": 4,
 "nbformat_minor": 5
}
